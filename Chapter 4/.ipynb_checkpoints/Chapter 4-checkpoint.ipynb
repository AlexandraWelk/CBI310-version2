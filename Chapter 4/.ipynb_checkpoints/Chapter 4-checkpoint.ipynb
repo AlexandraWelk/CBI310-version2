{
 "cells": [
  {
   "cell_type": "markdown",
   "metadata": {},
   "source": [
    "# Chapter 4: Livestock\n"
   ]
  },
  {
   "cell_type": "markdown",
   "metadata": {},
   "source": [
    "Now that we have an bit of chemical engineering understanding on food crop agriculture it is time to have a look at annimals or livestock. Most humans prefer to have meat as part of their diet and accordingly an additional processing step have to be included after the fotosynthesis process before the humans can have their food. Important to understand that annimals requires food from plants similar to humans. It all start with the autotrophs (https://en.wikipedia.org/wiki/Autotroph) before the heterotrophs (https://en.wikipedia.org/wiki/Heterotroph) can eat.\n",
    "\n",
    "One important question to answer is whether meat from annimals is required in the human diet. Meat adds a of flavour to food, but vegetarians will argue that it is not a requirement in the human diet. Off course vegetarians still consume eggs and milk and thus livestock farming is still required to some extend. Only vegans live on plant based food only and they will argue that they get all the nutrition required for human health. Have a look at the following video and develop your own opinion on the statements used. We'll have a short discussion in class on the video.\n",
    "\n",
    "https://youtu.be/GhCmcQaJmso\n",
    "\n",
    "So for this year the focus will be on chicken farming. Given the very simple (and slightly incomplete) diet of chapter 2, we'll extend the human diet to include chicken meat and eggs. In addition we'll add ther following crop(?) to the chicken diet. For this calculation we'll have to perform two consecutive mass balances, fisrst the ....\n"
   ]
  },
  {
   "cell_type": "code",
   "execution_count": null,
   "metadata": {},
   "outputs": [],
   "source": []
  }
 ],
 "metadata": {
  "kernelspec": {
   "display_name": "Python 3",
   "language": "python",
   "name": "python3"
  },
  "language_info": {
   "codemirror_mode": {
    "name": "ipython",
    "version": 3
   },
   "file_extension": ".py",
   "mimetype": "text/x-python",
   "name": "python",
   "nbconvert_exporter": "python",
   "pygments_lexer": "ipython3",
   "version": "3.7.6"
  }
 },
 "nbformat": 4,
 "nbformat_minor": 4
}
