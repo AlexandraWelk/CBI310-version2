{
 "cells": [
  {
   "cell_type": "markdown",
   "metadata": {},
   "source": [
    "# Chapter 4: Livestock\n"
   ]
  },
  {
   "cell_type": "markdown",
   "metadata": {},
   "source": [
    "<img src=\"Chickens.jpg\" width=\"500\"/>"
   ]
  },
  {
   "cell_type": "markdown",
   "metadata": {},
   "source": [
    "## What is in a name?\n",
    "\n",
    "Have you ever heard about [*Gallus gallus domesticus*](https://en.wikipedia.org/wiki/Chicken)?\n",
    "\n",
    "<img src=\"chicken 2.png\" width=\"250\"/>\n",
    "\n",
    "Before we get into doing calculations on chicken farming, we need to talk a little about classification.\n",
    "\n",
    "\n",
    "Every living thing requires a scientific name. The organisation structure for giving names changed throughout the last centuries, but let’s start with a simple introduction:\n",
    "\n",
    "[Video: Classification](https://youtu.be/SA02un37GFQ)\n",
    "\n",
    "Lots of different subdivisions before you get to the genus and specie names. Don’t bother trying to remember all the different classes. Let’s rather think about how one develops a system of classification. Let’s see what Paul Andersen has to say on the topic:\n",
    "\n",
    "[Video: Paul Anderson on classification](https://www.youtube.com/watch?v=tYL_8gv7RiE)\n",
    "\n",
    "The important part of this video is that DNA is the key to perform proper classification. Prior to the age of understanding DNA, classification was based on looks and functionality, but have a look at these two bugs, they are completely different by name! How long ago did these two organisms share a common ancestor?\n",
    "\n",
    "<img src=\"bug1.png\" width=\"650\" />\n",
    "  \n",
    "_Glomeris marginata and Armadillidium vulgare (left to right)_\n",
    "\n",
    "So it all has to do with the origin of species. Accordingly the map of evolution becomes the map of correct classification. All living things share a common ancestor and are more similar to you than what you think. Check this out:\n",
    "\n",
    "[Video: Molecules of evolution](https://www.youtube.com/watch?v=nvJFI3ChOUU)\n",
    "\n",
    "Interestinghow the molecules that we have discussed in the previous chapters are used by all these different life forms. You should realise how the tree of life represents a timeline of evolutionary development. The following interactive chart will give you an idea, try and develop a feeling for the chart with special emphasis on the initial split points between bacteria, archea and eukaryotes. Try and play with the map to determine the common ancestors of two vastly different species. When for example did humans split from mushrooms (fungi)😃?\n",
    "\n",
    "[Interactive map: From bacteria to humans](https://www.evogeneao.com/en)\n",
    "\n",
    "For more information on archaea, a relative recent discovery check this out:\n",
    "\n",
    "[Video: Archaea](https://www.youtube.com/watch?v=0W-uItr5M4g)\n",
    "\n",
    "So whether we are working with humans, plants, chicken, cattle or microbes (later chapters), we all share a common ancestor. We are in fact all connected!\n",
    "\n",
    "<img src=\"think.jpeg\" width=\"450\" />"
   ]
  },
  {
   "cell_type": "markdown",
   "metadata": {},
   "source": [
    "## Mass balances over livestock\n",
    "\n",
    "\n",
    "Now that we have an bit of chemical engineering understanding on food crop agriculture it is time to have a look at annimals or livestock. Most humans prefer to have meat as part of their diet and accordingly an additional processing step have to be included after the fotosynthesis process before the humans can have their food. Important to understand that annimals requires food from plants similar to humans. It all start with the [autotrophs](https://en.wikipedia.org/wiki/Autotroph) before the [heterotrophs](https://en.wikipedia.org/wiki/Heterotroph)can eat.\n",
    "\n",
    "One important question to answer is whether meat from annimals is required in the human diet. Meat adds a of flavour to food, but vegetarians will argue that it is not a requirement in the human diet. Off course vegetarians still consume eggs and milk and thus livestock farming is still required to some extend. Only vegans live on plant based food only and they will argue that they get all the nutrition required for human health. Have a look at the following video and develop your own opinion on the statements used. We'll have a short discussion in class on the video.\n",
    "\n",
    "https://youtu.be/GhCmcQaJmso\n",
    "\n",
    "So for this year the focus will be on chicken farming. Given the very simple (and slightly incomplete) diet of chapter 2, we'll extend the human diet to include chicken meat and eggs. In addition we'll add ther following crop(?) to the chicken diet. For this calculation we'll have to perform two consecutive mass balances, fisrst the ....\n"
   ]
  },
  {
   "cell_type": "code",
   "execution_count": null,
   "metadata": {},
   "outputs": [],
   "source": []
  }
 ],
 "metadata": {
  "kernelspec": {
   "display_name": "Python 3 (ipykernel)",
   "language": "python",
   "name": "python3"
  },
  "language_info": {
   "codemirror_mode": {
    "name": "ipython",
    "version": 3
   },
   "file_extension": ".py",
   "mimetype": "text/x-python",
   "name": "python",
   "nbconvert_exporter": "python",
   "pygments_lexer": "ipython3",
   "version": "3.9.13"
  }
 },
 "nbformat": 4,
 "nbformat_minor": 4
}
