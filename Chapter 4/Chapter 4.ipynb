{
 "cells": [
  {
   "cell_type": "markdown",
   "metadata": {},
   "source": [
    "# Chapter 4: Livestock\n"
   ]
  },
  {
   "cell_type": "markdown",
   "metadata": {},
   "source": [
    "In chapter 3 we have modelled the growth of the [autotrophs](https://en.wikipedia.org/wiki/Autotroph) and towards the end of this chapter we'll be looking at the production of [heterotrophs](https://en.wikipedia.org/wiki/Heterotroph) for human consumption. But before this we want to look bit deeper into the origin of photosynthesis and the minerals required to grow the autotrophs. As engineers, we need to develop our understanding of biology in order to look at sustainability in a more holistic manner. Accordingly we will have a look at another important event in evolution as well as the impact of agricultural nutrients on the environment before we go onto the mass balances of farming with chickens. Just remember, it is all connected eventhough it might not seem like it at this stage.\n",
    "\n",
    "You have seen in your calculations of chapter 3 that oxygen is a product from growing foodcrops. Oxygen as you might know is very important to a wide range of organisms living on earth, including yourself. Did you know that our atmosphere did not alwys contain oxygen?\n",
    "\n",
    "The product of oxygen is off course very important. Photosynthesis was only discovered about 3 billion years ago and completely changed the course of earth's development. The following video can shed some light on this:\n",
    " \n",
    "[Video: The start of oxygen](https://youtu.be/DE4CPmTH3xg)\n",
    "\n",
    "Very interesting. The theme of [endosymbiosis](https://en.wikipedia.org/wiki/Endosymbiont) already discussed in chapter 1 is also occuring here where the cyanobacteria developed into the chloropast similar to the development of the mitochondria. The accumulation of oxygen into the atmosphere, caused by cyanobacteria is sometimes referred to as the [great oxygenation event](https://earthhow.com/great-oxygenation-event/). All eukaryotes basically developed because of oxygen availability in the atmosphere. Once evolution discovered aerobic respiration the path was set for the the development of multicellular organisms, given that much bigger quantities of ATP could be generated with the avaialbility of oxygen. Of course, cyanobacteria preceded this event and effectively enabled the formation of the mitochondria. It is good to understand where we come from. \n"
   ]
  },
  {
   "cell_type": "markdown",
   "metadata": {},
   "source": [
    "Very interesting. The theme of [endosymbiosis](https://en.wikipedia.org/wiki/Endosymbiont) already discussed in chapter 1 is also occuring here where the cyanobacteria developed into the chloropast similar to the development of the mitochondria. The accumulation of oxygen into the atmosphere, caused by cyanobacteria is sometimes referred to as the [great oxygenation event](https://earthhow.com/great-oxygenation-event/). All eukaryotes basically developed because of oxygen availability in the atmosphere. Once evolution discovered aerobic respiration the path was set for the the development of multicellular organisms, given that much bigger quantities of ATP could be generated with the avaialbility of oxygen. Of course, cyanobacteria preceded this event and effectively enabled the formation of the mitochondria. It is good to understand where we come from. \n",
    "\n",
    "From the problem in chapter 3 it is evident that CO₂, water nitrogen and minerals are the 'reagents' for the photosyntheis reaction. In the section above we focussed on the oxygen product of fotosynthesis and it this section we want to focus on the nitrogen and minerals that enable fotosynthesis.The following video is a usefull introduction to plant nutrients.\n",
    "\n",
    "[Video: Plant nutrients](https://www.youtube.com/watch?v=w_x-WDdQdxI)\n"
   ]
  },
  {
   "cell_type": "markdown",
   "metadata": {},
   "source": [
    "Fertilizer is the term used for nutrients that plants require to grow. Important here to distiguish between organic and synthetic fertilizer.  Have a look at the following video to give you some perspective on the importance of nitrogen in plants.\n",
    "\n",
    "[Video: Nitrogen in agriculture](https://youtu.be/hK4vXKaBJko)\n",
    "\n",
    "So Fritz Harber was initially the hero, but today it is estimated that 50% of all synthetic nitrogen fertilizer is spilled to the groundwater. The environmental consequences of this is massive, some say it is as big a problem as global warming. The following article provide some perspective:\n",
    "\n",
    "[The disaster of nitogen pollution](https://e360.yale.edu/features/can-the-world-find-solutions-to-the-nitrogen-pollution-crisis)\n",
    "\n",
    "One might wonder how nitrogen was obtained used by plants before the agricultural revolution. The following video gives you a good idea of how the nitrogen cycle works in nature: \n",
    "\n",
    "[Nitrogen cycle](https://youtu.be/A8qTRBc8Bws)\n",
    "\n",
    "Remember from chapter 2 and chapter 3 how nitrogen is integral to amino acids and nucleotides. This is why plants need nitrogen. We of course also need nitrogen for our amino acids and nucleotides and we can either get it from plants of from annimals (that got their nitrogen from plants)\n",
    "\n"
   ]
  },
  {
   "cell_type": "code",
   "execution_count": null,
   "metadata": {},
   "outputs": [],
   "source": []
  },
  {
   "cell_type": "markdown",
   "metadata": {},
   "source": [
    "Now that we have an bit of chemical engineering understanding on food crop agriculture it is time to have a look at annimals or livestock. Most humans prefer to have meat as part of their diet and accordingly an additional processing step have to be included after the fotosynthesis process before the humans can have their food. Important to understand that annimals requires food from plants similar to humans. It all start with the [autotrophs](https://en.wikipedia.org/wiki/Autotroph) before the [heterotrophs](https://en.wikipedia.org/wiki/Heterotroph)can eat.\n",
    "\n",
    "One important question to answer is whether meat from annimals is required in the human diet. Meat adds a of flavour to food, but vegetarians will argue that it is not a requirement in the human diet. Off course vegetarians still consume eggs and milk and thus livestock farming is still required to some extend. Only vegans live on plant based food only and they will argue that they get all the nutrition required for human health. Have a look at the following video and develop your own opinion on the statements used. We'll have a short discussion in class on the video.\n",
    "\n",
    "https://youtu.be/GhCmcQaJmso\n",
    "\n",
    "So for this year the focus will be on chicken farming. Given the very simple (and slightly incomplete) diet of chapter 2, we'll extend the human diet to include chicken meat and eggs. In addition we'll add ther following crop(?) to the chicken diet. For this calculation we'll have to perform two consecutive mass balances, fisrst the ....\n"
   ]
  },
  {
   "cell_type": "code",
   "execution_count": null,
   "metadata": {},
   "outputs": [],
   "source": []
  }
 ],
 "metadata": {
  "kernelspec": {
   "display_name": "Python 3",
   "language": "python",
   "name": "python3"
  },
  "language_info": {
   "codemirror_mode": {
    "name": "ipython",
    "version": 3
   },
   "file_extension": ".py",
   "mimetype": "text/x-python",
   "name": "python",
   "nbconvert_exporter": "python",
   "pygments_lexer": "ipython3",
   "version": "3.7.6"
  }
 },
 "nbformat": 4,
 "nbformat_minor": 4
}
