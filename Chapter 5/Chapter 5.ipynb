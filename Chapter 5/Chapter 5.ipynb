{
 "cells": [
  {
   "cell_type": "markdown",
   "metadata": {},
   "source": [
    "# Chapter 5: Energy, food and waste\n"
   ]
  },
  {
   "cell_type": "markdown",
   "metadata": {},
   "source": [
    "<img src=\"circular.webp\" width=\"500\" />\n",
    "\n",
    "So now we have covered the human metabolism and how food is produced. It is very important to understand that all energy originates from the sun ☀️. Also important to understand that biomass contains molecules with a carbon backbone that is a potential source of energy. The $CHO$ part of the biomass relates mostly to energy, while the rest of the life supporting elements ($NPSC_aM_gK$ to name a few) can be seen as the elements required to have biomass. In a sense these elements are the 'carriers' of biomass and very important to sustain all life forms.\n",
    "\n",
    "In the previous chapters we have seen how food is generated and used by humans and annimals. From these processes a lot of waste was generated like non-edible parts of foodcrops, foodwaste, manure and urine. All these waste products can be viewed as biomass that contains $CHO$ for energy and $NPSC_aM_gK$ as the elements that carry biomass. We'll use the term nutrients for the $NPSC_aM_gK$ part of the biomass. These nutrients are of course the fertilizer that plants need to grow. In nature these nutrients are typically returned to the soil where it can nourish new plant growth. In human civilisation a major fraction of these nutrients tend to end up in the groundwater and rivers, with [eutrophication](https://en.wikipedia.org/wiki/Eutrophication) causing major biodiversity loss in water and on land😢.The $CHO$ in the form of organic waste tends to end up in landfills where massive amounts of the greenhouse gas methane ends up in the atmosphere as a result.\n",
    "\n",
    "The future is all about recyling in the [circular economy](https://en.wikipedia.org/wiki/Circular_economy). When it comes to $CHO$ and $NPSC_aM_gK$ this is very important. In this chapter we'll be looking at the $CHO$ part of the waste biomass, and use it to generate energy for human use. We'll be studing the process of [anaerobic digestion](https://en.wikipedia.org/wiki/Anaerobic_digestion). In latter chapters we'll be modelling this process to enhance your reactor modelling skills. In this chapter we'll look at anaerobic fermentation and perform some mass balances over an anaerobic digester. It is all about malking methane (in the form of biogas)from organic waste, while simultaneously using the mineral rich digestate from the process as fertilizer. Before we go into the process of anaerobic digestion we need to understand something about the world where oxygen is not present. \n",
    "\n"
   ]
  },
  {
   "cell_type": "markdown",
   "metadata": {},
   "source": [
    "## A world without oxygen\n",
    "\n",
    "The anaerobic world existed before there was oxygen in the atmosphere. Also in today's world there are numerous places on earth where oxygen is absent or very scarce. In these environments anaerobic micro-organisms rule, and unlike their aerobic counterparts these organism have metabolic products other than $CO_2$.\n",
    "\n",
    "[Video: Anaerobes](https://youtu.be/CGubdD2uFuM)\n",
    "\n",
    "[Video: Anaerobic respiration](https://youtu.be/6-D1oes63_U)\n",
    "\n",
    "Numerous aerobic organisms can also do anaerobic respiration, these organism are called [facultative anaerobes](https://en.wikipedia.org/wiki/Facultative_anaerobic_organism). Fermentation or anaerobic respiration is typically explained by using lactic acid and ethanol as end products.Not that these products are formed from pyruvic acid (see glycolysis in [chapter 1](https://nbviewer.org/github/willienicol/CBI310-version2/blob/main/Chapter%201/Chapter%201.ipynb)). Ethanol and lactic acid fermentation is an alternative processing step from pyruvate where a non $CO2$ molecule with a carbon backbone is formed as waste product. With oxygen availability the TCA cycle and oxidative phosphorilation is used to process pyruvic acid in aerobic organisms, while with anaerobic respiration these steps are excluded. Go back to glycolysis in chapter 1 and understand that the only ATP that ethanol (or lactic) acid fermentation gains is from glycolysis itself.\n",
    "\n",
    "<img src=\"anaer1.jpeg\" width=\"500\" />\n",
    "\n"
   ]
  },
  {
   "cell_type": "code",
   "execution_count": null,
   "metadata": {},
   "outputs": [],
   "source": []
  }
 ],
 "metadata": {
  "kernelspec": {
   "display_name": "Python 3 (ipykernel)",
   "language": "python",
   "name": "python3"
  },
  "language_info": {
   "codemirror_mode": {
    "name": "ipython",
    "version": 3
   },
   "file_extension": ".py",
   "mimetype": "text/x-python",
   "name": "python",
   "nbconvert_exporter": "python",
   "pygments_lexer": "ipython3",
   "version": "3.9.13"
  }
 },
 "nbformat": 4,
 "nbformat_minor": 4
}
