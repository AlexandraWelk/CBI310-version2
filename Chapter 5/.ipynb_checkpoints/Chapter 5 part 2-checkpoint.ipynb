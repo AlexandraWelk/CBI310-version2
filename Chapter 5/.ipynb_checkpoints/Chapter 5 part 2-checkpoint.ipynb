{
 "cells": [
  {
   "cell_type": "markdown",
   "id": "f99d9f9b",
   "metadata": {},
   "source": [
    "# Chapter 5b - Continuous operation\n",
    "\n",
    "Now we understand the basics of stoicheometry and solving a set of linear equations in a miatrix formulation. We have also been introduced to the cmol balance for solving rate expressions via numerical integration. We now want to move onto continuous reactors where substrate is constantly entering the reactor and where products are leaving the reactor. \n",
    "\n",
    "<img src=\"inout.png\" width=\"550\" />"
   ]
  },
  {
   "cell_type": "markdown",
   "id": "92845772",
   "metadata": {},
   "source": [
    "Let's continue with our example of glucose forming acetic and propionic acid:\n",
    "\n",
    "<img src=\"bac1.png\" width=\"600\" />"
   ]
  },
  {
   "cell_type": "markdown",
   "id": "b76fe094",
   "metadata": {},
   "source": [
    "We have shown that the following equation desrscribes the overall equation and that the stoicheometry can vary depending on the growth ($\\mu$) and maintenance ($\\theta$) characteristics of the organims facilitating the reaction.\n",
    "\n",
    "$$ CH_2O+ NH_3 → X+CH_2O+CH_2O_{2/3}+CO_2+H_2O $$\n",
    "\n",
    "In the previous example we had a batch system where all substrate was loaded upfront and where no streams enetered of left the system. In this example we will be continuously feeding to the system while also continuously removing from the system. Note that the inlet flowrate will be the same as the outlet flowrate at all times."
   ]
  },
  {
   "cell_type": "code",
   "execution_count": 10,
   "id": "8520710f",
   "metadata": {},
   "outputs": [],
   "source": [
    "import numpy as np\n",
    "import matplotlib.pyplot as plt\n",
    "from scipy.integrate import solve_ivp"
   ]
  },
  {
   "cell_type": "code",
   "execution_count": 11,
   "id": "c52d475c",
   "metadata": {},
   "outputs": [],
   "source": [
    "mumax,thetamax = 0.12,0.3\n",
    "Ks=0.003"
   ]
  },
  {
   "cell_type": "markdown",
   "id": "6e6bb320",
   "metadata": {},
   "source": [
    "Remember the stoicheometrix matrix from the previous notebook. Ensure that you remember what this matrix look like. Without this no calculation will be possible:\n",
    "\n",
    "<img src=\"mat3.png\" width=\"550\" />"
   ]
  },
  {
   "cell_type": "code",
   "execution_count": 19,
   "id": "4381dc50",
   "metadata": {},
   "outputs": [],
   "source": [
    "import pandas\n",
    "S = np.matrix(pandas.read_excel('matrix1.xlsx'))"
   ]
  },
  {
   "cell_type": "markdown",
   "id": "8ab3dc20",
   "metadata": {},
   "source": [
    "In this example we will seperate between the rates obtained from **reponse_fun** and the cmol balance of the fermenter equation **(ferm_eq)**. Note that the multiplication with $C_X$ is not part of the **response_fun**. "
   ]
  },
  {
   "cell_type": "code",
   "execution_count": 20,
   "id": "8124e483",
   "metadata": {},
   "outputs": [],
   "source": [
    "def response_fun(C):\n",
    "    \n",
    "    Cs, Cx, Ca, Cp = C[0],C[1],C[2],C[3]   #Considered components\n",
    "    \n",
    "    mu=mumax*(Cs/(Ks+Cs))        #this terms reduces mu or theta as substrate becomes limited, more about this later\n",
    "    theta=thetamax*(Cs/(Ks+Cs))\n",
    "\n",
    "    C= np.matrix([0, 0, 0,0,mu,0,theta]).T\n",
    "    r = np.linalg.solve(S, C) \n",
    "    \n",
    "        \n",
    "    return [r[0,0],   # glucose-substrate S\n",
    "            r[2,0],   # biomass X\n",
    "            r[3,0],   # acetic\n",
    "            r[4,0]]   # propionic  "
   ]
  },
  {
   "cell_type": "markdown",
   "id": "482856ce",
   "metadata": {},
   "source": [
    "Let's have a look at the cmol balance for this reactor or fermenter:\n",
    "\n",
    "\\begin{align*}\n",
    "\\frac{dC_i}{dt} &= D(C^F_i - C_i) + r_i C_X \\\\\n",
    "\\end{align*}\n",
    "\n",
    "Remember that **$D=\\frac{Q}{V}$** is the dilution rate and that it is the inverse of the hydraulic retention time (**HRT**)\n",
    "\n",
    "$$D=\\frac{1}{HRT}$$\n",
    "\n",
    "If the flowrate through the fermenter is small the average molecule will spend a long time (HRT) in the fermenter, while if the flowrate is big the average molecule will spend a short time in the fermenter. "
   ]
  },
  {
   "cell_type": "code",
   "execution_count": 21,
   "id": "27aa9a12",
   "metadata": {},
   "outputs": [],
   "source": [
    "D=1/10 #average molecule spend ten day in reactor - units 1/day"
   ]
  },
  {
   "cell_type": "markdown",
   "id": "77573ccf",
   "metadata": {},
   "source": [
    "We need to now the concentration of the incoming feed **($C_F$)**"
   ]
  },
  {
   "cell_type": "code",
   "execution_count": 22,
   "id": "3bed8651",
   "metadata": {},
   "outputs": [],
   "source": [
    "Cf=[0.1,0,0,0]  #S,X,A,P only glucose being fed"
   ]
  },
  {
   "cell_type": "code",
   "execution_count": 23,
   "id": "587a5e8c",
   "metadata": {},
   "outputs": [],
   "source": [
    "def ferm_eq(t,C):\n",
    "    \n",
    "    Cs, Cx, Ca, Cp = C[0],C[1],C[2],C[3]  # order of components very important \n",
    "    \n",
    "    r=response_fun([Cs, Cx, Ca,Cp])      # this is the 'fetching' from the response function\n",
    "    \n",
    "    dcsdt=D*(Cf[0]-C[0]) +  r[0]*Cx\n",
    "    dcxdt=D*(Cf[1]-C[1]) +  r[1]*Cx\n",
    "    dcadt=D*(Cf[2]-C[2]) +  r[2]*Cx\n",
    "    dcpdt=D*(Cf[3]-C[3]) +  r[3]*Cx\n",
    "    \n",
    "    return [dcsdt,\n",
    "            dcxdt,    \n",
    "            dcadt,\n",
    "            dcpdt] "
   ]
  },
  {
   "cell_type": "markdown",
   "id": "07279f30",
   "metadata": {},
   "source": [
    "Let's define the initial concentration conditions within the reactor at **t=0**. Don't confuse this with the feed concentrations **Cf**"
   ]
  },
  {
   "cell_type": "code",
   "execution_count": 24,
   "id": "4a116972",
   "metadata": {},
   "outputs": [],
   "source": [
    "Co=[0,0.01,0,0] #only cells in the reactor initially"
   ]
  },
  {
   "cell_type": "markdown",
   "id": "a2e785b6",
   "metadata": {},
   "source": [
    "So we have a vessel with cells **($C_X$)** and a feedstream **($Q$)** with substrate **($C_S$)**. Let's do the standard solve_ivp thing to see what happens over time in the fermenter:"
   ]
  },
  {
   "cell_type": "code",
   "execution_count": 29,
   "id": "9b6cd421",
   "metadata": {},
   "outputs": [
    {
     "data": {
      "image/png": "[encoded data removed]",
      "text/plain": [
       "<Figure size 640x480 with 1 Axes>"
      ]
     },
     "metadata": {},
     "output_type": "display_data"
    }
   ],
   "source": [
    "tmax = 100                               # time to integrate to  \n",
    "tspan=np.linspace(0,tmax,200)            # define the timespan of the integration and increments where values will be reported\n",
    "tper = (0,tmax)                          #defining the starting and end time for the solve_IVP function\n",
    "\n",
    "Ci = solve_ivp(ferm_eq, tper, Co, dense_output = True, method = \"LSODA\")    # integration via odeint that calls apon response_fun\n",
    "\n",
    "Cs, Cx, Ca, Cp = Ci.sol(tspan)\n",
    "\n",
    "plt.figure(3)\n",
    "plt.plot(tspan, Cx, color='blue', label='Cx')\n",
    "plt.plot(tspan, Cs, color='green', label='Cs')\n",
    "plt.plot(tspan, Ca, color='red', label='Ca')\n",
    "plt.plot(tspan, Cp, color='cyan', label='Cp')\n",
    "plt.legend(loc='best')\n",
    "plt.ylabel('Concentration Cmol/L') \n",
    "plt.xlabel('time (days)') \n",
    "plt.show() "
   ]
  },
  {
   "cell_type": "markdown",
   "id": "dce09fdc",
   "metadata": {},
   "source": [
    "From the graph above you can see that steady state is achieved after about 80 days. The figure above gives the dynamic simulation of the process. It is also possible to just solve for the steady state by using the equations from **ferm_eq** and finding the concentrations where the slopes $\\frac{dC_i}{dt}=0$ are zero. In order to do this we use the **ferm_eq** without including a time value in the function. The function of **ferm_eq_ss** are identical to **ferm_eq** except for the function handle not including a **t**."
   ]
  },
  {
   "cell_type": "code",
   "execution_count": 34,
   "id": "f41408f6",
   "metadata": {},
   "outputs": [],
   "source": [
    "def ferm_eq_ss(C):\n",
    "    \n",
    "    Cs, Cx, Ca, Cp = C[0],C[1],C[2],C[3]  # order of components very important \n",
    "    \n",
    "    r=response_fun([Cs, Cx, Ca,Cp])      # this is the 'fetching' from the response function\n",
    "    \n",
    "    dcsdt=D*(Cf[0]-C[0]) +  r[0]*Cx\n",
    "    dcxdt=D*(Cf[1]-C[1]) +  r[1]*Cx\n",
    "    dcadt=D*(Cf[2]-C[2]) +  r[2]*Cx\n",
    "    dcpdt=D*(Cf[3]-C[3]) +  r[3]*Cx\n",
    "    \n",
    "    return [dcsdt,\n",
    "            dcxdt,    \n",
    "            dcadt,\n",
    "            dcpdt] "
   ]
  },
  {
   "cell_type": "markdown",
   "id": "3d18d09b",
   "metadata": {},
   "source": [
    "We can use the nonlinear solver **fsolve** to find the steady state, by giving it an initial estimation. "
   ]
  },
  {
   "cell_type": "code",
   "execution_count": 41,
   "id": "cdd7319c",
   "metadata": {},
   "outputs": [
    {
     "data": {
      "text/plain": [
       "array([0.015     , 0.01317829, 0.01683893, 0.04656331])"
      ]
     },
     "execution_count": 41,
     "metadata": {},
     "output_type": "execute_result"
    }
   ],
   "source": [
    "from scipy.optimize import fsolve\n",
    "guess=[0.01,0.01,0.01,0.01]\n",
    "steadystate=fsolve(ferm_eq_ss,guess)\n",
    "steadystate"
   ]
  },
  {
   "cell_type": "markdown",
   "id": "d8e7acd7",
   "metadata": {},
   "source": [
    "Let's compare this to the DE solution at **t=90days**"
   ]
  },
  {
   "cell_type": "code",
   "execution_count": 43,
   "id": "f286275d",
   "metadata": {},
   "outputs": [
    {
     "data": {
      "text/plain": [
       "array([0.01512389, 0.01315893, 0.01681384, 0.04649393])"
      ]
     },
     "execution_count": 43,
     "metadata": {},
     "output_type": "execute_result"
    }
   ],
   "source": [
    "s=Ci.sol(90)\n",
    "s"
   ]
  },
  {
   "cell_type": "markdown",
   "id": "73850ee3",
   "metadata": {},
   "source": [
    "You can see that the values are very close and that the response is very close to steady state at 90 hours."
   ]
  },
  {
   "cell_type": "code",
   "execution_count": null,
   "id": "f382e311",
   "metadata": {},
   "outputs": [],
   "source": []
  },
  {
   "cell_type": "code",
   "execution_count": null,
   "id": "6f71df46",
   "metadata": {},
   "outputs": [],
   "source": []
  },
  {
   "cell_type": "code",
   "execution_count": null,
   "id": "7b85778a",
   "metadata": {},
   "outputs": [],
   "source": []
  },
  {
   "cell_type": "code",
   "execution_count": null,
   "id": "5f98f139",
   "metadata": {},
   "outputs": [],
   "source": []
  },
  {
   "cell_type": "code",
   "execution_count": null,
   "id": "43bdefff",
   "metadata": {},
   "outputs": [],
   "source": []
  },
  {
   "cell_type": "code",
   "execution_count": null,
   "id": "08ad7fba",
   "metadata": {},
   "outputs": [],
   "source": []
  },
  {
   "cell_type": "code",
   "execution_count": null,
   "id": "2171390e",
   "metadata": {},
   "outputs": [],
   "source": []
  },
  {
   "cell_type": "code",
   "execution_count": null,
   "id": "ffffa88d",
   "metadata": {},
   "outputs": [],
   "source": []
  }
 ],
 "metadata": {
  "kernelspec": {
   "display_name": "Python 3 (ipykernel)",
   "language": "python",
   "name": "python3"
  },
  "language_info": {
   "codemirror_mode": {
    "name": "ipython",
    "version": 3
   },
   "file_extension": ".py",
   "mimetype": "text/x-python",
   "name": "python",
   "nbconvert_exporter": "python",
   "pygments_lexer": "ipython3",
   "version": "3.9.13"
  }
 },
 "nbformat": 4,
 "nbformat_minor": 5
}
