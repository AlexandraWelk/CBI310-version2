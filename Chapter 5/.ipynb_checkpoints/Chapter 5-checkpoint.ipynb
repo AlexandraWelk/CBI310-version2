{
 "cells": [
  {
   "cell_type": "markdown",
   "metadata": {},
   "source": [
    "# Chapter 5: Kinetic modelling of a bioreactor\n"
   ]
  },
  {
   "cell_type": "markdown",
   "metadata": {},
   "source": [
    "<img src=\"blackbox.jpg\" width=\"470\" />\n",
    "\n",
    "Okey class, we are now shifting gears by getting inside of the black box models (mass balances) that we have considered before. We are now interested in understanding the rate or dynamic behaviour of what is happening within the processes that we consider. Upto now we have looked at how edible biomass is produced. We have seen from the work in chapters 1-4 that numerous waste streams got generated from the food chain, like non-edible biomass, livestock waste, manure and urine. We now fully understand that biomass contains energy and given the world's current energy crisis, we need to consider the potential for harvesting the energy from the unused biomass. This is where the anaerobic digester plays a very important role. Numerous of the waste products from the food chain tends to end up in water and we also need some understanding on the biological treatment of these wastewaters.\n",
    "\n",
    "But before we go into more details, we must understand the basic governing formulas of the bioreactor. You might wonder what a bioreactor is? You have already encountered the bioreactor of the human body, a chicken and an agricultaral growth facility. A bioreactor can be seen as defined space where organisms grow or where organisms maintain themself. To do this energy is required, either in the form of sunlight if the organisma are autotrophic or in the form of chemical energy if the organisms are autotrophic. So let's have a look at the basic governing equations of the bioreactor. "
   ]
  },
  {
   "cell_type": "markdown",
   "metadata": {},
   "source": [
    "### Basic equations of the bioreactor\n",
    "\n",
    "In CBI310 we’ll assume that all fermenters are well mixed and that no concentration or temperature gradients exist within the fermentation broth. In real life the assumption is often approximated where gradients are minimal. The easiest way to perform the mass balance over the fermenter is to consider the cmol balance of each component. To simplify only the liquid phase will be considered, we'll get to the other phases later.  We’ll start with a time-dependant model were the dynamic concentration and volume changes in the fermenter are incorporated by an accumulation term for each component ($\\frac{dN_i}{dt}$). Note that the cmol quantity ($N_i$) is the product of the cmol concentration ($C_i$ in $\\frac{cmol}{L}$) and the fermenter volume ($V$). The concentration of a component and/or volume will change with addition/removal of the component as well as formation/depletion of the component. The general cmol component balance is given by:\n",
    "\n",
    "\\begin{align*}\n",
    "\\frac{dN_i}{dt} &= Q^F C^F_i - QC_i + r_i C_X V \\\\\n",
    "\\left[\\frac{cmol\\,i}{h}\\right] &= \\left[ \\frac{cmol\\,i}{L} \\cdot \\frac{L}{h} \\right] -\\left[ \\frac{cmol\\,i}{L} \\cdot \\frac{L}{h} \\right] + \\left[ \\frac{cmol\\,i}{cmol\\,X\\cdot h} \\cdot \\frac{cmol\\,X}{L} \\cdot L \\right]\n",
    "\\end{align*}\n",
    "\n",
    "**Check and understand the units of all the terms. All 4 terms should have the same units!**\n",
    "\n",
    "Note that the superscript $^F$ refers to a feed stream concentration ($C^F_i$) and the inlet volumetric flowrate ($Q^F$). Due to the perfect mixing the outlet concentration ($C_i$) will be the same as the concentration in the fermenter. We'll be using a constant inflow and outflow in numerous of our examples where the volume of the reactor stays constant so the above equation will reduce to:\n",
    "\n",
    "\\begin{align*}\n",
    "V\\frac{dC_i}{dt} &= Q(C^F_i - C_i) + r_i C_X V \\\\\n",
    "\\left[\\frac{cmol\\,i}{h}\\right] &= \\left[ \\frac{cmol\\,i}{L} \\cdot \\frac{L}{h} \\right] -\\left[ \\frac{cmol\\,i}{L} \\cdot \\frac{L}{h} \\right] + \\left[ \\frac{cmol\\,i}{cmol\\,X\\cdot h} \\cdot \\frac{cmol\\,X}{L} \\cdot L \\right]\n",
    "\\end{align*}\n",
    "\n",
    "We can futher simplify the equation to:\n",
    "\n",
    "\\begin{align*}\n",
    "\\frac{dC_i}{dt} &= D(C^F_i - C_i) + r_i C_X \\\\\n",
    "\\end{align*}\n",
    "\n",
    "where:\n",
    "$$D=\\frac{Q}{V}$$\n",
    "\n",
    "Where D is referred to as the **Dilution rate** as it gives a measure of how fast liquid flows through the reactor. The higher the dilution rate the higher the flow or troughput through the reactor.\n",
    "\n",
    "Apart from the cmol based rates ($r_i$) we'll define a volumetric rate ($r^V_i$) as follows:\n",
    "\n",
    "\\begin{align}\n",
    "r^V_i &= r_i \\cdot C_X \\\\\n",
    "\\left[ \\frac{cmol\\,i}{L \\cdot h} \\right] &= \n",
    "\\left[ \\frac{cmol\\,i}{cmol\\,X\\cdot h} \\cdot \\frac{cmol\\,X}{L} \\right]\n",
    "\\end{align}\n",
    "\n",
    "Also note the relationship between cmol concentration ($C_i$) and the cmol amount ($N_i$). \n",
    "\n",
    "$$N_X=C_X\\cdot V$$\n",
    "\n"
   ]
  },
  {
   "cell_type": "code",
   "execution_count": null,
   "metadata": {},
   "outputs": [],
   "source": []
  }
 ],
 "metadata": {
  "kernelspec": {
   "display_name": "Python 3 (ipykernel)",
   "language": "python",
   "name": "python3"
  },
  "language_info": {
   "codemirror_mode": {
    "name": "ipython",
    "version": 3
   },
   "file_extension": ".py",
   "mimetype": "text/x-python",
   "name": "python",
   "nbconvert_exporter": "python",
   "pygments_lexer": "ipython3",
   "version": "3.9.13"
  }
 },
 "nbformat": 4,
 "nbformat_minor": 4
}
