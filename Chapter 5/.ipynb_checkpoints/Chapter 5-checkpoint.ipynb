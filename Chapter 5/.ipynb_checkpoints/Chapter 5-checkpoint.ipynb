{
 "cells": [
  {
   "cell_type": "markdown",
   "metadata": {},
   "source": [
    "# Chapter 5: Kinetic modelling of a bioreactor\n"
   ]
  },
  {
   "cell_type": "markdown",
   "metadata": {},
   "source": [
    "<img src=\"blackbox.jpg\" width=\"470\" />\n",
    "\n",
    "Okey class, we are now shifting gears by getting inside of the black box models (mass balances) that we have considered before. We are now interested in understanding the rate or dynamic behaviour of what is happening within the processes that we consider. Upto now we have looked at how edible biomass is produced. We have seen from the work in chapters 1-4 that numerous waste streams got generated from the food chain, like non-edible biomass, livestock waste, manure and urine. We now fully understand that biomass contains energy and given the world's current energy crisis, we need to consider the potential for harvesting the energy from the unused biomass. This is where the [anaerobic digester](https://en.wikipedia.org/wiki/Anaerobic_digestion) plays a very important role. Numerous of the waste products from the food chain tends to end up in water and we also need some understanding on the biological treatment of these wastewaters.\n",
    "\n",
    "But before we go into more details, we must understand the basic governing formulas of the bioreactor. You might wonder what a bioreactor is? You have already encountered the bioreactor of the human body, a chicken and an agricultaral growth facility. A bioreactor can be seen as defined space where organisms grow or where organisms maintain themself. To do this energy is required, either in the form of sunlight if the organisms are autotrophic or in the form of chemical energy if the organisms are heterotrophic. So let's have a look at the basic governing equations of the bioreactor. "
   ]
  },
  {
   "cell_type": "markdown",
   "metadata": {},
   "source": [
    "### Basic equations of the bioreactor\n",
    "\n",
    "In CBI310 we’ll assume that all fermenters are well mixed and that no concentration or temperature gradients exist within the fermentation broth. In real life the assumption is often approximated where gradients are minimal. The easiest way to perform the mass balance over the fermenter is to consider the cmol balance of each component. To simplify only the liquid phase will be considered, we'll get to the other phases later.  We’ll start with a time-dependant model were the dynamic concentration and volume changes in the fermenter are incorporated by an accumulation term for each component ($\\frac{dN_i}{dt}$). Note that the cmol quantity ($N_i$) is the product of the cmol concentration ($C_i$ in $\\frac{cmol}{L}$) and the fermenter volume ($V$). The concentration of a component and/or volume will change with addition/removal of the component as well as formation/depletion of the component. The general cmol component balance is given by:\n",
    "\n",
    "\\begin{align*}\n",
    "\\frac{dN_i}{dt} &= Q^F C^F_i - QC_i + r_i C_X V \\\\\n",
    "\\left[\\frac{cmol\\,i}{h}\\right] &= \\left[ \\frac{cmol\\,i}{L} \\cdot \\frac{L}{h} \\right] -\\left[ \\frac{cmol\\,i}{L} \\cdot \\frac{L}{h} \\right] + \\left[ \\frac{cmol\\,i}{cmol\\,X\\cdot h} \\cdot \\frac{cmol\\,X}{L} \\cdot L \\right]\n",
    "\\end{align*}\n",
    "\n",
    "**Check and understand the units of all the terms. All 4 terms should have the same units!**\n",
    "\n",
    "Note that the superscript $^F$ refers to a feed stream concentration ($C^F_i$) and the inlet volumetric flowrate ($Q^F$). Due to the perfect mixing the outlet concentration ($C_i$) will be the same as the concentration in the fermenter. We'll be using a constant inflow and outflow in numerous of our examples where the volume of the reactor stays constant so the above equation will reduce to:\n",
    "\n",
    "\\begin{align*}\n",
    "V\\frac{dC_i}{dt} &= Q(C^F_i - C_i) + r_i C_X V \\\\\n",
    "\\left[\\frac{cmol\\,i}{h}\\right] &= \\left[ \\frac{cmol\\,i}{L} \\cdot \\frac{L}{h} \\right] -\\left[ \\frac{cmol\\,i}{L} \\cdot \\frac{L}{h} \\right] + \\left[ \\frac{cmol\\,i}{cmol\\,X\\cdot h} \\cdot \\frac{cmol\\,X}{L} \\cdot L \\right]\n",
    "\\end{align*}\n",
    "\n",
    "We can futher simplify the equation to:\n",
    "\n",
    "\\begin{align*}\n",
    "\\frac{dC_i}{dt} &= D(C^F_i - C_i) + r_i C_X \\\\\n",
    "\\end{align*}\n",
    "\n",
    "where:\n",
    "$$D=\\frac{Q}{V}$$\n",
    "\n",
    "Where D is referred to as the **Dilution rate** as it gives a measure of how fast liquid flows through the reactor. The higher the dilution rate the higher the flow or troughput through the reactor.\n",
    "\n",
    "Apart from the cmol based rates ($r_i$) we'll define a volumetric rate ($r^V_i$) as follows:\n",
    "\n",
    "\\begin{align}\n",
    "r^V_i &= r_i \\cdot C_X \\\\\n",
    "\\left[ \\frac{cmol\\,i}{L \\cdot h} \\right] &= \n",
    "\\left[ \\frac{cmol\\,i}{cmol\\,X\\cdot h} \\cdot \\frac{cmol\\,X}{L} \\right]\n",
    "\\end{align}\n",
    "\n",
    "Also note the relationship between cmol concentration ($C_i$) and the cmol amount ($N_i$). \n",
    "\n",
    "$$N_X=C_X\\cdot V$$\n",
    "\n"
   ]
  },
  {
   "cell_type": "markdown",
   "metadata": {},
   "source": [
    "### Growth ($\\mu$) - the big driver\n",
    "\n",
    "By now you understand that it is all about energy. In the next few chapters we will see how micro-organisms (microbes) compete for energy. The first bit of energy obtained by microbes is always used for maintenance ($\\theta$). The microbes need energy to repair old DNA, make new RNA and build new proteins since old proteins does not last forverer. If more energy is available than what is required for maintenance ($\\theta$), the microbes will use the energy to procreate of **grow**. It is very important to understand the principles of growth **growth ($\\mu$)!** Have a look at the test tubes below. The colour in the tubes are changing because more cells are present as time progress. Growth can often be observed visually.The biomass content can be accurately determined via spectrophotometry:\n",
    "\n",
    "<img src=\"growth.png\" width=\"800\" />\n",
    "\n",
    "Let's have a look at the biochemical reaction that takes place in the test tubes:\n",
    "\n",
    "<img src=\"bac1.png\" width=\"600\" />\n",
    "\n",
    "You will see that glucose is the substrate, $NH_3$ the nitrogen source. Note that the life bearing elements like Ca, Mg, K, S, P will also be required for the microbe although not indicated. The metabolism entails the breakdown of glucose in an anaerobic environment to form propionic acid, acetic acid and $CO_2$. In addition biomass (**X**) will be formed because of growth.For this example we'll use the formula $CH_{1.8}O_{0.5}N_{0.2}$ for biomass."
   ]
  },
  {
   "cell_type": "markdown",
   "metadata": {},
   "source": [
    "Let's start by plotting the biomass ($X$) concentration against time:"
   ]
  },
  {
   "cell_type": "code",
   "execution_count": 11,
   "metadata": {},
   "outputs": [
    {
     "data": {
      "image/png": "[encoded data removed]",
      "text/plain": [
       "<Figure size 640x480 with 1 Axes>"
      ]
     },
     "metadata": {},
     "output_type": "display_data"
    }
   ],
   "source": [
    "import numpy as np\n",
    "import matplotlib.pyplot as plt\n",
    "\n",
    "time=np.array([0,2,4,6,8,10,12,14,16,18,20,25,30])\n",
    "x_exper=np.array([0.1,0.127,0.162,0.205, 0.261, 0.332, 0.422, 0.537, 0.682,0.867,1.102, 2.009, 2.05])\n",
    "\n",
    "plt.figure(1)\n",
    "plt.plot(time, x_exper,'*', color='red', label='exp')\n",
    "plt.legend(loc='best')\n",
    "plt.ylabel('X (g/L)') \n",
    "plt.xlabel('time (days)') \n",
    "plt.show()"
   ]
  },
  {
   "cell_type": "markdown",
   "metadata": {},
   "source": [
    "Let's have a look at the cmol balance for biomass:\n",
    "\n",
    "\\begin{align*}\n",
    "\\frac{dC_i}{dt} &= D(C^F_i - C_i) + r_i C_X \\\\\n",
    "\\end{align*}\n",
    "\n",
    "Given that this is a batch system, $D=0$ and thus:\n",
    "\n",
    "\\begin{align*}\n",
    "\\frac{dC_i}{dt} &= r_i C_X \\\\\n",
    "\\end{align*}\n",
    "\n",
    "Accordingly the equation becomes:\n",
    "\n",
    "\\begin{align*}\n",
    "\\frac{dC_X}{dt} &= r_X C_X \\\\\n",
    "\\end{align*}\n",
    "\n",
    "The rate of biomass formation ($r_X$) is described by the Greek symbol $\\mu$, accordingly:\n",
    "\n",
    "\\begin{align*}\n",
    "\\frac{dC_X}{dt} &= \\mu C_X \\\\\n",
    "\\end{align*}\n",
    "\n",
    "For this example we know the maximum growth rate ($\\mu_{max}$) to be 0.12 $\\frac{1}{day}$.\n",
    "\n",
    "Given this we can integrate the above equation to see if the the theory links up with the experimental results:"
   ]
  },
  {
   "cell_type": "code",
   "execution_count": 40,
   "metadata": {},
   "outputs": [
    {
     "data": {
      "image/png": "[encoded data removed]",
      "text/plain": [
       "<Figure size 640x480 with 1 Axes>"
      ]
     },
     "metadata": {},
     "output_type": "display_data"
    }
   ],
   "source": [
    "from scipy.integrate import odeint\n",
    "mu=0.12\n",
    "\n",
    "def response_fun(C,t):                       #function representing differential equation above\n",
    "    Cx=C\n",
    "    r=mu*Cx\n",
    "    return r\n",
    "    \n",
    "MM_X=12+1.8+0.5*16+0.2*14\n",
    "\n",
    "Co=[0.1/MM_X]                              #initial cmol value\n",
    "tmax=30                                     # time to integrate to  \n",
    "tspan=numpy.linspace(0,tmax,200)            # define the timespan of the integration and increments where values will be reported\n",
    "Ci = odeint(response_fun, Co, tspan)             # integration via odeint that calls apon response_fun\n",
    "\n",
    "Cx= Ci\n",
    "\n",
    "plt.figure(2)\n",
    "plt.plot(tspan, Cx*MM_X, color='blue', label='theory')\n",
    "plt.plot(time, x_exper,'*', color='red', label='exp')\n",
    "plt.legend(loc='best')\n",
    "plt.ylabel('Concentration g/L') \n",
    "plt.xlabel('time (days)') \n",
    "plt.show()    "
   ]
  },
  {
   "cell_type": "markdown",
   "metadata": {},
   "source": [
    "Wow, we see a perfect fit, but not the last experimental reading? Something makes the growth stops. We are most likely running out of substrate (glucose). To include the glucose in the equation we need to consider the total stoicheometry.\n",
    "\n",
    "See if you can figure out all the components and equations:"
   ]
  },
  {
   "cell_type": "code",
   "execution_count": 43,
   "metadata": {},
   "outputs": [
    {
     "data": {
      "text/plain": [
       "matrix([[ 1.        ,  0.        ,  1.        ,  1.        ,  1.        ,\n",
       "          1.        ,  0.        ],\n",
       "        [ 2.        ,  3.        ,  1.8       ,  2.        ,  2.        ,\n",
       "          0.        ,  2.        ],\n",
       "        [ 1.        ,  0.        ,  0.5       ,  1.        ,  0.66666667,\n",
       "          2.        ,  1.        ],\n",
       "        [ 0.        ,  1.        ,  0.2       ,  0.        ,  0.        ,\n",
       "          0.        ,  0.        ],\n",
       "        [ 0.        ,  0.        ,  1.        ,  0.        ,  0.        ,\n",
       "          0.        ,  0.        ],\n",
       "        [ 0.        ,  0.        ,  0.        , -0.5       ,  0.        ,\n",
       "          1.        ,  0.        ],\n",
       "        [-0.66666667,  0.        , -1.8       ,  0.        ,  0.        ,\n",
       "          0.        ,  0.        ]])"
      ]
     },
     "execution_count": 43,
     "metadata": {},
     "output_type": "execute_result"
    }
   ],
   "source": [
    "import pandas\n",
    "theta=0.3   #mol ATP/cmolX.day What is this?\n",
    "\n",
    "S1 = np.matrix(pandas.read_excel('matrix1.xlsx'))\n",
    "C= numpy.matrix([0, 0, 0,0,mu,0,theta]).T\n",
    "    \n",
    "S1"
   ]
  },
  {
   "cell_type": "markdown",
   "metadata": {},
   "source": [
    "<img src=\"mat1.png\" width=\"750\" />\n",
    "\n",
    "We can now solve the stoicheometry of this overall reaction:\n",
    "\n",
    "\n",
    "$$ CH_2O+ NH_3 → X+CH_2O+CH_2O_{2/3}+CO_2+H_2O $$\n",
    "\n",
    "Note that from specification 2:\n",
    "\n",
    "$$r_C=0.5r_A$$"
   ]
  },
  {
   "cell_type": "code",
   "execution_count": 44,
   "metadata": {},
   "outputs": [
    {
     "data": {
      "text/plain": [
       "matrix([[ 1.        ],\n",
       "        [ 0.03100775],\n",
       "        [-0.15503876],\n",
       "        [-0.19810508],\n",
       "        [-0.54780362],\n",
       "        [-0.09905254],\n",
       "        [-0.16106804]])"
      ]
     },
     "execution_count": 44,
     "metadata": {},
     "output_type": "execute_result"
    }
   ],
   "source": [
    "r = numpy.linalg.solve(S1, C) \n",
    "r\n",
    "stoic=r/r[0,0]\n",
    "stoic"
   ]
  },
  {
   "cell_type": "markdown",
   "metadata": {},
   "source": [
    "This implies that the stoicheometry is given by:\n",
    "\n",
    "$$ CH_2O+ 0.031NH_3 → 0.155X+0.198CH_2O+0.548CH_2O_{2/3}+0.099CO_2+0.161H_2O $$\n",
    "\n",
    "We can now use the stoicheometry to integrate all the components acccording to the equation:\n",
    "\n",
    "\\begin{align*}\n",
    "\\frac{dC_i}{dt} &= r_i C_X \\\\\n",
    "\\end{align*}\n",
    "\n",
    "\n"
   ]
  },
  {
   "cell_type": "code",
   "execution_count": 46,
   "metadata": {},
   "outputs": [],
   "source": [
    "mumax=0.12\n",
    "Ks=0.001\n",
    "\n",
    "def response_fun(C):\n",
    "    \n",
    "    Cs, Cn, Cx, Ca, Cp, Cc,Cw = C[0],C[1],C[2],C[3],C[4],C[5], C[6]   #Same component order as in the ferm-eq\n",
    "    \n",
    "    mu=mumax*Cs/(Km+Cs)\n",
    "     \n",
    "    return [r[0,0]*Cx,   # glucose\n",
    "           -r[2,0]*Cx,   # biomass\n",
    "            r[3,0]*Cx,   # acetic\n",
    "            r[4,0]*Cx]   # propionic    "
   ]
  },
  {
   "cell_type": "markdown",
   "metadata": {},
   "source": []
  },
  {
   "cell_type": "markdown",
   "metadata": {},
   "source": [
    "a) Start by plotting $C_X$ against time, what do you see?\n",
    "\n",
    "The equation linking $\\mu$ to $C_X$ is the following:\n",
    "\n",
    "$$\\frac{dC_X}{dt}=\\mu C_X $$  "
   ]
  },
  {
   "cell_type": "code",
   "execution_count": null,
   "metadata": {},
   "outputs": [],
   "source": [
    "def response_fun(C):\n",
    "    \n",
    "    Cx, Cs, Cg, Ce = C[0],C[1],C[2],C[3]   #Same component order as in the ferm-eq\n",
    "    Cp = Ce                                #Ethanol is Cp \n",
    "    \n",
    "    mu1=mumax*Cs/(Km_mu+Cs)*(1-Cp/Cp_star)\n",
    "    theta=thetamax*Cs/(Km_theta+Cs)*(1+Cp/Kp)**(-1)\n",
    "    \n",
    "    if mu1 < 0.0001:   #Negative values of mu set to zero\n",
    "        mu=0 \n",
    "    else:\n",
    "        mu=mu1\n",
    "                 \n",
    "    S = numpy.matrix([[-1,1+alpha,1,0,0],\n",
    "                      [ 0,0,-1,1,1.5],\n",
    "                      [  0,beta,0,-1/3,0],\n",
    "                      [ 0,-gamma,-1/3,0,1],\n",
    "                      [ 0,1,0,0,0]])\n",
    "\n",
    "    K = numpy.matrix([0, 0, 0, theta, mu]).T\n",
    "    r = numpy.linalg.solve(S, K) \n",
    "        \n",
    "    \n",
    "    return [r[1,0],   # important to see the order of the rates (X,S,G,E)\n",
    "           -r[0,0],   # glucose, note the negative since the flux model calculated (-rs)\n",
    "            r[3,0],   # glycerol\n",
    "            r[4,0],   # ethanol   \n",
    "            theta]"
   ]
  }
 ],
 "metadata": {
  "kernelspec": {
   "display_name": "Python 3 (ipykernel)",
   "language": "python",
   "name": "python3"
  },
  "language_info": {
   "codemirror_mode": {
    "name": "ipython",
    "version": 3
   },
   "file_extension": ".py",
   "mimetype": "text/x-python",
   "name": "python",
   "nbconvert_exporter": "python",
   "pygments_lexer": "ipython3",
   "version": "3.9.13"
  }
 },
 "nbformat": 4,
 "nbformat_minor": 4
}
