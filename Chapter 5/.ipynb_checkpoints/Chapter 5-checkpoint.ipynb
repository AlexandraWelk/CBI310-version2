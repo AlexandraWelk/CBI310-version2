{
 "cells": [
  {
   "cell_type": "markdown",
   "metadata": {},
   "source": [
    "# Chapter 5: Bacterial growth\n"
   ]
  },
  {
   "cell_type": "markdown",
   "metadata": {},
   "source": [
    "In this chapter we are going to look at micro-organisms and how to mathematically model how they grow. But before we get into the math we still have to do some biology lessons. Did you know that all known organisms on earth are given a specific Latin name? In the upcoming chapters we will be modelling various micro-organisms and it is important to understand how classification works in biology. Let's start with the following video:\n",
    "\n",
    "[Video: Classification](https://www.youtube.com/watch?v=tYL_8gv7RiE)\n",
    "\n",
    "The important part of this video is that DNA is the key to perform proper classification. Prior to the age of understanding DNA, classification was based on looks and functionality, but have a look at these two bugs, they are completely different by name!\n",
    "\n",
    "<img src=\"bug1.png\" width=\"650\" />\n",
    "  \n",
    "_Glomeris marginata and Armadillidium vulgare (left to right)_\n",
    "\n",
    "So it has to do with ancestors and the origin of species. Accordingly the map of evolution becomes the map of correct classification. All living things share a common ancestor and are more similar to you than what you think. Check this out:\n",
    "\n",
    "[Video: Molecules of evolution](https://www.youtube.com/watch?v=nvJFI3ChOUU)\n",
    "\n",
    "For now it is important to understand the tree of life with all its branch points. You should realise how the tree of life represents a timeline of evolutionary development. The following interactive chart will give you an idea, try and develop a feeling for the chart with special emphasis on the initial split points between bacteria, archea and eukaryotes.\n",
    "\n",
    "[Interactive map: From bacteria to humans](https://www.evogeneao.com/en)\n",
    "\n",
    "\n"
   ]
  },
  {
   "cell_type": "code",
   "execution_count": null,
   "metadata": {},
   "outputs": [],
   "source": []
  }
 ],
 "metadata": {
  "kernelspec": {
   "display_name": "Python 3",
   "language": "python",
   "name": "python3"
  },
  "language_info": {
   "codemirror_mode": {
    "name": "ipython",
    "version": 3
   },
   "file_extension": ".py",
   "mimetype": "text/x-python",
   "name": "python",
   "nbconvert_exporter": "python",
   "pygments_lexer": "ipython3",
   "version": "3.7.6"
  }
 },
 "nbformat": 4,
 "nbformat_minor": 4
}
