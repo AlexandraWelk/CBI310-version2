{
 "cells": [
  {
   "cell_type": "markdown",
   "id": "c0b6cd6b",
   "metadata": {},
   "source": [
    "# Chapter 5 - continue\n",
    "\n",
    "Now we understand the basics of stoicheometry and solving a set of linear equations in a miatrix formulation. We have also been introduced to the cmol balance for solving rate expressions via numerical integration. We now want to move onto continuous reactors where substrate is constantly entering the reactor and where products are leaving the reactor. \n",
    "\n",
    "<img src=\"inout.png\" width=\"550\" />"
   ]
  },
  {
   "cell_type": "markdown",
   "id": "83ea8e9c",
   "metadata": {},
   "source": [
    "Let's continue with our example of glucose forming acetic and propionic acid:\n",
    "\n",
    "<img src=\"bac1.png\" width=\"600\" />"
   ]
  },
  {
   "cell_type": "markdown",
   "id": "93fb5713",
   "metadata": {},
   "source": [
    "We have shown that the following equation desrscribes the overall equation and that the stoicheometry can vary depending on the growth ($\\mu$) and maintenance ($\\theta$) characteristics of the organims facilitating the reaction.\n",
    "\n",
    "$$ CH_2O+ NH_3 → X+CH_2O+CH_2O_{2/3}+CO_2+H_2O $$\n",
    "\n",
    "In the previous example we had a batch system where all substrate was loaded upfront and where no streams enetered of left the system. In this example we will be continuously feeding to the system while also continuously removing from the system. Note that the inlet flowrate will be the same as the outlet flowrate at all times."
   ]
  },
  {
   "cell_type": "code",
   "execution_count": null,
   "id": "6d843c68",
   "metadata": {},
   "outputs": [],
   "source": [
    "import numpy as np\n",
    "import matplotlib.pyplot as plt\n"
   ]
  },
  {
   "cell_type": "code",
   "execution_count": null,
   "id": "bce88c29",
   "metadata": {},
   "outputs": [],
   "source": []
  },
  {
   "cell_type": "code",
   "execution_count": null,
   "id": "b532024a",
   "metadata": {},
   "outputs": [],
   "source": []
  },
  {
   "cell_type": "code",
   "execution_count": null,
   "id": "6e797444",
   "metadata": {},
   "outputs": [],
   "source": []
  },
  {
   "cell_type": "code",
   "execution_count": null,
   "id": "0c4036a0",
   "metadata": {},
   "outputs": [],
   "source": []
  },
  {
   "cell_type": "code",
   "execution_count": null,
   "id": "7dc5ab00",
   "metadata": {},
   "outputs": [],
   "source": []
  },
  {
   "cell_type": "code",
   "execution_count": null,
   "id": "2dba8ed8",
   "metadata": {},
   "outputs": [],
   "source": []
  },
  {
   "cell_type": "code",
   "execution_count": null,
   "id": "fc7fe5b4",
   "metadata": {},
   "outputs": [],
   "source": []
  }
 ],
 "metadata": {
  "kernelspec": {
   "display_name": "Python 3 (ipykernel)",
   "language": "python",
   "name": "python3"
  },
  "language_info": {
   "codemirror_mode": {
    "name": "ipython",
    "version": 3
   },
   "file_extension": ".py",
   "mimetype": "text/x-python",
   "name": "python",
   "nbconvert_exporter": "python",
   "pygments_lexer": "ipython3",
   "version": "3.9.13"
  }
 },
 "nbformat": 4,
 "nbformat_minor": 5
}
