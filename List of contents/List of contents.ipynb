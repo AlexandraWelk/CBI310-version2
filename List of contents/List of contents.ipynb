{
 "cells": [
  {
   "cell_type": "markdown",
   "metadata": {},
   "source": [
    "# Biochemical Engineering (CBI 310)\n",
    "\n",
    "\n",
    "* [Introduction](https://nbviewer.org/github/willienicol/CBI310-version2/blob/main/Introduction/Introduction.ipynb)\n",
    "\n",
    "\n",
    "* [Chapter 1: Biochemistry of food consumption](https://nbviewer.org/github/willienicol/CBI310-version2/blob/main/Chapter%201/Chapter%201.ipynb)\n",
    "\n",
    "* [Chapter 2: Biochemistry of food](https://nbviewer.org/github/willienicol/CBI310-version2/blob/main/Chapter%202/Chapter%202.ipynb)\n",
    "\n",
    "\n",
    "* [Chapter 3: Biochemistry of agriculture](https://nbviewer.org/github/willienicol/CBI310-version2/blob/main/Chapter%203/Chapter%203.ipynb)\n",
    "\n",
    "\n",
    "* [Chapter 4: Biochemistry of livestock](https://nbviewer.org/github/willienicol/CBI310-version2/blob/main/Chapter%204/Chapter%204.ipynb)\n",
    "\n",
    "* [Chapter 5: Bacterial growth](https://nbviewer.org/github/willienicol/CBI310-version2/blob/main/Chapter%205/Chapter%205.ipynb)\n",
    "\n",
    "* [Chapter 6: Anaerobic digestion 1]\n",
    "\n",
    "* [Chapter 7: Anaerobic digestion 2]\n",
    "\n",
    "* [Chapter 8: Aerobic water treatment 1]\n",
    "\n",
    "* [Chapter 9: Aerobic water treatment 2]\n",
    "\n",
    "* [Chapter 10: Life on the oil rig]\n",
    "\n",
    "\n",
    "\n",
    "\n",
    "\n",
    "\n",
    "\n",
    "\n"
   ]
  },
  {
   "cell_type": "code",
   "execution_count": null,
   "metadata": {},
   "outputs": [],
   "source": []
  }
 ],
 "metadata": {
  "kernelspec": {
   "display_name": "Python 3",
   "language": "python",
   "name": "python3"
  },
  "language_info": {
   "codemirror_mode": {
    "name": "ipython",
    "version": 3
   },
   "file_extension": ".py",
   "mimetype": "text/x-python",
   "name": "python",
   "nbconvert_exporter": "python",
   "pygments_lexer": "ipython3",
   "version": "3.7.6"
  }
 },
 "nbformat": 4,
 "nbformat_minor": 4
}
