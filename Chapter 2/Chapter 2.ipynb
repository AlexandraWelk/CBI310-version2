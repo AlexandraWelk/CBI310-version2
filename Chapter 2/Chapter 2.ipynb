{
 "cells": [
  {
   "cell_type": "markdown",
   "metadata": {},
   "source": [
    "# Chapter 2: The food we eat\n"
   ]
  },
  {
   "cell_type": "markdown",
   "metadata": {},
   "source": [
    "\n",
    "<img src=\"food1.jpg\" width=\"550\" />\n",
    "\n",
    "## Elements of the human body\n",
    "\n",
    "We now know a little bit about how the human body requires energy to sustain itself. In this chapter we are going to have a detail look at the food that we supply to our bodies, but we are going to use a chemical engineering approach where we break down all the chemical elements that enter our bodies through food. Have you ever wondered of what chemicals food consist, or even better of what chemical elements does your body consist? Have a look at this visual video to develop a feel.\n",
    "\n",
    "[Video: Elements of the human body](https://www.youtube.com/watch?v=xd16--F8jGA)\n",
    "\n",
    "Amazing that these 11 elements constitutes 99.9% of our bodies. Given the information of the video above we can now generate a chemical formula for the average human. In this formula we will use the carbon atom as the basis atom since most chemicals in our bodies have carbon as the backbone. Given this basis the average human body can be described by the following \"molecule\" or molecular formula.\n",
    "\n",
    "$CH_{6.121}O_{2.638}N_{0.148}Cl_{0.00366}Mg_{0.00534}Na_{0.00565}Ca_{0.024}K_{0.00321}S_{0.00608}P_{0.021}$\n",
    "\n",
    "In this subject we will typically work with the dry weight of biomass and therefore we will exclude the water content from the molecular formula. Given that the average human body contains 60% water (based on total mass) the formula above can be rewritten as:\n",
    "\n",
    "$CH_{1.847}O_{0.4771}N_{0.148}Cl_{0.00366}Mg_{0.00534}Na_{0.00565}Ca_{0.024}K_{0.00321}S_{0.00608}P_{0.021}$\n",
    "\n",
    "Can you calculate these formulas based on the fact that the video gave mass percentages? If not, make sure you can by contacting a classmate or a TA.\n"
   ]
  },
  {
   "cell_type": "markdown",
   "metadata": {},
   "source": [
    "Now given that the human body can be written as a chemical formula, we can do the same for the food that the human consumes. But before we do this we want to learn a little about the basic molecules that is required in the human diet. \n",
    "\n",
    "<img src=\"pcf.jpeg\" width=\"550\" />\n",
    "\n",
    "\n",
    "The following videos will give you an better understanding of proteins, carbohydrates and fat:\n",
    "\n",
    "[Video: Basic food molecules](https://www.youtube.com/watch?v=H8WJ2KENlK0)\n",
    "\n",
    "[Video: Carbohydrates](https://www.youtube.com/watch?v=_zm_DyD6FJ0)\n",
    "\n",
    "[Video: Lipids](https://www.youtube.com/watch?v=VGHD9e3yRIU)\n",
    "\n",
    "[Video: Proteins](https://www.youtube.com/watch?v=2Jgb_DpaQhM)\n",
    "\n",
    "From the videos above you will notice that proteins are by far the most complex molecules, given that the 20 building blocks (or amino acids) can be arranged in any order to make any protein. Note that the largest protein in the body consists of 27000 amino acids, so protein molecules tend to be very large molecules. \n",
    "\n",
    "<img src=\"aminoacids.png\" width=\"550\" />\n",
    "\n",
    "\n",
    "\n",
    "Very important to understand that proteins are the molecules that perform all functions in all organisms, they are effectively the molecules of life! You might wonder how all the amino acids arrange themselfes according to a specific recipe to make a specific molecule. We'll get into this a bit later. The answer is referred to as the central dogma of biology."
   ]
  },
  {
   "cell_type": "markdown",
   "metadata": {},
   "source": [
    "\n",
    "You already know that a human requires protein, carbohydrates and fat for nutrition. It is generally agreed that a healthy diet should consist of 45-65% of carbohydrates, 10-35% protein and 20-35% fats. If we take a 50:30:20 percentage of carbs:protein:fat we can derive a general chemical formula for a healty diet intake. I have obtained the following formula, do you get something similar? Note that water is not included in this foodstream and that all formulas are given on a dry basis.\n",
    "\n",
    "https://bionumbers.hms.harvard.edu/bionumber.aspx?s=n&v=1&id=109413.  Protein formula\n",
    "\n",
    "https://chem.libretexts.org/Bookshelves/General_Chemistry/Book%3A_ChemPRIME_(Moore_et_al.)/03%3A_Using_Chemical_Equations_in_Calculations/3.05%3A_Analysis_of_Compounds/3.5.01%3A_Foods-_Burning_or_Metabolizing_Fats_and_Sugars\n",
    "\n",
    "We now have the chemical formula of the food entering the human body. The next question will be to determine the quantity of food (on a dry basis). Here we should consider the energetic requirements of the human body (remeber chapter 1). The heat of combustion of proteins, carbs and fats are well established and given the the formula above I obtain a feedrate of .....  Do you get the same by performing your own calculation? \n",
    "\n",
    "\n",
    "So now let's think of the human as a chemical process, with a foodstream with the formula above coming into the process. Let's consider the other streams coming into the process. Since the majority of our energy is generated from aerobic respiration, we will require a carbon source (that will be metabolised to pyruvate before enetering the TCA cycle) that is provided by our food (with the generalised chemical formula above). We will also require oxygen as final electron acceptor from oxidative phosphorilation, so this is an additional stream into the process. When we consider the streams that exit the body (or system) it is obvious that CO₂ must leave the system when we consider the formation of CO₂ in the TCA cycle. In addition our food and liquid consumption generate a solid waste stream (feces) and a liquid waste stream (urine). Since we will be working with annimal manure in the next chapters we prefer to use the term humanure for solid waste generated from humans, it just sounds better than all the other terms avaialble. There is of course other small excretion streams like sweat, tears, mucus and hair but the amount of chemicals contained in these excretions are relatively insignificant compared to the main streams mentioned above, so for keeping the mass balance simple we will ignore these terms.\n",
    "\n",
    "Given the human process described above we now want to perform an elemental balance  on each of elements required for life. We will ignore elements that is required in very small quantities and only stick with the following set of elements for our mass balance:\n",
    "\n",
    "C,H,O (decide on what will be used for the whole course)\n",
    "\n",
    "Before we can start with the mass balance we need better elemental understanding of waste streams generated by humans. Take a few minutes to see if you can find an elemental composition and typical daily amount of humanure. My chemical formula for humanure obtained from the internet is the following:\n",
    "\n",
    "\n",
    "While the daily amount on a dry basis is given as .... Please feel free to challenge these figures based on your own research. \n",
    "\n",
    "At this stage it is very important to understand how we will treat water in all the mass balances where biomass is concerned. We will effectively neglect the influx and outflux of water through the process. This implies that all biomass will be defined on a dry basis. In the overall reaction water might be a product (or reactant) and this will be calculated in the mass balance. Understand that a major amount of water will enter the system as well as exit the system and that this amount is not quantified. Only a small amount of water will either be used from the incoming water stream or will be produced and added to the outgoing water stream. This small amount is hence referred to as the reaction water.\n",
    "\n",
    "We also need to define the composition of urine. Here we will onlu look at nitrogen and minerals and we will ignore carbon in the urine (although there is a small but negligible amount). It is convenient in this regard to rather define the fractional split between elements exiting thorugh solid waste and liquid waste. My research resulted in the following split ratios. Perhaps you can do some research on your own and challenge the table below.\n",
    "\n",
    "We are now ready to perform the mass balance. In CBI310 we will use a matrix approach to solve for C,H,O N balances. You will see that this elegant approach is very usefull and quick. We will continually use this approach in most of the chapters of CBI310\n",
    "\n",
    "See chapter 3 and explain the mass balance approach.\n",
    "\n",
    "\n"
   ]
  },
  {
   "cell_type": "code",
   "execution_count": null,
   "metadata": {},
   "outputs": [],
   "source": []
  },
  {
   "cell_type": "code",
   "execution_count": null,
   "metadata": {},
   "outputs": [],
   "source": []
  }
 ],
 "metadata": {
  "kernelspec": {
   "display_name": "Python 3",
   "language": "python",
   "name": "python3"
  },
  "language_info": {
   "codemirror_mode": {
    "name": "ipython",
    "version": 3
   },
   "file_extension": ".py",
   "mimetype": "text/x-python",
   "name": "python",
   "nbconvert_exporter": "python",
   "pygments_lexer": "ipython3",
   "version": "3.7.6"
  }
 },
 "nbformat": 4,
 "nbformat_minor": 4
}
