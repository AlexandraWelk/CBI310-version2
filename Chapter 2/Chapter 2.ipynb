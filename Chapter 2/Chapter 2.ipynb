{
 "cells": [
  {
   "cell_type": "markdown",
   "metadata": {},
   "source": [
    "# Chapter 2: The food we need\n"
   ]
  },
  {
   "cell_type": "markdown",
   "metadata": {},
   "source": [
    "\n",
    "<img src=\"food1.jpg\" width=\"550\" />\n",
    "\n",
    "## Elements of the human body\n",
    "\n",
    "We now know a little bit about how the human body requires energy to sustain itself. In this chapter, we are going to have a detailed look at the food that we supply to our bodies, however, we are going to use a chemical engineering approach where we break down all the chemical elements that enter our bodies through food. Have you ever wondered what chemicals food consists of, or even better, what chemical elements your body consists of? Have a look at this visual video to develop a feel.\n",
    "\n",
    "[Video: Elements of the human body](https://www.youtube.com/watch?v=xd16--F8jGA)\n",
    "\n",
    "Amazing that these 11 elements constitute 99.9% of our bodies. Given the information in the video above, we can now generate a chemical formula for the average human. In this formula. we will use the carbon atom as the basis atom since most chemicals in our bodies have carbon as the backbone. Given this basis, the average human body can be described by the following \"molecule\" or molecular formula.\n",
    "\n",
    "$CH_{6.121}O_{2.638}N_{0.148}Cl_{0.00366}Mg_{0.00534}Na_{0.00565}Ca_{0.024}K_{0.00321}S_{0.00608}P_{0.021}$\n",
    "\n",
    "In this subject, we will typically work with the dry weight of biomass and we will therefore exclude the water content from the molecular formula. Given that the average human body contains 60% water (based on total mass), the formula above can be rewritten as:\n",
    "\n",
    "$CH_{1.847}O_{0.4771}N_{0.148}Cl_{0.00366}Mg_{0.00534}Na_{0.00565}Ca_{0.024}K_{0.00321}S_{0.00608}P_{0.021}$\n",
    "\n",
    "Can you calculate these formulas based on the fact that the video gave mass percentages? If not, make sure you can by contacting a classmate or a TA."
   ]
  },
  {
   "cell_type": "markdown",
   "metadata": {},
   "source": [
    "Now given that the human body can be written as a chemical formula, we can do the same for the food that the human consumes. But before we do this we want to learn a little about the basic molecules that is required in the human diet. \n",
    "\n",
    "<img src=\"pcf.jpeg\" width=\"550\" />\n",
    "\n",
    "\n",
    "The following videos will give you an better understanding of proteins, carbohydrates and fat:\n",
    "\n",
    "[Video: Basic food molecules](https://www.youtube.com/watch?v=H8WJ2KENlK0)\n",
    "\n",
    "[Video: Carbohydrates](https://www.youtube.com/watch?v=_zm_DyD6FJ0)\n",
    "\n",
    "[Video: Lipids](https://www.youtube.com/watch?v=VGHD9e3yRIU)\n",
    "\n",
    "[Video: Proteins](https://www.youtube.com/watch?v=2Jgb_DpaQhM)\n",
    "\n",
    "From the videos above you will notice that proteins are by far the most complex molecules, given that the 20 building blocks (or amino acids) can be arranged in any order to make any protein. Note that the largest protein in the body consists of 27000 amino acids, so protein molecules tend to be very large molecules. \n",
    "\n",
    "<img src=\"aminoacids.png\" width=\"550\" />\n",
    "\n",
    "\n",
    "\n",
    "Very important to understand that proteins are the molecules that perform all functions in all organisms, they are effectively the molecules of life! You might wonder how all the amino acids arrange themselfes according to a specific recipe to make a specific molecule. We'll get into this a bit later. The answer is referred to as the central dogma of biology."
   ]
  },
  {
   "cell_type": "markdown",
   "metadata": {},
   "source": [
    "You already know that a human requires protein, carbohydrates and fat for nutrition. It is generally agreed that a healthy diet should consist of 45-65% of carbohydrates, 10-35% protein and 20-35% fats.\n",
    "\n",
    "The following generic formulas can be used for carbs, proteins and fats. Note that these formulas just give an estimation and that variation is possible.\n",
    "\n",
    "Carbs:\n",
    "$$CH_2O$$\n",
    "\n",
    "Fat:\n",
    "$$CH_2O_{0.11}$$\n",
    "\n",
    "Protein:\n",
    "$$CH_{1.6}O_{0.32}N_{0.26}$$\n",
    "\n",
    "\n",
    "If we take a 50:30:20 percentage of carbs:protein:fat we can derive a general chemical formula for a healty diet intake. I have obtained the following formula:\n",
    "\n",
    "$$CH_{1.875}O_{0.523}N_{0.081}$$\n",
    "\n",
    "Do you get something similar? Note that water is not included in this foodstream and that all formulas are given on a dry basis. At this stage it is very important to understand how we will treat water in all the mass balances where biomass is concerned. We will effectively neglect the influx and outflux of water through the process. This implies that all biomass will be defined on a dry basis. In the overall reaction water might be a product (or reactant) and this will be calculated in the mass balance. Understand that a major amount of water will enter the system as well as exit the system and that this amount is not quantified. Only a small amount of water will either be used from the incoming water stream or will be produced and added to the outgoing water stream. This small amount is hence referred to as the reaction water."
   ]
  },
  {
   "cell_type": "markdown",
   "metadata": {},
   "source": [
    "So now we know the carbon based molecular formula of a healthy diet 😀.Let's get back to our Ben example, where Ben consumes 9000 kJ per day. Given the following energy content of the major foodgroups:\n",
    "\n",
    "<img src=\"energy1.jpg\" width=\"400\" />\n",
    "\n",
    "Determine the mass 'flowrate' and the carbon based molar (or cmol) flowrate that Ben must consume in a day if he consumes the cmol formula derived above.[424.5 $\\frac{g}{day}$ and 18.1$\\frac{cmol}{day} $]"
   ]
  },
  {
   "cell_type": "markdown",
   "metadata": {},
   "source": [
    "We now have the chemical formula of the food entering the human body. The next question will be to determine the quantity of food (on a dry basis). Here we should consider the energetic requirements of the human body (remeber chapter 1). The heat of combustion of proteins, carbs and fats are well established and given the the formula above I obtain a feedrate of .....  Do you get the same by performing your own calculation? \n",
    "\n",
    "\n",
    "So now let's think of the human as a chemical process, with a foodstream with the formula above coming into the process. Let's consider the other streams coming into the process. Since the majority of our energy is generated from aerobic respiration, we will require a carbon source (that will be metabolised to pyruvate before enetering the TCA cycle) that is provided by our food (with the generalised chemical formula above). We will also require oxygen as final electron acceptor from oxidative phosphorilation, so this is an additional stream into the process. When we consider the streams that exit the body (or system) it is obvious that CO₂ must leave the system when we consider the formation of CO₂ in the TCA cycle. In addition our food and liquid consumption generate a solid waste stream (feces) and a liquid waste stream (urine). Since we will be working with annimal manure in the next chapters we prefer to use the term humanure for solid waste generated from humans, it just sounds better than all the other terms avaialble. There is of course other small excretion streams like sweat, tears, mucus and hair but the amount of chemicals contained in these excretions are relatively insignificant compared to the main streams mentioned above, so for keeping the mass balance simple we will ignore these terms.The following diagram will help:\n",
    "\n",
    "<img src=\"metabolism.png\" width=\"550\" />\n",
    "\n",
    "\n",
    "We are now interested in performing a carbon, hydrogen, oxygen and nitrogen balance over the diagram above. We'll be using a simple matrix approach to simplify the calculations. This matrix aproach will also come in handy when we move to solving mass balances and differential equations together (later chapters). We already have the elemental composition of the food intake, but in order to complete the mass balance we need elemental compositions (and some flowrates) of the urine and humanure stream. Let's start with urine. The following table gives you a good idea what urine is made of:\n",
    "\n",
    "<img src=\"urine2.png\" width=\"650\" />\n",
    "\n",
    "You will note that there are various organic components and minerals. For the intial mass balance that we perform we are only interested in C,H,O and N and thus we only have to use the organic components. For simplification purposes we'll only consider urea and we'll use 35$\\frac{g}{day}$ as the dry flowrate for the example below. \n",
    "\n",
    "When it comes to humanure the following graphic might teach you something:\n",
    "\n",
    "<img src=\"poop.png\" width=\"450\" />\n",
    "\n",
    "From a C,H,O and N perspective we want to write all the organic components as a formula. Perhaps you can get on the internet and deduct your own formula, but for now we'll stick with the following: manure contains on a mass basis 48% carbon, 7% hydrogen, 38% oxygen and 7% nitrogen. On a carbon based (cmol) formula the following should be obtained:\n",
    "\n",
    "$$CH_{1.75}O_{0.59}N_{0.125}$$\n",
    "\n",
    "The average person excretes about 40-70 grams of dry (water excluded) humanure in a day. "
   ]
  },
  {
   "cell_type": "markdown",
   "metadata": {},
   "source": [
    "We know have enough info to perform a mass balance. "
   ]
  },
  {
   "cell_type": "markdown",
   "metadata": {},
   "source": [
    "## Linear equations and the beauty of the matrix\n",
    "\n",
    "### Mass balances\n",
    "\n",
    "Let's start with the human metabolism. We eat proteins, carbohydrates and fat, we consume oxygen and we excrete urine, humanure and $CO_2$. We also excrete sweat, hair and other excretions but from a mass balance point of view these excretions are negligible. So let's get into the math of this chemical transformation. We can start by writing the overall chemical equation:\n",
    "\n",
    "$$a \\cdot C H_{2}O+b \\cdot  C H_{2}O_{0.11}+c \\cdot H_{1.6}O_{0.32}N_{0.26}+d \\cdot O_2→e \\cdot CO_2+f \\cdot C H_{4}O_1N_2+g \\cdot CH_{1.75}O_{0.59}N_{0.125}+ h \\cdot H_2 O$$\n",
    "\n",
    "Note the formulas for carbs, fat and protein already given above. $a$-$g$ merely presents the stoichiometric coeffisients of the single equations. Obtaining these stoicheometric coeffisients is the name of the CBI game. If we know these coeffisients we can relate the rate of formation/consumption of one component to any of the other components. So if one rate is known, let's say the rate of carb consumption, all other rates are known because the stoicheometry is established. If we know the rates of all components the problem is solved. Important to undestand that the $a$-$g$ values are relative and not absolute values. The typical convention is to make $a=1$ and then relate $b$-$g$ to the chosen value of $a$. In this course we will choose one of the $a$-$g$ values as the rate of that component and since the $a$-$g$ values are mere ratios of the component rates, the rates of each component will be easy to calculate. More on this later. \n",
    "\n",
    "One thing that is funny about the above equation is that a single carbon is used in all the formulas. This is called the **cmol concept** and you need to fully grasp this concept for the rest of CBI. If you think about all the carb molecules entering the body you should understand that some will contain more carbon atoms in the chain than others. Sugar will only contain 12 carbon atoms, but some starches will contain hundreds of carbon atoms chained together. These different molecules do however share a constant ratio between carbon and hydrogen atoms, also between carbon and oxygen atoms. So since we can't define the exact carb molecule entering the body, we opt for defining a molecule with only one carbon. We then perform all our rate  (stoicheometry) calculations on the basis of this molecule with only one carbon. This is the essence of the cmol concept. You will learn the concept as we do more exersizes.\n",
    "\n",
    "It is important when we define stoicheometric coeffisients ($a$-$g$) to consider the sign of the coeffisient. The convention is to use a negative sign for consumption and a positive sign for production. At times we won't be sure if a certain component (like water) is a product or a reactant and then the calculation will show us the answer via the sign of the value calculated.\n",
    "\n",
    "So can you balance the above equation like you did in high school? Give it a try. You might realise that the problem is under specified, implying that mere atom balancing won't give you an answer. There is only four chemical elements in the equation above and 8 components, so we need more than atomic mass balances to solve for the stoicheometry (rates).\n",
    "\n",
    "There is 8 stoicheometric coeffisients to solve for, so we need 8 equations to perform the job. Let's start with the mass balances, they are fairly straightfoward. Stoicheometric coeffisients are typically relative, as mentioned before, but in CBI we'll make them absolute by making the coeffisient the rate of that specific component, thus:\n",
    "\n",
    "$$a=r_{carbs},\\space b=r_{fats} \\space \\space \\space etc...$$\n",
    "\n",
    "Whenever we talk about rates, you need to think **units**. What is the units of the rate I am working with? Always ask this question before you venture into a problem! For the current example, the rate is given by:\n",
    "\n",
    "$$r_i=\\frac{cmol}{day \\cdot person}$$\n",
    "\n",
    "For the components with no carbon the units will be:\n",
    "\n",
    "$$r_i=\\frac{mol}{day \\cdot person}$$\n",
    "\n",
    "Etch these units into your brain! Think hard about it to make the etch!"
   ]
  },
  {
   "cell_type": "markdown",
   "metadata": {},
   "source": [
    "So let's start with the hydrogen mass balance:\n",
    "\n",
    "$$ 2(-r_C)+2(-r_F)+1.6(-r_P)=4(r_U)+1.75(r_M)+2(r_W)$$\n",
    "\n",
    "In this balance we have reagents on the left and products on the right. Whatever is consumed on the left, is formed on the right of the equation. But why the minus signs on the left? This relates to the fact that the convention in defining reaction rate ($r_i$) is that $ri$ implies production (and not consumption). This implies that production rates will be positive and consumption rates negative. Try to understand that $r_C$ in this example will have a negative value, since carbs is consumed. It also implies that the $(-r_C)$ term will have a positve value.   \n",
    "\n",
    "We can rewrite the equation by setting the total equation equal to zero. We will now have:\n",
    "\n",
    "$$ 2r_C+2r_F+1.6r_P+4r_U+1.75r_M+2r_W=0$$"
   ]
  },
  {
   "cell_type": "markdown",
   "metadata": {},
   "source": [
    "So for carbon, oxygen and nitrogen we can generate 3 more equations:\n",
    "\n",
    "Carbon:\n",
    "$$ r_C+r_F+r_P+r_{CO_2}+r_U+r_M=0$$\n",
    "\n",
    "Oxygen:\n",
    "$$ r_C+0.11r_F+0.32r_P+2r_O+2r_{CO_2}+r_U+0.59r_M+r_W=0$$\n",
    "\n",
    "Nitogen:\n",
    "$$ 0.26r_P+2r_U+0.125r_M=0$$\n",
    "\n",
    "### Including the energy balance\n",
    "\n",
    "We now have 4 equations from the mass balance and it is easy to include the energy balance in this set of equations. In Chapter 1 we have mentioned Ben's base metbolic rate of $9000 \\frac{kJ}{day}$. All energy comes from the food that we consume and the energy from the waste streams can be taken as negligible at this stage. The body is designed to extract the maximum amount of energy from the food consumed and accordingly it makes sense that the waste products have minimal energy content. Remeber this table?\n",
    "\n",
    "<img src=\"energy1.jpg\" width=\"400\" />\n",
    "\n",
    "So Ben has to consume 9000 kJ of energy from carbs, fat and protein if he wants to maintain a stable weight. If he consumes more than this, fat will accumulate, or if he consumes less he will lose fat. For now we will assume that he only consumes 9000 KJ. The energy balance is given below:\n",
    "\n",
    "$$ (17 \\times 30)(-r_C)+(38 \\times15.76)(-r_F)+(17 \\times 22.36)(-r_P)=9000 $$\n",
    "\n",
    "The units of the terms of this equation is $\\frac{kJ}{Ben \\cdot day}$. The units of rate will be $\\frac{cmol}{Ben \\cdot day}$ for the components containing carbon (for the non-carbon molecules it will be $\\frac{mol}{Ben \\cdot day}$). I guess you have figured out the 17, 38 and 17 $\\frac{kJ}{g}$ from the table above. The 30, 15.76 and 22.36 is merely the cmol molar masses of carbs, fat and protein with units of $\\frac{g}{cmol}$. Calculate the cmol masses yourself! Ensure by carefully looking at the units that you understand the energy balance above! \n"
   ]
  },
  {
   "cell_type": "markdown",
   "metadata": {},
   "source": [
    "### Specification equations\n",
    "\n",
    "We now have 5 equations to determine rates with. **Remember that calculation of the rates is the objective of the whole exercise!**. We have 8 rates to calculate so we need 3 more equations.\n",
    "\n",
    "In order to obtain 8 absolute rate values, one rate need to be specified. In this example we'll use the excretion rate of urea of 35 $\\frac{g}{day \\cdot person}$ for Ben, a typical average value for humans. We will also specify the percentage of carbs, fat and protein in Ben's diet as 50:20:30% on a mass basis. Given this we can set up 3 more equations given below:\n",
    "\n",
    "$$r_U= \\frac{35}{60}$$\n",
    "\n",
    "Note that the units of rate is $\\frac{cmol}{Ben \\cdot day}$. Where does the value of 60 come from?\n",
    "\n",
    "$$r_C=\\frac{50}{20} \\frac{15.76}{30}r_F$$\n",
    "\n",
    "Can you figure out this one?\n",
    "\n",
    "Lastly we have:\n",
    "\n",
    "$$r_C=\\frac{50}{30} \\frac{22.36}{30}r_F$$"
   ]
  },
  {
   "cell_type": "markdown",
   "metadata": {},
   "source": [
    "### Elegant solution of sets of linear equations\n",
    "\n",
    "In CBI we will be using matrix formulations to solve sets of linear equations. Above we have 8 components and 8 equations. So unless some of the equations are linearly dependant (which is not the case in this example) we can solve for the seven unknown rates (remember that $r_U$ was specified and is thus known). See if you can fully understand the matrix formulation given below:\n",
    "\n",
    "$$\\mathbf{S\\times r=C}$$\n"
   ]
  },
  {
   "cell_type": "markdown",
   "metadata": {},
   "source": [
    "$$\\begin{bmatrix}\n",
    " &Carbs&Fat&Proteins&O_2&CO_2&U&M&H_2O\\\\\n",
    "C& 1& 1& 1& 0& 1& 1& 1& 0\\\\\n",
    "H& 2& 2& 1.6& 0& 0& 4&\t1.75& 2\\\\\n",
    "O& 1& 0.11& 0.32&  2& 2& 1&\t0.59& 1\\\\\n",
    "N& 0& 0& 0.26& 0& 0& 2&\t0.125& 0\\\\\n",
    "En& -510& -598.9& -380.1& 0& 0& 0& 0& 0\\\\ \n",
    "S_1& 1& -0.26267& 0& 0& 0& 0& 0& 0\\\\\n",
    "S_2& 1& 0& -0.37267 0& 0& 0& 0& 0& 0\\\\\n",
    "S_3& 0& 0& 0& 0& 0& 1& 0& 0\\end{bmatrix}\n",
    "\\times\\begin{bmatrix}\n",
    "r_{C}\\\\r_{F}\\\\r_{P}\\\\r_{O}\\\\r_{C}\\\\r_{U}\\\\r_{M}\\\\r_{W}\\end{bmatrix}\n",
    "=\\begin{bmatrix}0\\\\0\\\\0\\\\0\\\\9000\\\\0.5833\\\\0\\\\0\\end{bmatrix}$$\n",
    "\n",
    "The big matrix is called the **stoicheometric matrix**. In my opinion this is the **sword** of all chemical engineering calculations. With a correct stoicheometrix matrix we can conquer complex calculations. In using our sword we give thanks to the minds that gave us the beauty of linear algebra! "
   ]
  },
  {
   "cell_type": "markdown",
   "metadata": {},
   "source": [
    "### Now for some real numerical answers!"
   ]
  },
  {
   "cell_type": "markdown",
   "metadata": {},
   "source": [
    "Hope that you have already used **Python** for your chapter 1 calculations. This numerical tool is **VERY** useful! Solving the formulation is a few lines of code (that you can copy and paste from my code below). The big work is in setting up the correct stoicheometric matrix ($S$). I want you to define the $S$ in Python by yourself. Accordingly I'll only show you how to solve a set of other linear equations.  \n",
    "\n",
    "Python will numerically perform the procedure below. Maybe you remember something of matrix inversion and multiplication from your math courses? \n",
    "\n",
    "$$\\mathbf{r=S^{-1} \\times C}$$\n",
    "\n",
    "Let's take the following system of linear equations:"
   ]
  },
  {
   "cell_type": "markdown",
   "metadata": {},
   "source": [
    "The matrix formulation above can easily be solved in Python Notebooks. We only require values for F and U. Note that these values must be in $\\frac{cmol}{human\\, \\cdot day}$. We have the mass flowrates of both F and U and we can merely convert by deviding with the cmol molar mass. See if you can follow the code below: "
   ]
  },
  {
   "cell_type": "code",
   "execution_count": 1,
   "metadata": {},
   "outputs": [
    {
     "data": {
      "text/plain": [
       "matrix([[1.   , 0.   , 1.   , 1.   , 1.   , 0.   ],\n",
       "        [1.875, 0.   , 0.   , 4.   , 1.75 , 2.   ],\n",
       "        [0.523, 2.   , 2.   , 1.   , 0.59 , 1.   ],\n",
       "        [0.081, 0.   , 0.   , 2.   , 0.125, 0.   ],\n",
       "        [1.   , 0.   , 0.   , 0.   , 0.   , 0.   ],\n",
       "        [0.   , 0.   , 0.   , 1.   , 0.   , 0.   ]])"
      ]
     },
     "execution_count": 1,
     "metadata": {},
     "output_type": "execute_result"
    }
   ],
   "source": [
    "import numpy\n",
    "\n",
    "#                  F     O2   CO2   U   M     H2O\n",
    "S = numpy.matrix([[1    ,0   ,1   ,1   ,1    ,0],  #C\n",
    "                  [1.875,0   ,0   ,4   ,1.75 ,2],  #H\n",
    "                  [0.523,2   ,2   ,1   ,0.59 ,1],  #O\n",
    "                  [0.081,0   ,0   ,2   ,0.125,0],  #N\n",
    "                  [1    ,0   ,0   ,0   ,0    ,0],  #S1\n",
    "                  [0    ,0   ,0   ,1   ,0    ,0]]) #S2\n",
    "\n",
    "#here we created the matrix using numpy, note each row is an array and these are seperated by a ','\n",
    "#tip: even spacing as above can help you keep track of your columns\n",
    "\n",
    "S"
   ]
  },
  {
   "cell_type": "code",
   "execution_count": 2,
   "metadata": {},
   "outputs": [
    {
     "data": {
      "text/plain": [
       "matrix([[-18.15887411],\n",
       "        [-18.26689324],\n",
       "        [ 15.14192369],\n",
       "        [  0.58333333],\n",
       "        [  2.43361709],\n",
       "        [ 13.72786286]])"
      ]
     },
     "execution_count": 2,
     "metadata": {},
     "output_type": "execute_result"
    }
   ],
   "source": [
    "C = numpy.matrix([[0,0,0,0,-424.5/23.377,35/60]]).T\n",
    "# here we created our matrix for C, note all mass balance = 0, so only the specifications will have values\n",
    "# what is the '.T' ? T = transpose, it is easier to type the matrix as 1 row but it should actually be 1 column, \n",
    "# thus we transpose it\n",
    "\n",
    "\n",
    "r = numpy.linalg.solve(S,C)\n",
    "#this function executes the equation shown above by converting S to S^{-1} and multiplying the matrices\n",
    "\n",
    "r"
   ]
  },
  {
   "cell_type": "markdown",
   "metadata": {},
   "source": [
    "Lots of information in the answer above. I want you to scrutinize the dry mass flows of $CO_2$ and humanure. Use Google to check if these amounts are realistic when considering heuristic figures from the internet. Ensure that you can do the calculations."
   ]
  },
  {
   "cell_type": "markdown",
   "metadata": {},
   "source": [
    "## Now try it yourself\n",
    "\n",
    "Let's see what happens if we do a banting diet of 20% carbs, 40% protein and 40% fat. Let's also include 1 g uric acid in the urine excreted and 900 mg of phosphorous in the incoming food. You can still assume that 35 g of urea is excreted daily.\n",
    "\n",
    "354.3 $\\frac{g}{Ben\\, \\cdot day}$ and $CH_{1.857}O_{0.304}N_{0.093}$\n",
    "\n",
    "Why is the dry mass intake less? Why is the oxygen intake less and the nitrogen intake more?\n",
    "\n",
    "Determine the $CO_2$ production and $O_2$ consumption and compare to the previous example. In this example 591.4 grams of $CO_2$ was produced, this is only 89% of the previous example. Also the oxygen consumtion of 581 grams is very similar to before. How do you explain this?\n",
    "\n",
    "What fraction of nitrogen digested by Ben ended up in humanure?\n",
    "\n",
    "Let's look a little at the phosphorous entering Ben. Will some of it accumulate in Ben's body. How will the phosphorous exit Ben's system? Will the Phosphorous distribution between the urine and humanure be the same. Use Google/ChatGPT to adress this question.\n",
    "\n",
    "What is the fate of nitrogen from human excretions? Where does most of it end up?\n",
    "\n",
    "What is the fate of phosphorous excretions from humans. Where does most of it end up?\n",
    "\n",
    "You will note from the balances that water (reaction water) is produced by Ben. How does this amount compare to the daily required intake of water for Ben. Give numbers.\n",
    "\n",
    "How much Phosphorous does Ben require per day? What food and specifically plantfood sources are high in Phosphorous? What is Phosphorous required for in the human body?\n",
    "\n",
    "Why can't humanure and urine just be dumped into a river?\n",
    "\n",
    "\n",
    "\n",
    "\n",
    "\n",
    "\n",
    "\n",
    "\n",
    "\n",
    "\n"
   ]
  },
  {
   "cell_type": "markdown",
   "metadata": {},
   "source": []
  }
 ],
 "metadata": {
  "kernelspec": {
   "display_name": "Python 3 (ipykernel)",
   "language": "python",
   "name": "python3"
  },
  "language_info": {
   "codemirror_mode": {
    "name": "ipython",
    "version": 3
   },
   "file_extension": ".py",
   "mimetype": "text/x-python",
   "name": "python",
   "nbconvert_exporter": "python",
   "pygments_lexer": "ipython3",
   "version": "3.9.13"
  }
 },
 "nbformat": 4,
 "nbformat_minor": 4
}
