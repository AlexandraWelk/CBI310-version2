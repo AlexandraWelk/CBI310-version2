{
 "cells": [
  {
   "cell_type": "markdown",
   "id": "3907db1f",
   "metadata": {},
   "source": [
    "# More on Chapter 8\n",
    "\n",
    "\n"
   ]
  },
  {
   "cell_type": "markdown",
   "id": "49333c36",
   "metadata": {},
   "source": [
    "Let's do some analysis on all the all the profiles that we have generated:\n",
    "\n",
    "Let's start with the base case of question (a).\n",
    "\n",
    "<img src=\"prof1b.png\" width=\"450\" />"
   ]
  },
  {
   "cell_type": "markdown",
   "id": "adeb77c3",
   "metadata": {},
   "source": [
    "1) Determine $\\frac{C_S}{dt}$ at 20 days. Start by doing it visually with a ruler on your screen. Estimate the $\\frac{\\Delta C}{\\Delta t}$ in $\\frac{cmol}{L \\cdot d}$. Once you have this value determine the value from Python. Shorten the integration time to 20 days and obtain all the $\\frac{dC_i}{dt}$ values with the following script: "
   ]
  },
  {
   "cell_type": "code",
   "execution_count": 4,
   "id": "a6c1276a",
   "metadata": {},
   "outputs": [],
   "source": [
    "#Ci2=Ci.sol(tspan).T\n",
    "#dC=np.asarray([ferm_eq(0,C) for C in Ci2])"
   ]
  },
  {
   "cell_type": "markdown",
   "id": "a53c7b39",
   "metadata": {},
   "source": [
    "Note that the time assignment to **ferm_eq** is set to zero since **ferm_eq** is not a function of time. The correct slope is -0.08707 $\\frac{cmol}{L \\cdot d}$"
   ]
  },
  {
   "cell_type": "markdown",
   "id": "2d279042",
   "metadata": {},
   "source": [
    "2) Obtain all the concentrations at 20 days and then feed these values to the **ferm_eq** to get all the $\\frac{dC_i}{dt}$ values returned. For substrate the answer should be the same as in (1)"
   ]
  },
  {
   "cell_type": "code",
   "execution_count": 5,
   "id": "07a09ea1",
   "metadata": {},
   "outputs": [],
   "source": [
    "#a= ferm_eq(0,[Cs[-1], Cx1[-1], Cx2[-1], Cx3[-1], Ca[-1],Ch[-1], Cc[-1], Cm[-1], Cn[-1]])\n"
   ]
  },
  {
   "cell_type": "markdown",
   "id": "e4f8d35d",
   "metadata": {},
   "source": [
    "Can you see that **ferm_eq** gives the $\\frac{dC_i}{dt}$ slopes. **Solve_ivp** uses these slopes to find the concentration profiles. Numerical integration is all about following the slope from a reference point for a small $\\Delta t$"
   ]
  },
  {
   "cell_type": "markdown",
   "id": "2740566c",
   "metadata": {},
   "source": [
    "3) Obtain all the concentrations at 20 days and then feed these values to the **response_fun** to get all the $r_i^V$ values returned. Why are the answers the same as in (2)?"
   ]
  },
  {
   "cell_type": "markdown",
   "id": "e716d06d",
   "metadata": {},
   "source": [
    "4) Now let's look at acetic acid production at 20 hours. Determine the cell based rates at this moment in time in units of $\\frac{cmol \\, Ac}{cmol \\,X \\cdot d}$ [0.936 -1.509]\n",
    "\n",
    "It appears as if the consumption rate is more than the production rate. But if we look at the concentration graph it is clear that $\\frac{dCa}{dt}$ is positive. How is this possible?"
   ]
  },
  {
   "cell_type": "markdown",
   "id": "fb0fa1ae",
   "metadata": {},
   "source": [
    "5) Given your answer above, consider the profiles from your (b) answer in the previous Chapter 8 set of questions. Why the major difference with (a)?"
   ]
  },
  {
   "cell_type": "markdown",
   "id": "ac2ac935",
   "metadata": {},
   "source": [
    "6) Methane is produced via the **acetoclastic** as well as the **hydrogenotrophic** archaea. Firstly, we are interested in determining the fraction of methane that originated from acetic acid in the reaction. Secondly we want to compare two microbes with one another (X2 and X3) to investigate the relative production of methane per microbe. For questions (a) and (b) you should get the following: \n",
    "\n",
    "<img src=\"metf.png\" width=\"850\" />\n",
    "\n",
    "Tip: Set up a new **response_fun** where you return the rate values (per reactor or per microbe) you are interested in.\n",
    "\n",
    "7) What is the volumetric and biomass based rate of **acetoclastic** methane production at 15 hours? [0.0176 $\\frac{mol}{L \\cdot d}$]\n",
    "[0.715 $\\frac{mol}{cmol \\, X_2 \\cdot d}$]"
   ]
  },
  {
   "cell_type": "markdown",
   "id": "e92a2bc8",
   "metadata": {},
   "source": [
    "8) Let's consider the answers from (e) and (g)\n",
    "\n",
    "<img src=\"profg2.png\" width=\"850\" />\n",
    "\n",
    "Explain the difference!"
   ]
  },
  {
   "cell_type": "markdown",
   "id": "944983e7",
   "metadata": {},
   "source": [
    "8) Let's now take the base condition, but now we dilute at D=0.03. You can use the initial substrate concentration for the batch reactor as the feed concentration of the inlet stream. Take the concentration values at 20 days and feed\n",
    "both to **response_fun** and **ferm_eq**. Are the returned values still the same?\n",
    "\n",
    "<img src=\"profc1.png\" width=\"450\" />\n",
    "\n",
    "\n",
    "9) Now use fsolve to solve for steady state. Use the concentration values from 70days as your initial guess values. How long should you run the dynamic model before the values of steady state are obtained? "
   ]
  },
  {
   "cell_type": "markdown",
   "id": "03730f6f",
   "metadata": {},
   "source": [
    "10) Rerun your dynamic model by decreasing the initial substrate concentration with a factor 2, while simultaneously increasing all the microbial populations with a factor of 2. How does the steady state answer compare to (9)?  "
   ]
  },
  {
   "cell_type": "code",
   "execution_count": null,
   "id": "15a381dc",
   "metadata": {},
   "outputs": [],
   "source": []
  }
 ],
 "metadata": {
  "kernelspec": {
   "display_name": "Python 3 (ipykernel)",
   "language": "python",
   "name": "python3"
  },
  "language_info": {
   "codemirror_mode": {
    "name": "ipython",
    "version": 3
   },
   "file_extension": ".py",
   "mimetype": "text/x-python",
   "name": "python",
   "nbconvert_exporter": "python",
   "pygments_lexer": "ipython3",
   "version": "3.9.13"
  }
 },
 "nbformat": 4,
 "nbformat_minor": 5
}
