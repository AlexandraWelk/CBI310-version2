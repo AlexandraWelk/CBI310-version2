{
 "cells": [
  {
   "cell_type": "markdown",
   "id": "ec0aa82c",
   "metadata": {},
   "source": [
    "# CHAPTER 8: ANAEROBIC DIGESTION (AD) PART 3"
   ]
  },
  {
   "cell_type": "markdown",
   "id": "c2a7086e",
   "metadata": {},
   "source": [
    "### Understanding the seperate AD steps\n",
    "\n",
    "In Chapter 7 we only had one pseudo organism (X) that facilitated the breakdown of substrate to methane. In real life there are unique steps in the anaerobic digestion process. In this regard it is very important to distinguish between the fermentative acid forming bacteria and the methanogenic archaea.\n",
    "\n",
    "The fermentative bacteria has two unique tasks. First the complex solids have to be broken down to monomers i.e. sugars, amino acids and fatty acids. This is referred to as hydrolysis. Hydrolysis is typically very slow, since the enzymes excreted from the fermentative bacteria takes time to break the bonds of the complex polymers. Hydrolysis is often the slowest step (this depends on the type of substrate) and accordingly it can control the overall digestion rate. Once the monomers are free in solution the fermentation process to short chain fatty acids is relatively fast. In literature on AD a disticntion is made between [acidogenesis](https://en.wikipedia.org/wiki/Acidogenesis) and [acetogenesis](https://en.wikipedia.org/wiki/Acetogenesis). In acidogenenesis the monomers are converted to a range of volatile fatty acids (VFA) of which propionic, butyric and acetic acid are the most common. The bacteria that produces the VFA's mostly get their ATP from substrate level phosphorylation. Numerous acidogens are also known for making hydrogen as a product. This links to the discussion in Chapter 6 where NADH buildup within the cell is rectified by converting the NADH to hydrogen. In acetogenesis the final product is acetic acid. The acetic acid is produced by converting the longer chain VFA (3 and 4 carbons) to acetic acid (two carbons) and $CO_2$. Acetic acid can also be produced by using $CO_2$ and hydrogen as substrates, these organism are referred to as the [autotrophic](https://en.wikipedia.org/wiki/Autotroph) acetogens.\n",
    "\n",
    "For the model of this chapter we will group all the acid forming bacteria into a single microbial population referred to as the **acidifying bacteria**. The main products from this population are acetic acid and hydrogen.\n",
    "\n",
    "<img src=\"3cul.png\" width=\"550\" />"
   ]
  },
  {
   "cell_type": "markdown",
   "id": "c2aeeb29",
   "metadata": {},
   "source": [
    "Once we have acetic acid and hydrogen, we can invite the other domain of life to the party. There is no bacteria that produces methane in significant amounts. This specialized task belongs to the domain of Archaea and more specifically the methanogens. In AD the most prominent methanogens are the **acetoclastic methanogens** and the **hydrogenotrophic methanogens**.The acetoclastic methanogens convert the acetic acid to methane and $CO_2$, while the hydrogenotrophic methanogens uses hydrogen and $CO_2$ to produce methane. The high energy electrons are carried by either acetic acid or hydrogen and we will be modeling two seperate populations, each with its unique high energy electron substrate. "
   ]
  },
  {
   "cell_type": "markdown",
   "id": "b8a862c6",
   "metadata": {},
   "source": [
    "Important to understand that the acidifying bacteria will decrease the pH of the digester. The dissociation of acetic acid (and other unconverted VFA) results in the release of a proton in the mixture that lowers the pH. On the other side the acetoclastic methanogens will increase the pH, by taking up undissociated acetic acid. One major issue with AD is that methanogens need a pH higher than 6.5 to stay viable. This implies that the populations must be in balance to maintain the pH above 6.8. We won't be modelling the pH effect in this chapter, but it is very important to take note of this critical balance."
   ]
  },
  {
   "cell_type": "markdown",
   "id": "ff8ce866",
   "metadata": {},
   "source": [
    "### Stoichiometry of the 3 reactions\n",
    "\n",
    "### Acidification\n",
    "\n",
    "Like before, we need to establish the stoichiometry of the all the reactions taking place. Let's start with balancing the overall acidification reaction. We need to balance the following reaction:\n",
    "\n",
    "$$S+H_2O→X_1+AcA+CO_2+H_2+NH_3+R$$\n",
    "\n",
    "So given 4 elemental balances, you will require 4 additional equations to balance the equation. Given the energy balance, the recalcitrant spec and the growtrate spec you will require another specification. For this reaction we will specify the amount of $CO_2$ formed relative to the amount of acetic acid formed. You can use the following to complete your matrix:\n",
    "\n",
    "$$\\mu_{max}^1 =0.05 \\,\\,\\,\\, \\frac{1}{d}$$\n",
    "\n",
    "This growthrate might seem slow given that acid fermentation is fast, but remember that the slow process of hydrolysis is incorporated into this growth parameter.\n",
    "\n",
    "For the recalcitrance we can use:\n",
    "$$-r_S=0.1r_R$$\n",
    "\n",
    "For the energy balance we will assume that all the populations require $1.8 \\frac{mol \\, ATP}{cmol \\, X}$ to grow. We will also assume that the maintenace requirement for all populations is $0.3 \\frac{mol\\,ATP}{cmol\\,X \\cdot d}$. Lastly we will assume that $\\frac{1}{3}$ of ATP is formed per cmol of substrate consumed.\n",
    "\n",
    "Lastly you can assume that for each cmol of acetic acid formed 0.1 mols of $CO_2$ will form.\n",
    "\n",
    "At maximum growth conditions you should get the following stoichiometry:\n",
    "\n",
    "$$S+0.427H_2O→0.427X_1+0.779AcA+0.0779CO_2+0.39H_2+0.0245NH_3+0.1R$$\n",
    "\n",
    "### Acetoclastic methanogens\n",
    "\n",
    "Here we have the following equation to balance:\n",
    "\n",
    "$$AcA+NH_3→X_2+CH_4+CO_2+H_2O$$\n",
    "\n",
    "So here we only need 2 specifications and the growth rate and energy balance will do the job. We can assume that$\\frac{1}{4}$ of ATP is formed per cmol of acetic acid consumed. Lastly we specify:\n",
    "\n",
    "$$\\mu_{max}^2 =0.04 \\,\\,\\,\\, \\frac{1}{d}$$\n",
    "\n",
    "At maximum growth conditions you should get the following stoichiometry:\n",
    "\n",
    "$$AcA+NH_3→X_2+CH_4+CO_2+H_2O$$\n",
    "\n",
    "### Hydrogenotrophic methanogens\n",
    "\n",
    "Here we have the following equation to balance:\n",
    "\n",
    "$$CO_2+H_2→X_3+CH_4+H_2O+NH_3$$\n",
    "\n",
    "\n"
   ]
  },
  {
   "cell_type": "markdown",
   "id": "46da9dc3",
   "metadata": {},
   "source": [
    "### Modeling 3 reactions in one digester\n",
    "\n",
    "In our previous modeling attempts we seperated $r_i$ from $\\frac{dC_i}{dt}$ by using the **response_fun** to calculate $r_i$ and the **ferm_fun** to calculate  $\\frac{dC_i}{dt}$. Note that $\\frac{dC_i}{dt}$ was used by **solve_ivp** to integrate the mole balance. Let's go back to our governing equation:\n",
    "\n",
    "\\begin{align*}\n",
    "\\frac{dC_i}{dt} &= D(C^F_i - C_i) + r_i C_X \\\\\n",
    "\\end{align*}\n",
    "\n",
    "Have a look at the following equation:\n",
    "\\begin{align*}\n",
    "\\frac{dC_i}{dt} &= D(C^F_i - C_i) + r_i^V \\\\\n",
    "\\end{align*}\n",
    "\n",
    "$r_i^V$ has units of $\\frac{cmol}{L\\cdot d}$. Is there a difference between the two equations?\n",
    "\n",
    "\n"
   ]
  },
  {
   "cell_type": "markdown",
   "id": "60ed8f77",
   "metadata": {},
   "source": [
    "We now have the problem of 3 different reactions, where some components feature in more than one of the reactions. Since $r_i$ has units of $\\frac{cmol}{cmol\\,X \\cdot d}$ we now might wonder what **cmol X** means since there is 3 types of X in this problem statement. We thus don't have a single microbe basis. Ultimately we need to model the digester liquid volume and we thus need a **response_fun** that returns the overall volumetric reaction rate ($r_i^V$) of each component (sometimes partaking in all 3 reactions). Let's take $CO_2$ as an example. Can you understand the following equation?\n",
    "\n",
    "$$r_{CO_2}^V=r^1_{CO_2}C_{X1}+r^2_{CO_2}C_{X2}+r^3_{CO_2}C_{X3}$$"
   ]
  },
  {
   "cell_type": "code",
   "execution_count": null,
   "id": "4427d0db",
   "metadata": {},
   "outputs": [],
   "source": []
  }
 ],
 "metadata": {
  "kernelspec": {
   "display_name": "Python 3 (ipykernel)",
   "language": "python",
   "name": "python3"
  },
  "language_info": {
   "codemirror_mode": {
    "name": "ipython",
    "version": 3
   },
   "file_extension": ".py",
   "mimetype": "text/x-python",
   "name": "python",
   "nbconvert_exporter": "python",
   "pygments_lexer": "ipython3",
   "version": "3.9.13"
  }
 },
 "nbformat": 4,
 "nbformat_minor": 5
}
