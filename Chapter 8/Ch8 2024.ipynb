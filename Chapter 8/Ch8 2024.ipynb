{
 "cells": [
  {
   "cell_type": "markdown",
   "id": "4ff40586",
   "metadata": {},
   "source": [
    "# CHAPTER 8: ANAEROBIC DIGESTION (AD) PART 3"
   ]
  },
  {
   "cell_type": "markdown",
   "id": "005bfefe",
   "metadata": {},
   "source": [
    "### Understanding the separate AD steps\n",
    "\n",
    "In Chapter 7 we only had one pseudo organism (X) that facilitated the breakdown of substrate to methane. In real life, there are unique steps in the anaerobic digestion process. In this regard it is very important to distinguish between the **fermentative acid-forming bacteria** and the **methanogenic archaea**.\n",
    "\n",
    "The fermentative bacteria has two unique tasks. First, the complex solids have to be broken down into monomers i.e. sugars, amino acids and fatty acids. This is referred to as hydrolysis. Hydrolysis is typically very slow since the enzymes excreted from the fermentative bacteria take time to break the bonds of the complex polymers. Hydrolysis is often the slowest step (this depends on the type of substrate) and accordingly, it can control the overall digestion rate. Once the monomers are free in solution the fermentation process to short-chain fatty acids is relatively fast. In the literature on AD, a distinction is made between [acidogenesis](https://en.wikipedia.org/wiki/Acidogenesis) and [acetogenesis](https://en.wikipedia.org/wiki/Acetogenesis). In acidogenesis, the monomers are converted to a range of volatile fatty acids (VFA) of which propionic, butyric and acetic acid are the most common. The bacteria that produce the VFA's mostly get their ATP from substrate-level phosphorylation. Numerous acidogens are also known for making hydrogen as a product. This links to the discussion in Chapter 6 where NADH buildup within the cell is rectified by converting the NADH to hydrogen. In acetogenesis, the final product is acetic acid. The acetic acid is produced by converting the longer chain VFA (3 and 4 carbons) to acetic acid (two carbons) and $CO_2$. Acetic acid can also be produced by using $CO_2$ and hydrogen as substrates, these organisms are referred to as the [autotrophic](https://en.wikipedia.org/wiki/Autotroph) acetogens.\n",
    "\n",
    "For the model of this chapter, we will group all the acid-forming bacteria into a single microbial population referred to as the **acidifying bacteria**. The main products of this population are acetic acid and hydrogen.\n",
    "\n",
    "<img src=\"3cul.png\" width=\"550\" />"
   ]
  },
  {
   "cell_type": "markdown",
   "id": "e0771a20",
   "metadata": {},
   "source": [
    "Once we have acetic acid and hydrogen, we can invite the other domain of life to the party. There is no bacteria that produces methane in significant amounts. This specialized task belongs to the domain of Archaea and more specifically the methanogens. In AD the most prominent methanogens are the **acetoclastic methanogens** and the **hydrogenotrophic methanogens**.The acetoclastic methanogens convert the acetic acid to methane and $CO_2$, while the hydrogenotrophic methanogens use hydrogen and $CO_2$ to produce methane. The high-energy electrons are carried by either acetic acid or hydrogen and we will be modeling two separate populations, each with its unique high-energy electron substrate.  "
   ]
  },
  {
   "cell_type": "markdown",
   "id": "aa57cba0",
   "metadata": {},
   "source": [
    "Important to understand that the acidifying bacteria will decrease the pH of the digester. The dissociation of acetic acid (and other unconverted VFA) results in the release of protons in the mixture that lowers the pH. On the other side, the acetoclastic methanogens will increase the pH, by taking up undissociated acetic acid. One major issue with AD is that methanogens need a pH higher than 6.5 to stay viable. This implies that the populations must be in balance to maintain the pH above 6.5. We won't be modeling the pH effect in this chapter, but it is very important to take note of this critical balance."
   ]
  },
  {
   "cell_type": "markdown",
   "id": "134470e9",
   "metadata": {},
   "source": [
    "### Stoichiometry of the 3 reactions\n",
    "\n",
    "### Acidification\n",
    "\n",
    "Like before, we need to establish the stoichiometry of all the reactions taking place. Let's start with balancing the overall acidification reaction. We need to balance the following reaction:\n",
    "\n",
    "$$S+H_2O→X_1+AcA+CO_2+H_2+NH_3+R$$\n",
    "\n",
    "Use the following elemental formulas:\n",
    "\n",
    "$$S: \\,\\,\\,\\,CH_{1.8}O_{0.6}N_{0.035} $$\n",
    "\n",
    "$$X_1,X_2,X_3: \\,\\,\\,\\,CH_{1.7}O_{0.4}N_{0.2} $$\n",
    "\n",
    "$$R: \\,\\,\\,\\,CH_{1.7}O_{0.75}N_{0.02} $$\n",
    "\n",
    "\n",
    "So given 4 elemental balances, you will require 4 additional equations to balance the equation. Given the energy balance, the recalcitrant spec and the growtrate spec you will require another specification. For this reaction, we will specify the amount of $CO_2$ formed relative to the amount of acetic acid formed. You can use the following to complete your matrix:\n",
    "\n",
    "$$\\mu_{max}^1 =0.05 \\,\\,\\,\\, \\frac{1}{d}$$\n",
    "\n",
    "This growth rate might seem slow given that acid fermentation is fast, but remember that the slow process of hydrolysis is incorporated into this growth parameter.\n",
    "\n",
    "For the recalcitrance we can use:\n",
    "$$-r_S=0.1r_R$$\n",
    "\n",
    "For the energy balance, we will assume that all the populations require $1.8 \\frac{mol \\, ATP}{cmol \\, X}$ to grow. We will also assume that the maximum maintenance requirement for all populations is $0.3 \\frac{mol\\,ATP}{cmol\\,X \\cdot d}$. Lastly, we will assume that $\\frac{1}{3}$ of ATP is formed per cmol of substrate consumed.\n",
    "\n",
    "Lastly, you can assume that for each cmol of acetic acid formed 0.1 mols of $CO_2$ will form.\n",
    "\n",
    "At maximum growth conditions, you should get the following stoichiometry:\n",
    "\n",
    "$$S+0.432H_2O→0.0358X_1+0.786AcA+0.0786CO_2+0.392H_2+0.0258NH_3+0.1R$$\n",
    "\n",
    "### Acetoclastic methanogens\n",
    "\n",
    "Here we have the following equation to balance:\n",
    "\n",
    "$$AcA+NH_3→X_2+CH_4+CO_2+H_2O$$\n",
    "\n",
    "So here we only need 2 specifications and the growth rate and energy balance will do the job. We can assume that$\\frac{1}{4}$ of ATP is formed per cmol of acetic acid consumed. Note that $\\theta_{max}$ is the same as before. Lastly, we specify:\n",
    "\n",
    "$$\\mu_{max}^2 =0.04 \\,\\,\\,\\, \\frac{1}{d}$$\n",
    "\n",
    "At maximum growth conditions, you should get the following stoichiometry:\n",
    "\n",
    "$$AcA+0.0064NH_3→0.0321X_2+0.483CH_4+0.485CO_2+0.0168H_2O$$\n",
    "\n",
    "### Hydrogenotrophic methanogens\n",
    "\n",
    "Here we have the following equation to balance:\n",
    "\n",
    "$$CO_2+H_2→X_3+CH_4+H_2O+NH_3$$\n",
    "\n",
    "Like before, we only need 2 specifications and the growth rate and energy balance will do the job. We can assume that$\\frac{1}{5}$ of ATP is formed per mol of hydrogen consumed. Note that $\\theta_{max}$ is the same as before. Lastly, we specify:\n",
    "\n",
    "$$\\mu_{max}^3 =0.2 \\,\\,\\,\\, \\frac{1}{d}$$\n",
    "\n",
    "At maximum growth conditions, you should get the following stoichiometry:\n",
    "\n",
    "$$0.278CO_2+H_2+0.012NH_3→0.0606X_3+0.217CH_4+0.532H_2O$$\n"
   ]
  },
  {
   "cell_type": "markdown",
   "id": "ada7b340",
   "metadata": {},
   "source": [
    "### Modeling 3 reactions in one digester\n",
    "\n",
    "In our previous modeling attempts we seperated $r_i$ from $\\frac{dC_i}{dt}$ by using the **response_fun** to calculate $r_i$ and the **ferm_fun** to calculate  $\\frac{dC_i}{dt}$. Note that $\\frac{dC_i}{dt}$ was used by **solve_ivp** to integrate the mole balance. Let's go back to our governing equation:\n",
    "\n",
    "\\begin{align*}\n",
    "\\frac{dC_i}{dt} &= D(C^F_i - C_i) + r_i C_X \\\\\n",
    "\\end{align*}\n",
    "\n",
    "Have a look at the following equation:\n",
    "\\begin{align*}\n",
    "\\frac{dC_i}{dt} &= D(C^F_i - C_i) + r_i^V \\\\\n",
    "\\end{align*}\n",
    "\n",
    "$r_i^V$ has units of $\\frac{cmol}{L\\cdot d}$. Is there a difference between the two equations?\n",
    "\n",
    "\n"
   ]
  },
  {
   "cell_type": "markdown",
   "id": "7b79a1cd",
   "metadata": {},
   "source": [
    "We now have the problem of 3 different reactions, where some components feature in more than one of the reactions. Since $r_i$ has units of $\\frac{cmol}{cmol\\,X \\cdot d}$ we now might wonder what **cmol X** means since there are 3 types of X in this problem statement. We thus don't have a single microbe basis. Ultimately we need to model the digester liquid volume and we thus need a **response_fun** that returns the overall volumetric reaction rate ($r_i^V$) of each component (sometimes partaking in all 3 reactions). Let's take $CO_2$ as an example. Can you understand the following equation?\n",
    "\n",
    "$$r_{CO_2}^V=r^1_{CO_2}C_{X1}+r^2_{CO_2}C_{X2}+r^3_{CO_2}C_{X3}$$"
   ]
  },
  {
   "cell_type": "markdown",
   "id": "de57ca73",
   "metadata": {},
   "source": [
    "Hopefully, by now you understand that the quest for obtaining energy (or ATP) is the driver for all microbial conversions. In this regard, the growth ($\\mu$) and maintenance ($\\theta$) parameters effectively relate to the speed of the conversion. Before we get into the concentrations that affect these rate parameters, let's start by defining the maximum values:\n",
    "\n",
    "$$\\mu_{max}^1=0.04 \\frac{1}{d} \\,\\,\\,\\,\\,\\,\\, \\theta_{max}^1=0.3 \\frac{mol \\, ATP}{cmol \\, X_1  \\cdot d}$$\n",
    "\n",
    "$$\\mu_{max}^2=0.05 \\frac{1}{d} \\,\\,\\,\\,\\,\\,\\, \\theta_{max}^2=0.3 \\frac{mol \\, ATP}{cmol \\, X_2  \\cdot d}$$\n",
    "\n",
    "$$\\mu_{max}^3=0.2 \\frac{1}{d} \\,\\,\\,\\,\\,\\,\\, \\theta_{max}^3=0.3 \\frac{mol \\, ATP}{cmol \\, X_3  \\cdot d}$$"
   ]
  },
  {
   "cell_type": "markdown",
   "id": "70fe5fb6",
   "metadata": {},
   "source": [
    "You now need to set up a **response_fun** that calculates an overall **volumetric rate** for all the components. Given that there is no concentration relationship specified yet, you only need $X_1$, $X_2$ and $X_3$ to determine the overall rates: You will need to solve for 3 separate matrices and combine rates to determine overall **volumetric** rates. Use the following:"
   ]
  },
  {
   "cell_type": "markdown",
   "id": "3319e1d8",
   "metadata": {},
   "source": [
    "$$C_X^1= 0.5 \\,\\,\\, \\frac{g}{L}$$\n",
    "$$C_X^2= 0.3 \\,\\,\\, \\frac{g}{L}$$\n",
    "$$C_X^1= 0.1 \\,\\,\\, \\frac{g}{L}$$\n",
    "\n",
    "For now and for simplicity we'll assume that all 3 populations have the following composition:\n",
    "\n",
    "$$CH_{1.7}O_{0.4}N_{0.2}$$"
   ]
  },
  {
   "cell_type": "code",
   "execution_count": 1,
   "id": "d4d610b3",
   "metadata": {},
   "outputs": [],
   "source": [
    "def response_funv(C):\n",
    "    \n",
    "    #We are returning volumetric rates\n",
    "    \n",
    "    Cx1, Cx2, Cx3 =C[0],C[1],C[2]"
   ]
  },
  {
   "cell_type": "markdown",
   "id": "137c5f0f",
   "metadata": {},
   "source": [
    "The following rates should be returned:"
   ]
  },
  {
   "cell_type": "code",
   "execution_count": null,
   "id": "aa26fd59",
   "metadata": {},
   "outputs": [],
   "source": []
  }
 ],
 "metadata": {
  "kernelspec": {
   "display_name": "Python 3 (ipykernel)",
   "language": "python",
   "name": "python3"
  },
  "language_info": {
   "codemirror_mode": {
    "name": "ipython",
    "version": 3
   },
   "file_extension": ".py",
   "mimetype": "text/x-python",
   "name": "python",
   "nbconvert_exporter": "python",
   "pygments_lexer": "ipython3",
   "version": "3.9.13"
  }
 },
 "nbformat": 4,
 "nbformat_minor": 5
}
