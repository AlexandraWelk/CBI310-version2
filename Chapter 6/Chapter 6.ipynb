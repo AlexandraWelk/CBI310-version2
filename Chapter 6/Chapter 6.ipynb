{
 "cells": [
  {
   "attachments": {},
   "cell_type": "markdown",
   "metadata": {},
   "source": [
    "## Chapter 6: Modelling Anaerobic Digestion (AD)\n",
    "\n",
    "<img src=\"ad1.jpg\" width=\"400\" />\n",
    "\n",
    "\n",
    "In this chapter we are going to model a batch AD reactor. The complex process of AD will be simplified to the following 2 reactions:\n",
    "\n",
    "$$S→X+CH_4+CO_2+NH3+H_2O+R$$\n",
    "\n",
    "In this equation the biomass feed to the digester will be referred to as substrate (or $S$). The biomass that grows on the substrate ($X$) consist of varius organisms that performs hydrolysis, acedogenesis, acetogenesis and methanogenosis. Note that we will only work with final products and ignore intermediates like amino acids, sugar monomers and fatty acids. The recalcitrant ($R$) fraction represents the biomass that can't be digested by the microbes and gives another product. The following second reaction will also occur:\n",
    "\n",
    "$$X→CH_4+CO_2+NH3+H_2O$$\n",
    "\n",
    "This reaction represents the decomposition of bacterial biomass that has formed in the first reaction. These bacterial cells can fully decompose without leaving a recalcitrant fraction behind. Let's start with the CHON matices of these two reactions: "
   ]
  },
  {
   "cell_type": "markdown",
   "metadata": {},
   "source": []
  },
  {
   "cell_type": "code",
   "execution_count": null,
   "metadata": {},
   "outputs": [],
   "source": [
    "import numpy\n",
    "\n",
    "#                  S     O2   CO2   U   M     H2O\n",
    "S = numpy.matrix([[1    ,0   ,1   ,1   ,1    ,0],  #C\n",
    "                 "
   ]
  },
  {
   "cell_type": "code",
   "execution_count": 5,
   "metadata": {},
   "outputs": [],
   "source": [
    "import numpy\n",
    "\n",
    "#                  S    X     CH4   CO2  H20  NH3  R\n",
    "S1 = numpy.matrix([[1,    1,   1,    1,   0,   0,  1  ],#C\n",
    "                  [1.7,  1.8, 4,    0,   2,   3,  1.7],#H\n",
    "                  [0.55, 0.5, 0,    2,   1,   0,  0.75],#O\n",
    "                  [0.04, 0.08,0,    0,   0,   1,  0.02],#N\n",
    "                  [0,    0,   1,   -1,   0,   0,   0  ],#S1\n",
    "                  [0,    1,   0,    0,   0,   0,   0  ],#S2  \n",
    "                  [0.1,    0,    0,   0,   0,   0,  1]])#S3\n",
    "\n",
    "#                   X     NH3    CH4   CO2    H20 \n",
    "S2 = numpy.matrix([[1,     0,     1,    1,     0 ],#C\n",
    "                   [1.8,   3,     4,    0,     2 ],#H\n",
    "                   [0.5,   0,     0,    2,     1 ],#0\n",
    "                   [0.2,   1,     0,    0,     0 ],#N\n",
    "                   [1,     0,     0,    0,     0 ]])#S3 \n",
    "\n",
    "C1 = numpy.matrix([[0,0,0,0,0,0.05,0]]).T  #Growth rate specified\n",
    "C2 = numpy.matrix([[0,0,0,0,-0.03]]).T   #Death rate specified\n",
    "\n",
    "r1 = numpy.linalg.solve(S1,C1)\n",
    "r2 = numpy.linalg.solve(S1,C1)\n"
   ]
  },
  {
   "cell_type": "markdown",
   "metadata": {},
   "source": [
    "You will note that for the first reaction we have specified that equal amounts of $CH_4$ and $CO_2$ are formed. You will also find the following rate specification in the third specification of the S1 matrix:\n",
    "\n",
    "$$r_R=-0.1r_S$$\n",
    "\n",
    "Also note that the growth rate of biomass is specified at 0.05 $\\frac{1}{day}$ while the death/digestion rate is specified as 0.03$\\frac{1}{day}$. \n",
    "\n",
    "We can now integrate the molar balances since the stoicheometry is sorted."
   ]
  },
  {
   "cell_type": "code",
   "execution_count": null,
   "metadata": {},
   "outputs": [],
   "source": []
  },
  {
   "cell_type": "code",
   "execution_count": null,
   "metadata": {},
   "outputs": [],
   "source": []
  }
 ],
 "metadata": {
  "kernelspec": {
   "display_name": "Python 3 (ipykernel)",
   "language": "python",
   "name": "python3"
  },
  "language_info": {
   "codemirror_mode": {
    "name": "ipython",
    "version": 3
   },
   "file_extension": ".py",
   "mimetype": "text/x-python",
   "name": "python",
   "nbconvert_exporter": "python",
   "pygments_lexer": "ipython3",
   "version": "3.9.13"
  }
 },
 "nbformat": 4,
 "nbformat_minor": 4
}
