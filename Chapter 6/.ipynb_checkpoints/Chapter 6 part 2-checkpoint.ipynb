{
 "cells": [
  {
   "cell_type": "markdown",
   "id": "965f96df",
   "metadata": {},
   "source": [
    "# Chapter 6 part 2: More on continuous operation\n",
    "\n"
   ]
  },
  {
   "cell_type": "code",
   "execution_count": 98,
   "id": "9d6c2d28",
   "metadata": {},
   "outputs": [],
   "source": [
    "import numpy as np\n",
    "import matplotlib.pyplot as plt\n",
    "from scipy.integrate import odeint\n",
    "import pandas"
   ]
  },
  {
   "cell_type": "code",
   "execution_count": 99,
   "id": "3a18114a",
   "metadata": {},
   "outputs": [],
   "source": [
    "import pandas\n",
    "\n",
    "S1 = np.matrix(pandas.read_excel('matrixe.xlsx'))"
   ]
  },
  {
   "cell_type": "code",
   "execution_count": 100,
   "id": "320acf72",
   "metadata": {},
   "outputs": [
    {
     "data": {
      "text/plain": [
       "matrix([[-1.08],\n",
       "        [-0.04],\n",
       "        [ 0.2 ],\n",
       "        [ 0.58],\n",
       "        [ 0.3 ],\n",
       "        [ 0.09]])"
      ]
     },
     "execution_count": 100,
     "metadata": {},
     "output_type": "execute_result"
    }
   ],
   "source": [
    "C= np.matrix([0, 0, 0,0,0.2,0]).T\n",
    "r = np.linalg.solve(S1, C) \n",
    "r"
   ]
  },
  {
   "cell_type": "code",
   "execution_count": 81,
   "id": "b46dfbba",
   "metadata": {},
   "outputs": [],
   "source": [
    "mumax=0.08\n",
    "thetamax=0.1*1.8#2/1000*24.6*24\n",
    "Ks=0.0008\n",
    "Ksm=0.0008\n",
    "\n",
    "def response_fun2(C):\n",
    "    \n",
    "    Cs, Cx, Ce = C[0],C[1],C[2]   #Considered components\n",
    "    \n",
    "    mu=mumax*(Cs/(Ks+Cs))\n",
    "    theta=thetamax*(Cs/(Ksm+Cs))\n",
    "        \n",
    "    C= np.matrix([0, 0, 0,0,mu,theta]).T\n",
    "    r = np.linalg.solve(S1, C) \n",
    "    \n",
    "        \n",
    "    return [r[0,0],   # glucose\n",
    "            r[2,0],   # biomass\n",
    "            r[3,0]]   # ethanol\n",
    "               "
   ]
  },
  {
   "cell_type": "code",
   "execution_count": 82,
   "id": "53894b10",
   "metadata": {},
   "outputs": [
    {
     "data": {
      "text/plain": [
       "0.18000000000000002"
      ]
     },
     "execution_count": 82,
     "metadata": {},
     "output_type": "execute_result"
    }
   ],
   "source": [
    "thetamax"
   ]
  },
  {
   "cell_type": "code",
   "execution_count": 83,
   "id": "2a435856",
   "metadata": {},
   "outputs": [],
   "source": [
    "Cf=[0.05,0,0]  #S,X,E\n",
    "D=0.05"
   ]
  },
  {
   "cell_type": "code",
   "execution_count": 84,
   "id": "5256fc99",
   "metadata": {},
   "outputs": [],
   "source": [
    "def ferm_eq(t,C):\n",
    "    \n",
    "    Cs, Cx, Ce = C[0],C[1],C[2]  # order of components very important \n",
    "    \n",
    "    r=response_fun2([Cs,Cx,Ce])      # this is the 'fetching' from the response function\n",
    "    \n",
    "    dcsdt=D*(Cf[0]-C[0]) +  r[0]*Cx\n",
    "    dcxdt=D*(Cf[1]-C[1]) +  r[1]*Cx\n",
    "    dcedt=D*(Cf[2]-C[2]) +  r[2]*Cx\n",
    "\n",
    "    \n",
    "    return [dcsdt,\n",
    "            dcxdt,    \n",
    "            dcedt] "
   ]
  },
  {
   "cell_type": "code",
   "execution_count": 85,
   "id": "78ded0c2",
   "metadata": {},
   "outputs": [],
   "source": [
    "Co=[0.1,0.01,0] #only cells in the reactor initially"
   ]
  },
  {
   "cell_type": "code",
   "execution_count": 86,
   "id": "b4b7f4bc",
   "metadata": {},
   "outputs": [],
   "source": [
    "import matplotlib.pyplot as plt\n",
    "from scipy.integrate import solve_ivp"
   ]
  },
  {
   "cell_type": "code",
   "execution_count": 87,
   "id": "1e0df6c4",
   "metadata": {},
   "outputs": [
    {
     "data": {
      "image/png": "[encoded data removed]",
      "text/plain": [
       "<Figure size 640x480 with 1 Axes>"
      ]
     },
     "metadata": {},
     "output_type": "display_data"
    }
   ],
   "source": [
    "tmax = 200                            # time to integrate to  \n",
    "tspan=np.linspace(0,tmax,200)            # define the timespan of the integration and increments where values will be reported\n",
    "tper = (0,tmax)                          #defining the starting and end time for the solve_IVP function\n",
    "\n",
    "Ci = solve_ivp(ferm_eq, tper, Co, dense_output = True, method = \"LSODA\")    # integration via odeint that calls apon response_fun\n",
    "\n",
    "Cs, Cx, Ce = Ci.sol(tspan)\n",
    "\n",
    "plt.figure(3)\n",
    "plt.plot(tspan, Cx, color='blue', label='Cx')\n",
    "plt.plot(tspan, Cs, color='green', label='Cs')\n",
    "plt.plot(tspan, Ce, color='red', label='Ce')\n",
    "plt.legend(loc='best')\n",
    "plt.ylabel('Concentration Cmol/L') \n",
    "plt.xlabel('time (hours)') \n",
    "plt.show() "
   ]
  },
  {
   "cell_type": "code",
   "execution_count": 88,
   "id": "e26e1942",
   "metadata": {},
   "outputs": [
    {
     "data": {
      "text/plain": [
       "[0.0013322830361839008, 0.004006670900269116, 0.02964361101107283]"
      ]
     },
     "execution_count": 88,
     "metadata": {},
     "output_type": "execute_result"
    }
   ],
   "source": [
    "[Cs[-1],Cx[-1],Ce[-1]]"
   ]
  },
  {
   "cell_type": "code",
   "execution_count": 89,
   "id": "29a92f65",
   "metadata": {},
   "outputs": [],
   "source": [
    "def ferm_eq_ss(C):\n",
    "    \n",
    "    Cs, Cx, Ce = C[0],C[1],C[2]  # order of components very important \n",
    "    \n",
    "    r=response_fun2([Cs,Cx,Ce])      # this is the 'fetching' from the response function\n",
    "    \n",
    "    dcsdt=D*(Cf[0]-C[0]) +  r[0]*Cx\n",
    "    dcxdt=D*(Cf[1]-C[1]) +  r[1]*Cx\n",
    "    dcedt=D*(Cf[2]-C[2]) +  r[2]*Cx\n",
    "\n",
    "    \n",
    "    return [dcsdt,\n",
    "            dcxdt,    \n",
    "            dcedt] "
   ]
  },
  {
   "cell_type": "code",
   "execution_count": 90,
   "id": "d4b58e12",
   "metadata": {},
   "outputs": [
    {
     "data": {
      "text/plain": [
       "array([0.00133333, 0.00400549, 0.0296406 ])"
      ]
     },
     "execution_count": 90,
     "metadata": {},
     "output_type": "execute_result"
    }
   ],
   "source": [
    "guess=[0.001,0.006,0.031]\n",
    "from scipy.optimize import fsolve\n",
    "SS=fsolve(ferm_eq_ss,guess)\n",
    "SS"
   ]
  },
  {
   "cell_type": "code",
   "execution_count": 91,
   "id": "7c6dd2b2",
   "metadata": {},
   "outputs": [],
   "source": [
    "def FE(C,D):\n",
    "    \n",
    "    Cs, Cx, Ce = C[0],C[1],C[2]  # order of components very important \n",
    "    \n",
    "    r=response_fun2([Cs,Cx,Ce])      # this is the 'fetching' from the response function\n",
    "    \n",
    "    dcsdt=D*(Cf[0]-C[0]) +  r[0]*Cx\n",
    "    dcxdt=D*(Cf[1]-C[1]) +  r[1]*Cx\n",
    "    dcedt=D*(Cf[2]-C[2]) +  r[2]*Cx\n",
    "\n",
    "    \n",
    "    return [dcsdt,\n",
    "            dcxdt,    \n",
    "            dcedt] "
   ]
  },
  {
   "cell_type": "code",
   "execution_count": 95,
   "id": "08020c51",
   "metadata": {},
   "outputs": [],
   "source": [
    "Dspan=np.linspace(0.002,0.09,200) \n",
    "\n",
    "matrix=np.array([0,0,0])\n",
    "\n",
    "for D in Dspan:\n",
    "    \n",
    "    guess = SS\n",
    "    C = fsolve(FE,guess, args=(D,))\n",
    "    matrix=np.vstack([matrix,C])\n",
    "    \n",
    "Ci=matrix[1:]\n"
   ]
  },
  {
   "cell_type": "code",
   "execution_count": 96,
   "id": "d87327f9",
   "metadata": {},
   "outputs": [
    {
     "data": {
      "text/plain": [
       "(200,)"
      ]
     },
     "execution_count": 96,
     "metadata": {},
     "output_type": "execute_result"
    }
   ],
   "source": [
    "Cx.shape\n"
   ]
  },
  {
   "cell_type": "code",
   "execution_count": 97,
   "id": "afaf5fbb",
   "metadata": {},
   "outputs": [
    {
     "data": {
      "image/png": "[encoded data removed]",
      "text/plain": [
       "<Figure size 640x480 with 1 Axes>"
      ]
     },
     "metadata": {},
     "output_type": "display_data"
    }
   ],
   "source": [
    "Cs,Cx,Ce=Ci[:,0],Ci[:,1],Ci[:,2]\n",
    "\n",
    "plt.figure(3)\n",
    "plt.plot(Dspan, Cx, color='blue', label='Cx')\n",
    "plt.plot(Dspan, Cs, color='green', label='Cs')\n",
    "plt.plot(Dspan, Ce, color='red', label='Ce')\n",
    "plt.legend(loc='best')\n",
    "plt.ylabel('Concentration Cmol/L') \n",
    "plt.xlabel('D(1/h)') \n",
    "plt.show() "
   ]
  },
  {
   "cell_type": "code",
   "execution_count": null,
   "id": "6649b0bb",
   "metadata": {},
   "outputs": [],
   "source": []
  },
  {
   "cell_type": "code",
   "execution_count": null,
   "id": "c8219cc4",
   "metadata": {},
   "outputs": [],
   "source": []
  }
 ],
 "metadata": {
  "kernelspec": {
   "display_name": "Python 3 (ipykernel)",
   "language": "python",
   "name": "python3"
  },
  "language_info": {
   "codemirror_mode": {
    "name": "ipython",
    "version": 3
   },
   "file_extension": ".py",
   "mimetype": "text/x-python",
   "name": "python",
   "nbconvert_exporter": "python",
   "pygments_lexer": "ipython3",
   "version": "3.9.13"
  }
 },
 "nbformat": 4,
 "nbformat_minor": 5
}
