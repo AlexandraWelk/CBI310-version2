{
 "cells": [
  {
   "cell_type": "markdown",
   "id": "f3528f1f",
   "metadata": {},
   "source": [
    "### Continuous anaerobic digestion\n",
    "\n",
    "Let's use the same description we had for the first part of chapter 6:\n",
    "\n"
   ]
  },
  {
   "cell_type": "code",
   "execution_count": 5,
   "id": "5d99047e",
   "metadata": {},
   "outputs": [],
   "source": [
    "import numpy\n",
    "import pandas\n",
    "\n",
    "S1 = numpy.matrix(pandas.read_excel('matdig1.xlsx'))\n",
    "S2 = numpy.matrix(pandas.read_excel('matdig2.xlsx'))"
   ]
  },
  {
   "cell_type": "code",
   "execution_count": 6,
   "id": "5f93cdba",
   "metadata": {},
   "outputs": [],
   "source": [
    "mumax=0.05 #1/day\n",
    "thetamax=1/1000*(12+1.7+16*0.55+14*0.04)*24"
   ]
  },
  {
   "cell_type": "code",
   "execution_count": 7,
   "id": "64968d43",
   "metadata": {},
   "outputs": [],
   "source": [
    "def response_fun(C):\n",
    "    \n",
    "    Cs, Cx, Cch4, Cco2, Cnh3, Cr = C[0],C[1],C[2],C[3],C[4],C[5]\n",
    "    \n",
    "    \n",
    "    Km=0.05  #cmol/L\n",
    "    \n",
    "    mu= mumax*Cs/(Km+Cs)\n",
    "    muD=muDmax*Cs/(Km+Cx)\n",
    "    theta=thetamax*Cs/(Km+Cx)\n",
    "\n",
    "    C1 = numpy.matrix([[0,0,0,0,mu,0,theta]]).T  #Growth rate specified\n",
    "    C2 = numpy.matrix([[0,0,0,0,muD]]).T   #Death rate specified\n",
    "\n",
    "    r1 = numpy.linalg.solve(S1,C1)\n",
    "    r2 = numpy.linalg.solve(S2,C2)\n",
    "    \n",
    "    return [r1[0,0],           # rs\n",
    "            r1[1,0]+r2[0,0],   # rx\n",
    "            r1[2,0]+r2[2,0],   # rch4\n",
    "            r1[3,0]+r2[3,0],   #rco2\n",
    "            r1[5,0]+r2[1,0],   #rnh3\n",
    "            r1[6,0]]           #rr   "
   ]
  },
  {
   "cell_type": "markdown",
   "id": "b35cb0c8",
   "metadata": {},
   "source": [
    "\n",
    "\\begin{align*}\n",
    "\\frac{dC_i}{dt} &= D(C^F_i - C_i) + r_i C_X \\\\\n",
    "\\end{align*}\n"
   ]
  },
  {
   "cell_type": "code",
   "execution_count": 8,
   "id": "d04cc4d9",
   "metadata": {},
   "outputs": [],
   "source": [
    "def ferm_eq_ss(C):\n",
    "    \n",
    "    Cs, Cx, Cch4, Cco2, Cnh3, Cr = C[0],C[1],C[2],C[3],C[4],C[5]  # order of components very important \n",
    "    \n",
    "    r=response_fun([Cs, Cx, Cch4, Cco2, Cnh3, Cr])      # this is the 'fetching' from the response function\n",
    "    \n",
    "    dcsdt=D*(Cf[0]-C[0]) +  r[0]*Cx\n",
    "    dcxdt=D*(Cf[1]-C[1]) +  r[1]*Cx\n",
    "    dcadt=D*(Cf[2]-C[2]) +  r[2]*Cx\n",
    "    dcpdt=D*(Cf[3]-C[3]) +  r[3]*Cx\n",
    "    \n",
    "    return [dcsdt,\n",
    "            dcxdt,    \n",
    "            dcadt,\n",
    "            dcpdt] "
   ]
  },
  {
   "cell_type": "code",
   "execution_count": null,
   "id": "1ce0b907",
   "metadata": {},
   "outputs": [],
   "source": [
    "def ferm_eq(C,t):\n",
    "    Cs, Cx, Cch4, Cco2, Cnh3, Cr = C[0],C[1],C[2],C[3],C[4],C[5]  # order of components very important \n",
    "    r=response_fun([Cs, Cx, Cch4, Cco2,Cnh3,Cr])      # this is the 'fetching' from the response function\n",
    "    \n",
    "    return [r[0]*Cx,\n",
    "            r[1]*Cx,    \n",
    "            r[2]*Cx,\n",
    "            r[3]*Cx,\n",
    "            r[4]*Cx,\n",
    "            r[5]*Cx];  "
   ]
  }
 ],
 "metadata": {
  "kernelspec": {
   "display_name": "Python 3 (ipykernel)",
   "language": "python",
   "name": "python3"
  },
  "language_info": {
   "codemirror_mode": {
    "name": "ipython",
    "version": 3
   },
   "file_extension": ".py",
   "mimetype": "text/x-python",
   "name": "python",
   "nbconvert_exporter": "python",
   "pygments_lexer": "ipython3",
   "version": "3.9.13"
  }
 },
 "nbformat": 4,
 "nbformat_minor": 5
}
