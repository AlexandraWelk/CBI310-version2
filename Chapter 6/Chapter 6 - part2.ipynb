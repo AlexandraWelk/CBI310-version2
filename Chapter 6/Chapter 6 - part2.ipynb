{
 "cells": [
  {
   "cell_type": "markdown",
   "id": "80fdbe23",
   "metadata": {},
   "source": [
    "### Continuous anaerobic digestion\n",
    "\n",
    "Let's use the same description we had for the first part of chapter 6:\n",
    "\n"
   ]
  },
  {
   "cell_type": "code",
   "execution_count": 25,
   "id": "5e2a8d79",
   "metadata": {},
   "outputs": [],
   "source": [
    "import numpy\n",
    "import pandas\n",
    "import matplotlib.pyplot as plt\n",
    "from scipy.integrate import solve_ivp\n",
    "\n",
    "S1 = numpy.matrix(pandas.read_excel('matdig1.xlsx'))\n",
    "S2 = numpy.matrix(pandas.read_excel('matdig2.xlsx'))"
   ]
  },
  {
   "cell_type": "code",
   "execution_count": 18,
   "id": "bd3b7f5d",
   "metadata": {},
   "outputs": [],
   "source": [
    "mumax=0.075 #1/day\n",
    "thetamax=1/1000*(12+1.7+16*0.55+14*0.04)*24\n",
    "muDmax=0.02\n",
    "MMs=12+S1[1,0]+S1[2,0]*16+S1[3,0]*14\n",
    "Km=1.5/MMs"
   ]
  },
  {
   "cell_type": "code",
   "execution_count": 19,
   "id": "34e485ac",
   "metadata": {},
   "outputs": [],
   "source": [
    "def response_fun(C):\n",
    "    \n",
    "    Cs, Cx, Nch4, Nco2, Cnh3, Cr = C[0],C[1],C[2],C[3],C[4],C[5]\n",
    "    \n",
    "    mu= mumax*Cs/(Km+Cs)\n",
    "    muD=muDmax*Cs/(Km+Cs)\n",
    "    theta=thetamax*Cs/(Km+Cs)\n",
    "\n",
    "    C1 = numpy.matrix([[0,0,0,0,mu,0,theta]]).T  #Growth rate specified\n",
    "    C2 = numpy.matrix([[0,0,0,0,muD]]).T   #Death rate specified\n",
    "\n",
    "    r1 = numpy.linalg.solve(S1,C1)\n",
    "    r2 = numpy.linalg.solve(S2,C2)\n",
    "    \n",
    "    return [r1[0,0],           # rs\n",
    "            r1[1,0]+r2[0,0],   # rx\n",
    "            r1[2,0]+r2[2,0],   # rch4\n",
    "            r1[3,0]+r2[3,0],   #rco2\n",
    "            r1[5,0]+r2[1,0],   #rnh3\n",
    "            r1[6,0]]           #rr   "
   ]
  },
  {
   "cell_type": "markdown",
   "id": "406eca2e",
   "metadata": {},
   "source": [
    "\n",
    "\\begin{align*}\n",
    "\\frac{dC_i}{dt} &= D(C^F_i - C_i) + r_i C_X \\\\\n",
    "\\end{align*}\n"
   ]
  },
  {
   "cell_type": "code",
   "execution_count": 20,
   "id": "acce1079",
   "metadata": {},
   "outputs": [],
   "source": [
    "V=2 #L"
   ]
  },
  {
   "cell_type": "code",
   "execution_count": 21,
   "id": "2e6c1242",
   "metadata": {},
   "outputs": [],
   "source": [
    "def ferm_eq(C):\n",
    "    \n",
    "    Cs, Cx, Cch4, Cco2, Cnh3, Cr = C[0],C[1],C[2],C[3],C[4],C[5]  # order of components very important \n",
    "    \n",
    "    r=response_fun([Cs, Cx, Nch4, Nco2, Cnh3, Cr])      # this is the 'fetching' from the response function\n",
    "    \n",
    "    dcsdt=D*(Cf[0]-C[0]) +  r[0]*Cx\n",
    "    dcxdt=D*(Cf[1]-C[1]) +  r[1]*Cx\n",
    "    dNch4dt=r[2]*Cx*V\n",
    "    dNco2dt=r[3]*Cx*V\n",
    "    dcndt=D*(Cf[4]-C[4]) +  r[4]*Cx\n",
    "    dcrdt=D*(Cf[5]-C[5]) +  r[5]*Cx\n",
    "    \n",
    "    return [dcsdt,\n",
    "            dcxdt,\n",
    "            dNch4dt,\n",
    "            dNco2dt,\n",
    "            dcndt,\n",
    "            dcrdt] "
   ]
  },
  {
   "cell_type": "code",
   "execution_count": 22,
   "id": "ef92425b",
   "metadata": {},
   "outputs": [],
   "source": [
    "Co=[40/MMs,0,0,0,0,0]"
   ]
  },
  {
   "cell_type": "code",
   "execution_count": 24,
   "id": "a45a380f",
   "metadata": {},
   "outputs": [
    {
     "ename": "NameError",
     "evalue": "name 'solve_ivp' is not defined",
     "output_type": "error",
     "traceback": [
      "\u001b[1;31m---------------------------------------------------------------------------\u001b[0m",
      "\u001b[1;31mNameError\u001b[0m                                 Traceback (most recent call last)",
      "\u001b[1;32m~\\AppData\\Local\\Temp\\ipykernel_15976\\3052467636.py\u001b[0m in \u001b[0;36m<module>\u001b[1;34m\u001b[0m\n\u001b[0;32m      3\u001b[0m \u001b[0mtper\u001b[0m \u001b[1;33m=\u001b[0m \u001b[1;33m(\u001b[0m\u001b[1;36m0\u001b[0m\u001b[1;33m,\u001b[0m\u001b[0mtmax\u001b[0m\u001b[1;33m)\u001b[0m                          \u001b[1;31m#defining the starting and end time for the solve_IVP function\u001b[0m\u001b[1;33m\u001b[0m\u001b[1;33m\u001b[0m\u001b[0m\n\u001b[0;32m      4\u001b[0m \u001b[1;33m\u001b[0m\u001b[0m\n\u001b[1;32m----> 5\u001b[1;33m \u001b[0mCorNi\u001b[0m \u001b[1;33m=\u001b[0m \u001b[0msolve_ivp\u001b[0m\u001b[1;33m(\u001b[0m\u001b[0mferm_eq\u001b[0m\u001b[1;33m,\u001b[0m \u001b[0mtper\u001b[0m\u001b[1;33m,\u001b[0m \u001b[0mCo\u001b[0m\u001b[1;33m,\u001b[0m \u001b[0mdense_output\u001b[0m \u001b[1;33m=\u001b[0m \u001b[1;32mTrue\u001b[0m\u001b[1;33m,\u001b[0m \u001b[0mmethod\u001b[0m \u001b[1;33m=\u001b[0m \u001b[1;34m\"LSODA\"\u001b[0m\u001b[1;33m)\u001b[0m    \u001b[1;31m# integration via odeint that calls apon response_fun\u001b[0m\u001b[1;33m\u001b[0m\u001b[1;33m\u001b[0m\u001b[0m\n\u001b[0m\u001b[0;32m      6\u001b[0m \u001b[1;33m\u001b[0m\u001b[0m\n\u001b[0;32m      7\u001b[0m \u001b[0mCs\u001b[0m\u001b[1;33m,\u001b[0m \u001b[0mCx\u001b[0m\u001b[1;33m,\u001b[0m \u001b[0mNch4\u001b[0m\u001b[1;33m,\u001b[0m \u001b[0mNco2\u001b[0m\u001b[1;33m,\u001b[0m \u001b[0mCnh3\u001b[0m\u001b[1;33m,\u001b[0m\u001b[0mCr\u001b[0m \u001b[1;33m=\u001b[0m \u001b[0mCorNi\u001b[0m\u001b[1;33m.\u001b[0m\u001b[0msol\u001b[0m\u001b[1;33m(\u001b[0m\u001b[0mtspan\u001b[0m\u001b[1;33m)\u001b[0m\u001b[1;33m\u001b[0m\u001b[1;33m\u001b[0m\u001b[0m\n",
      "\u001b[1;31mNameError\u001b[0m: name 'solve_ivp' is not defined"
     ]
    }
   ],
   "source": [
    "tmax = 100                               # time to integrate to  \n",
    "tspan=numpy.linspace(0,tmax,200)            # define the timespan of the integration and increments where values will be reported\n",
    "tper = (0,tmax)                          #defining the starting and end time for the solve_IVP function\n",
    "\n",
    "CorNi = solve_ivp(ferm_eq, tper, Co, dense_output = True, method = \"LSODA\")    # integration via odeint that calls apon response_fun\n",
    "\n",
    "Cs, Cx, Nch4, Nco2, Cnh3,Cr = CorNi.sol(tspan)\n",
    "\n",
    "plt.figure(3)\n",
    "plt.plot(tspan, Cx, color='blue', label='Cx')\n",
    "plt.plot(tspan, Cs, color='green', label='Cs')\n",
    "plt.plot(tspan, Cnh3, color='red', label='Cnh3')\n",
    "plt.legend(loc='best')\n",
    "plt.ylabel('Concentration Cmol/L') \n",
    "plt.xlabel('time (days)') \n",
    "plt.show() "
   ]
  },
  {
   "cell_type": "code",
   "execution_count": null,
   "id": "242575a3",
   "metadata": {},
   "outputs": [],
   "source": []
  },
  {
   "cell_type": "code",
   "execution_count": null,
   "id": "19f59984",
   "metadata": {},
   "outputs": [],
   "source": []
  }
 ],
 "metadata": {
  "kernelspec": {
   "display_name": "Python 3 (ipykernel)",
   "language": "python",
   "name": "python3"
  },
  "language_info": {
   "codemirror_mode": {
    "name": "ipython",
    "version": 3
   },
   "file_extension": ".py",
   "mimetype": "text/x-python",
   "name": "python",
   "nbconvert_exporter": "python",
   "pygments_lexer": "ipython3",
   "version": "3.9.13"
  }
 },
 "nbformat": 4,
 "nbformat_minor": 5
}
