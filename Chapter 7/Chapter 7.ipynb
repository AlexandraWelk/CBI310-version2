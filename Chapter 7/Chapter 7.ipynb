{
 "cells": [
  {
   "cell_type": "markdown",
   "metadata": {},
   "source": [
    "# Chapter 7 : Continuous anaerobic digestion\n",
    "\n",
    "Did you know that there is 18000 commercial anaerobic digesters in Europe alone. You can have a look at this [website](https://www.europeanbiogas.eu/about-biogas-and-biomethane/) for more information. Most of these commercial digesters operate in a continuous mode, implying that steady state is achieved at most times. \n",
    "\n",
    "<img src=\"digest1.png\" width=\"800\" />\n",
    "\n",
    "In this chapter we will be looking at continuous anaerobic digestion and how the growth and maintenance variables influence the steady state. Note that a continuous stream of substrate will be fed to the reactor and that solid and liquid digestate will be removed from the reactor in order to keep the contents in the reactor more or less constant. In this chapter the Monod inhibition and ammonia inhibition will be different for growth ($\\mu$) and maintenance ($\\theta$) as is often the case with micro-organisms. Under low substrate concentrations maintenance is typically favoured over growth to keep the organism viable. Also the inhibition characteristics of ammonia is different for growth and maintenance, where growth tends to be inhibited more at lower concentrations of ammonia.  \n",
    "\n",
    "\n",
    "Let's start with an example where we neglegt inhibition. We'll use the same system as in chapter 6 and we will start by doing dynamic (time-dependant) simulations of the system in order to obtain the steady state. We will use the solution of the steady state via **fsolve** in conjuntion with the dynamic simulation.\n"
   ]
  },
  {
   "cell_type": "markdown",
   "metadata": {},
   "source": [
    "Let's import the stoicheometric matrices from chapter 6 to get started:"
   ]
  },
  {
   "cell_type": "code",
   "execution_count": 307,
   "metadata": {},
   "outputs": [],
   "source": [
    "import numpy as np\n",
    "import pandas\n",
    "import matplotlib.pyplot as plt\n",
    "from scipy.integrate import solve_ivp\n",
    "\n",
    "S1 = numpy.matrix(pandas.read_excel('matdig1.xlsx'))\n",
    "S2 = numpy.matrix(pandas.read_excel('matdig2.xlsx'))"
   ]
  },
  {
   "cell_type": "markdown",
   "metadata": {},
   "source": [
    "Let's get the cmol masses for substrate and biomass:"
   ]
  },
  {
   "cell_type": "code",
   "execution_count": 308,
   "metadata": {},
   "outputs": [],
   "source": [
    "MMs=12+S1[1,0]+S1[2,0]*16+S1[3,0]*14\n",
    "MMx=12+S1[1,1]+S1[2,1]*16+S1[3,1]*14"
   ]
  },
  {
   "cell_type": "markdown",
   "metadata": {},
   "source": [
    "Let's define the key parameters $\\mu_{max}$, $\\theta_{max}$ and $\\mu_D$:"
   ]
  },
  {
   "cell_type": "code",
   "execution_count": 309,
   "metadata": {},
   "outputs": [],
   "source": [
    "mumax=0.125 #1/day\n",
    "thetamax=2*10/1000*MMx*24 #from mol/g/h to mol/cmolX/day\n",
    "muDmax=0.035"
   ]
  },
  {
   "cell_type": "markdown",
   "metadata": {},
   "source": [
    "Let's have a good look at the Monod charateristics of these 3 parameters and define the Monod parameters:\n",
    "\n",
    "$$\\mu=\\mu_{max} \\left[\\frac{Cs}{K_M^{\\mu}+Cs} \\right]  $$\n",
    "\n",
    "$$\\mu_D=\\mu_{D_{max}} \\left[\\frac{Cs}{K_M^{\\mu}+Cs} \\right]  $$\n",
    "\n",
    "$$\\theta=\\theta_{max} \\left[\\frac{Cs}{K_M^{\\theta}+Cs} \\right]  $$\n"
   ]
  },
  {
   "cell_type": "code",
   "execution_count": 310,
   "metadata": {},
   "outputs": [],
   "source": [
    "Km_mu=1.5/MMs\n",
    "Km_theta=0.15/MMs"
   ]
  },
  {
   "cell_type": "markdown",
   "metadata": {},
   "source": [
    "Make a $\\mu$ vs $C_S$ and $\\theta$ vs $C_S$ plot for the parameters above, you should get something like this:\n",
    "\n",
    "<img src=\"muandtheta.png\" width=\"600\" />\n",
    "\n",
    "How do you interpret the above figure? Ensure that you can graph it yourself!\n",
    "\n",
    "<img src=\"think.png\" width=\"350\" />"
   ]
  },
  {
   "cell_type": "markdown",
   "metadata": {},
   "source": [
    "We can now continue with the integration. We can define the response function as before, except for the different Monod constants:\n"
   ]
  },
  {
   "cell_type": "code",
   "execution_count": 311,
   "metadata": {},
   "outputs": [],
   "source": [
    "def response_fun(C):\n",
    "    \n",
    "    Cs, Cx = C[0],C[1]\n",
    "    \n",
    "    mu= mumax*Cs/(Km_mu+Cs)\n",
    "    muD=muDmax*Cs/(Km_mu+Cs)\n",
    "    theta=thetamax*Cs/(Km_theta+Cs)\n",
    "\n",
    "    C1 = numpy.matrix([[0,0,0,0,mu,0,theta]]).T  #Growth rate specified\n",
    "    C2 = numpy.matrix([[0,0,0,0,muD]]).T   #Death rate specified\n",
    "\n",
    "    r1 = numpy.linalg.solve(S1,C1)\n",
    "    r2 = numpy.linalg.solve(S2,C2)\n",
    "    \n",
    "    return [r1[0,0],           # rs\n",
    "            r1[1,0]+r2[0,0],   # rx\n",
    "            r1[2,0]+r2[2,0],   # rch4\n",
    "            r1[3,0]+r2[3,0],   #rco2\n",
    "            r1[5,0]+r2[1,0],   #rnh3\n",
    "            r1[6,0]]           #rr  "
   ]
  },
  {
   "cell_type": "markdown",
   "metadata": {},
   "source": [
    "We will once again work with a 2 liter fermenter"
   ]
  },
  {
   "cell_type": "code",
   "execution_count": 312,
   "metadata": {},
   "outputs": [],
   "source": [
    "V=2 #L"
   ]
  },
  {
   "cell_type": "markdown",
   "metadata": {},
   "source": [
    "We can define the **ferm_eq** as follow:\n"
   ]
  },
  {
   "cell_type": "code",
   "execution_count": 313,
   "metadata": {},
   "outputs": [],
   "source": [
    "def ferm_eq(t,C):\n",
    "    \n",
    "    Cs, Cx, Nch4, Nco2, Cnh3, Cr = C[0],C[1],C[2],C[3],C[4],C[5]  # order of components very important \n",
    "    \n",
    "    r=response_fun([Cs, Cx, Nch4, Nco2, Cnh3, Cr])      # this is the 'fetching' from the response function\n",
    "    \n",
    "    dcsdt=D*(Cf[0]-C[0]) +  r[0]*Cx\n",
    "    dcxdt=D*(Cf[1]-C[1]) +  r[1]*Cx\n",
    "    dNch4dt=r[2]*Cx*V\n",
    "    dNco2dt=r[3]*Cx*V\n",
    "    dcndt=D*(Cf[4]-C[4]) +  r[4]*Cx\n",
    "    dcrdt=D*(Cf[5]-C[5]) +  r[5]*Cx\n",
    "    \n",
    "    return [dcsdt,\n",
    "            dcxdt,\n",
    "            dNch4dt,\n",
    "            dNco2dt,\n",
    "            dcndt,\n",
    "            dcrdt] "
   ]
  },
  {
   "cell_type": "markdown",
   "metadata": {},
   "source": [
    "We can now define the initial condition in the digester $C_O$ as well as the feed conditions $C_F$. We will also define the hydraulic retention time (via D)."
   ]
  },
  {
   "cell_type": "code",
   "execution_count": 314,
   "metadata": {},
   "outputs": [],
   "source": [
    "#Co=[3/MMs,0.25/MMx,0,0,0,0]\n",
    "Co=[0.02168257, 0.00636808, 0,0, 0.10799012, 0.60277537]\n",
    "D=1/25 #dilution rate\n",
    "Cf=[120/MMs,0,0,0,0,0]"
   ]
  },
  {
   "cell_type": "markdown",
   "metadata": {},
   "source": [
    "Let's plot all the concentrations in $\\frac{g}{L}$ "
   ]
  },
  {
   "cell_type": "code",
   "execution_count": 315,
   "metadata": {},
   "outputs": [
    {
     "data": {
      "image/png": "[encoded data removed]",
      "text/plain": [
       "<Figure size 640x480 with 1 Axes>"
      ]
     },
     "metadata": {},
     "output_type": "display_data"
    }
   ],
   "source": [
    "tmax = 150                              \n",
    "tspan=numpy.linspace(0,tmax,300)            \n",
    "tper = (0,tmax)                          \n",
    "\n",
    "CorNi = solve_ivp(ferm_eq, tper, Co, dense_output = True, method = \"LSODA\")    \n",
    "\n",
    "Cs, Cx, Nch4, Nco2, Cnh3,Cr = CorNi.sol(tspan)\n",
    "\n",
    "plt.figure(3)\n",
    "plt.plot(tspan, Cx*MMx, color='blue', label='Cx')\n",
    "plt.plot(tspan, Cs*MMs, color='green', label='Cs')\n",
    "plt.plot(tspan, Cnh3*17, color='red', label='Cnh3')\n",
    "plt.legend(loc='best')\n",
    "plt.ylabel('Concentration g/L') \n",
    "plt.xlabel('time (days)') \n",
    "plt.show() "
   ]
  },
  {
   "cell_type": "code",
   "execution_count": 316,
   "metadata": {},
   "outputs": [
    {
     "data": {
      "text/plain": [
       "[0.4999975629712431, 0.25096120887999723, 3.1526630586950013]"
      ]
     },
     "execution_count": 316,
     "metadata": {},
     "output_type": "execute_result"
    }
   ],
   "source": [
    "Csteady=[Cs[-1]*MMs,Cx[-1]*MMx,Cnh3[-1]*17]\n",
    "Csteady"
   ]
  },
  {
   "cell_type": "markdown",
   "metadata": {},
   "source": [
    "Determine organic loading rate\n"
   ]
  },
  {
   "cell_type": "code",
   "execution_count": 317,
   "metadata": {},
   "outputs": [
    {
     "data": {
      "text/plain": [
       "9.600000000000001"
      ]
     },
     "execution_count": 317,
     "metadata": {},
     "output_type": "execute_result"
    }
   ],
   "source": [
    "Q=D*V #l/day\n",
    "Ns=(150*Q/2)*1.6  #g/day/l\n",
    "Ns"
   ]
  },
  {
   "cell_type": "code",
   "execution_count": 318,
   "metadata": {},
   "outputs": [],
   "source": [
    "def ferm_eq_ss(C):\n",
    "    \n",
    "    Cs, Cx, Cnh3, Cr = C[0],C[1],C[2],C[3]  # order of components very important \n",
    "    \n",
    "    r=response_fun([Cs, Cx, 0, 0, Cnh3, Cr])      # this is the 'fetching' from the response function\n",
    "    \n",
    "    dcsdt=D*(Cf[0]-C[0]) +  r[0]*Cx\n",
    "    dcxdt=D*(Cf[1]-C[1]) +  r[1]*Cx\n",
    "    dcndt=D*(Cf[4]-C[2]) +  r[4]*Cx\n",
    "    dcrdt=D*(Cf[5]-C[3]) +  r[5]*Cx\n",
    "    \n",
    "    return [dcsdt,\n",
    "            dcxdt,\n",
    "            dcndt,\n",
    "            dcrdt] "
   ]
  },
  {
   "cell_type": "code",
   "execution_count": 319,
   "metadata": {},
   "outputs": [
    {
     "data": {
      "text/plain": [
       "array([0.02168257, 0.01094943, 0.18568085, 1.03642671])"
      ]
     },
     "execution_count": 319,
     "metadata": {},
     "output_type": "execute_result"
    }
   ],
   "source": [
    "from scipy.optimize import fsolve\n",
    "guess=[0.05,0.04,0.1,1]\n",
    "steadystate=fsolve(ferm_eq_ss,guess)\n",
    "steadystate"
   ]
  },
  {
   "cell_type": "code",
   "execution_count": 320,
   "metadata": {},
   "outputs": [
    {
     "data": {
      "text/plain": [
       "[0.021682461533878712, 0.010949441923211047, 0.18545076815852948]"
      ]
     },
     "execution_count": 320,
     "metadata": {},
     "output_type": "execute_result"
    }
   ],
   "source": [
    "[Cs[-1],Cx[-1],Cnh3[-1]]"
   ]
  },
  {
   "cell_type": "code",
   "execution_count": 322,
   "metadata": {},
   "outputs": [
    {
     "data": {
      "image/png": "[encoded data removed]",
      "text/plain": [
       "<Figure size 640x480 with 1 Axes>"
      ]
     },
     "metadata": {},
     "output_type": "display_data"
    }
   ],
   "source": [
    "Ci2=CorNi.sol(tspan).T\n",
    "\n",
    "r = np.asarray([response_fun(C) for C in Ci2])\n",
    "\n",
    "rs=r[:,0]\n",
    "rx=r[:,1]\n",
    "\n",
    "plt.figure(5)\n",
    "#plt.plot(tspan, rs, color='blue', label='rs')\n",
    "plt.plot(tspan, rx, color='green', label='rx')\n",
    "plt.legend(loc='best')\n",
    "plt.ylabel('rate cmol/cmol X /day') \n",
    "plt.xlabel('time (h)') \n",
    "plt.show()\n",
    "\n"
   ]
  },
  {
   "cell_type": "code",
   "execution_count": 324,
   "metadata": {},
   "outputs": [
    {
     "data": {
      "text/plain": [
       "0.03999985377809524"
      ]
     },
     "execution_count": 324,
     "metadata": {},
     "output_type": "execute_result"
    }
   ],
   "source": [
    "rx[-1]\n"
   ]
  },
  {
   "cell_type": "code",
   "execution_count": 325,
   "metadata": {},
   "outputs": [
    {
     "data": {
      "text/plain": [
       "0.04"
      ]
     },
     "execution_count": 325,
     "metadata": {},
     "output_type": "execute_result"
    }
   ],
   "source": [
    "D"
   ]
  },
  {
   "cell_type": "markdown",
   "metadata": {},
   "source": [
    "Must show the mu and D relationship\n"
   ]
  },
  {
   "cell_type": "code",
   "execution_count": null,
   "metadata": {},
   "outputs": [],
   "source": []
  }
 ],
 "metadata": {
  "kernelspec": {
   "display_name": "Python 3 (ipykernel)",
   "language": "python",
   "name": "python3"
  },
  "language_info": {
   "codemirror_mode": {
    "name": "ipython",
    "version": 3
   },
   "file_extension": ".py",
   "mimetype": "text/x-python",
   "name": "python",
   "nbconvert_exporter": "python",
   "pygments_lexer": "ipython3",
   "version": "3.9.13"
  }
 },
 "nbformat": 4,
 "nbformat_minor": 4
}
