{
 "cells": [
  {
   "cell_type": "markdown",
   "id": "00264190",
   "metadata": {},
   "source": [
    "# CHAPTER 7: ANAEROBIC DIGESTION (AD) PART 2"
   ]
  },
  {
   "cell_type": "markdown",
   "id": "08aed250",
   "metadata": {},
   "source": [
    "<img src=\"clb1.png\" width=\"600\" />"
   ]
  },
  {
   "cell_type": "markdown",
   "id": "abaf1d75",
   "metadata": {},
   "source": [
    "### BABY1\n",
    "\n",
    "Class, meet your CLB321 anaerobic digester. This digester was named BABY1 and we will hence refer to this name. We have 3 CSC students (Matthew, Ane, and Nkutu), 1 Hons student (Mfundo) and 1 M.Eng student (Caela -you might know her) working full-time on the development of BABY1. You and your group will be taking care of BABY1 for 6 weeks in the second semester if you enroll for CLB321. BABY1 has a 10L liquid capacity and a 10L gas capacity. BABY1 also comes with a gas capture device where the biogas flow rate can be accurately measured. The digester can be operated in batch and continuous mode. You will note that the container is a mere polyethylene plastic tube. To give you an indication of size, the wooden cradle length is 1m and the width 25cm. The picture above contains only water and no substrate or microbial cells. We are still sorting out leaking and other issues.\n",
    "\n",
    "In Chapter 6 we have developed tools to look at AD from a fundamental angle. Let's now explore the practical side by using BABY1 as our digester. The objective for BABY1 is to operate continuously while only using organic food waste as feed. In order to get to this state we will have to start with a batch process where AD microbes are added in combination with substrate. We have two available substrates, cow dung, and food waste, and only cow dung contains the microbes that will drive digestion. By growing these organism we want to retain them in the digester and therefore continuous operation is our current best idea. So cow dung will only be used during startup to innoculate the microbial cultures required for digestion.\n",
    "\n",
    "Let's perform some calculations on the initial feed makeup for BABY1. We'll start with using wet cow dung and wet food waste. The following info is supplied:\n",
    "\n",
    "|       | Cow manure | Food waste |    |\n",
    "| ----------- | ----------- | ----------- | ----------- |\n",
    "| TS | 0.16 | 0.12 | \n",
    "| X1 microbes (g/kg wet)  | 0.7 | 0|"
   ]
  },
  {
   "cell_type": "markdown",
   "id": "b2936947",
   "metadata": {},
   "source": [
    "The term **TS** stands for total solids and refers to the dry content that remains after drying at 80C. For AD we want the total solids concentration to be between 50 and 100 g/kg mixture (5 to 10%). We will start our calculations at 50 g/kg.  Let's say that 50% of the solids must be from cow dung and the other 50% from food waste.\n",
    "\n",
    "a) How much water should be added to the mixture? [6354g]\n",
    "\n",
    "b) How much wet food is added in shredded format? [2083g]\n",
    "\n",
    "c) How much fresh com manure? [1563g]\n",
    "\n",
    "d) What is the inoculum starting concentration in the digester in g/L? [0.109 g/kg]\n",
    "\n",
    "If we heat the solid fraction to 550C in an oxygen environment we will evaporate all of the C,H,O,N and only minerals will remain (P,M). The fraction that evaporates will be referred to as the volatile solids (VS). VS is normally expressed as a fraction of TS. The following is known about our substrates:\n",
    "\n",
    "|       | Cow manure | Food waste |    |\n",
    "| ----------- | ----------- | ----------- | ----------- |\n",
    "| VS/TS | 0.91 | 0.94 | \n",
    "\n",
    "Soon we will be modeling the C,H,O,N fraction of the solids, but it is important not to forget about the non-volatile fraction that contains the extra mass. With regards to the C,H,O,N distribution of our two solid substrates we know the following:\n",
    "\n",
    "|       | Cow manure | Food waste |    |\n",
    "| ----------- | ----------- | ----------- | ----------- |\n",
    "| C:O (cmol:mol) | 0.51 | 0.55 | \n",
    "| C:H (cmol:mol) | 1.55 | 1.7 | \n",
    "| C:N (cmol:mol) | 0.03 | 0.04 |       \n",
    "\n",
    "\n",
    "e) Show that the combined formula for the substrate used is:\n",
    "\n",
    "$$CH_{1.625}O_{0.53}N_{0.03498}$$\n",
    "\n",
    "\n"
   ]
  },
  {
   "cell_type": "markdown",
   "id": "f99e543a",
   "metadata": {},
   "source": [
    "### Biochemical Methane Potential (BMP) \n",
    "\n",
    "Given a substrate of known C,H,O,N relationships we can theoretically calculate the maximum possible amount of methane that can be produced. To do this we simply have to balance the following equation:\n",
    "\n",
    "$$CH_{1.625}O_{0.53}N_{0.03498} \\to CH_4+CO_2+H_2O+ NH_3$$\n",
    "\n",
    "f) Show that the BMP for our feed is [0.7108 $\\frac{L}{g}$]. Use Pretoria conditions at 25C.\n",
    "\n",
    "g) How much biogas can be produced from our feed to BABY1? [589 L]"
   ]
  },
  {
   "cell_type": "markdown",
   "id": "473fea26",
   "metadata": {},
   "source": [
    "### Chemical oxygen demand (COD)\n",
    "\n",
    "COD is used as a regular test for quantifying the amount of oxygen that a substrate demands to convert to water, $CO_2$ and $NH3$. A strong oxidizing agent is used for the test. Let's balance the following reaction:\n",
    "\n",
    "$$CH_{1.625}O_{0.53}N_{0.03498}+O_2 \\to CO_2+H_2O+ NH_3$$\n",
    "\n",
    "h) How many grams of oxygen is required to convert a gram of substrate? [1.579 g/g].\n",
    "\n",
    "Note that the answer in (h) is the COD. From the example above you can show that:\n",
    "\n",
    "$$BMP=0.45COD$$\n",
    "\n",
    "Play around with substrates with a different elemental composition and see if the relationship holds generally true?\n",
    "\n",
    "Remember COD is a fast test and can be very useful to estimate a BMP.\n",
    "\n",
    "\n"
   ]
  },
  {
   "cell_type": "markdown",
   "id": "0b4e67e9",
   "metadata": {},
   "source": [
    "### Let's model BABY1\n",
    "\n",
    "Let's model the startup of **BABY1**. You can use the same $\\mu$, $\\theta$ and $K_M$ as in Chapter 6. Note that the initial conditions in the bag are the same as the feed conditions except for zero microbes fed. Remember that dung is only initially fed and thereafter only food waste. The elemental composition of food waste is slightly different from that of dung but you can use $CH_{1.625}O_{0.53}N_{0.03498}$ for all substrate. \n",
    "\n",
    "The objective is to have steady state operation and we want to get to steady state as soon as possible. Perhaps we need to run in batch mode (**D=0)** for a while to achieve steady state faster. You need to explore when it will be a good time to switch from batch to continuous. To do this we need to integrate twice and we need to use the concentrations at the end of the batch integration as the **Co** for the second integration. Note that the **HRT** is 40 days for continuous operation. Below is the answer to the run where we start up in continuous mode:\n",
    "\n",
    "<img src=\"cont3.png\" width=\"500\" />\n",
    "\n",
    "h) What will be a good time to switch between batch and continuous? By how many days will you reduce the attainment of steady state?\n",
    "\n",
    "i) Determine the conversion of substrate at steady state. [98.37%]\n",
    "\n",
    "When determining the biogas rate, never forget the mole balance and the consistency of units!\n",
    "\n",
    "\\begin{align*}\n",
    "\\frac{dN_i}{dt} &= Q^F C^F_i - QC_i + r_i C_X V \\\\\n",
    "\\left[\\frac{cmol\\,i}{h}\\right] &= \\left[ \\frac{cmol\\,i}{L} \\cdot \\frac{L}{h} \\right] -\\left[ \\frac{cmol\\,i}{L} \\cdot \\frac{L}{h} \\right] + \\left[ \\frac{cmol\\,i}{cmol\\,X\\cdot h} \\cdot \\frac{cmol\\,X}{L} \\cdot L \\right]\n",
    "\\end{align*}\n",
    "\n",
    "If we take only methane production at steady state we have:\n",
    "\n",
    "$$ 0= - QC_M + r_M C_X V $$\n",
    "\n",
    "$$ QC_M = r_M C_X V $$\n",
    "\n",
    "Understand that any of these two terms can be used to determine the methane production rate. Also understand that we are assuming that all methane stays dissolved in the liquid, thus the methane that leaves the reactor does so via the liquid outlet in the model. We are excluding the gas-liquid separation step where methane seperates form the liquid to exit as gas stream.\n",
    "\n",
    "j) How much biogas is produced in a day? [11.8L/day]\n",
    "\n",
    "k) Determine the substrate conversion and biogas production at steady state if the inlet concentration of substrate is increased to 70 $\\frac{g}{L}$. HRT remains the same. [16.6 L/day and 98.8%]\n",
    "\n",
    "l) What are the microbial cell concentration for the 50$\\frac{g}{L}$ and 70 $\\frac{g}{L}$ runs? [2.32 and 3.27 g/L]\n",
    "\n",
    "m) Revert to a 50$\\frac{g}{L}$ feed and change the HRT to 30 days. Determine substrate conversion and biogas production rate. [97.3% and 15.6 l/day]. Why are we producing more gas than before? Is the SLR staying the same?\n",
    "\n",
    "n) If we reduce the HRT to 20 days while keeping the SLR the same as in the original example, what substrate conversion and biogas production is obtained? [85% 10.2 L/day]\n",
    "\n",
    "i) If the outlet of the digester contains 0.833 $\\frac{g}{L}$$ of unconverted substrate in the liquid phase, what is the COD of this liquid mixture? [1.32 g/L]\n",
    "\n",
    "\n",
    "\n",
    "\n",
    "\n",
    "\n",
    "\n",
    "\n"
   ]
  },
  {
   "cell_type": "code",
   "execution_count": null,
   "id": "0d5ea991",
   "metadata": {},
   "outputs": [],
   "source": []
  }
 ],
 "metadata": {
  "kernelspec": {
   "display_name": "Python 3 (ipykernel)",
   "language": "python",
   "name": "python3"
  },
  "language_info": {
   "codemirror_mode": {
    "name": "ipython",
    "version": 3
   },
   "file_extension": ".py",
   "mimetype": "text/x-python",
   "name": "python",
   "nbconvert_exporter": "python",
   "pygments_lexer": "ipython3",
   "version": "3.9.13"
  }
 },
 "nbformat": 4,
 "nbformat_minor": 5
}
