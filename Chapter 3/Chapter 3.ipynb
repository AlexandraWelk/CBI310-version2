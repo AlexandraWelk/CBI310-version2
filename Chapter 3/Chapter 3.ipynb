{
 "cells": [
  {
   "cell_type": "markdown",
   "metadata": {},
   "source": [
    "# Chapter 3: Photosynthesis\n"
   ]
  },
  {
   "cell_type": "markdown",
   "metadata": {},
   "source": [
    "## Photosynthesis and the central dogma of biology\n",
    "\n",
    "Have a look at the following picture: \n",
    "\n",
    "<img src=\"pleaserender.jpg\" width=\"650\" />\n",
    "\n",
    "Hopefully it reminds you of the respiration videos in chapter 1. We won't be getting into metabolic detail of the process of photosyntheis, but it is very interesting to note that photosyntheis is really the reverse reaction of aerobic respiration. But more about this later. Let's rather look at the picture above a bit more. Can you see the phospholipids that constitutes the membrane? Do you know the chemical composition of this membrane? There is a lot of 'insertions' in the membrane. These are all spesialised proteins that facilitate the process of capturing sunlight and turning it into ATP. We are not going deep into the mechanism of this process, we are rather interested into how these specialised proteins are made. The short answer to this question is that DNA contains the recipes to produce all the proteins that the organims requires, this is referred to as the central dogma of biology. Before we can understand the dogma we nee some background on nucluic acids:\n",
    "\n",
    "[Video: Nucleic acids](https://www.youtube.com/watch?v=NNASRkIU5Fw)\n",
    "\n",
    "The following picture give a good overview of the structure of DNA and RNA.\n",
    "\n",
    "<img src=\"DNA1.png\" width=\"550\" />\n",
    "\n",
    "[Video: More on DNA ](https://www.youtube.com/watch?v=8kK2zwjRV0M)\n",
    "\n",
    "<img src=\"DNA2.png\" width=\"550\" />\n",
    "\n",
    "The following video is a good annimation to show you how DNA is used to produce proteins:\n",
    "\n",
    "[Video: From DNA to proteins](https://www.youtube.com/watch?v=gG7uCskUOrA)\n",
    "\n",
    "This last video on the central dogma will give you an even more real feel of what protein synthesis entail. Amamzing to think that this is constantly happening around us and in us.\n",
    "\n",
    "[Video: Central dogma in real time](https://www.youtube.com/watch?v=D3fOXt4MrOM)\n",
    "\n",
    "As chemical engineers we are interested in speed of transcription and translation. _E.coli_ can achieve transcription rates of 60 nucleotides per second with the corresponding translation rate of 20 amino acids per second. So an average gene on 5000 base pairs will produce a full protein in 80 seconds. That is fast! "
   ]
  },
  {
   "attachments": {},
   "cell_type": "markdown",
   "metadata": {},
   "source": [
    "So now we at least know how proteins get made and hopefully soon you will understand how the proteins responsible for fotosynthesis are absolutely essential for life on earth. The sun is the great energy source and fotosynthesis is the great capturer that converts light energy into chemical energy. Do you understand that all fossil fuels are derived fron ancient plant material? [Climate change](https://en.wikipedia.org/wiki/Climate_change) is really a result of humans burning 'ancient sunlight'. It is highly unsustainable since the rate of $CO_2$ capture by 'current sunlight' is not nearly as fast as the release of $CO_2$ from 'ancient sunlight'. Ensure that you understand this principle. \n",
    "\n",
    "[Video: Fossil fuels](https://youtu.be/zaXBVYr9Ij0 )\n",
    "\n",
    "This implies that the energy driving your computer at the moment is effectively derived from sunlight. I guess this will make you appreciate the fotosyntheis proteins a bit more and also the amazing process of transcription and translation that keeps on producing new proteins so that we can keep on harvesting sunlight."
   ]
  },
  {
   "cell_type": "markdown",
   "metadata": {},
   "source": [
    "## Tutorial on transcription and tranlation\n",
    "\n",
    "<img src=\"centraldogma.png\" width=\"600\" />\n",
    "\n",
    "As a group of 3, search for relevant resources (Wikipedia articles, YouTube videos, etc.) that would help you decode the sequence of amino acids hidden in a snippet of DNA (given below). Be aware that the problem contains a few hurdles. Once you feel confident that you have solved the problem, check with one of the assistants if you are correct, and give each of the members in your group a mark out of 5 for their contribution to solving the problem. \n",
    "\n",
    "Tip: the hidden message is encoded as the one-letter abbreviations for the specific amino acids used to build the protein.\n",
    "\n",
    "Best of luck.\n",
    "\n",
    "<img src=\"Tut3_updated_fig.png\" width=\"1000\"/>\n",
    "\n",
    "\n"
   ]
  },
  {
   "cell_type": "markdown",
   "metadata": {},
   "source": [
    "## Photosynthesis and fertilizer\n",
    "\n",
    "<img src=\"FS_basic.png\" width=\"600\"/>\n",
    "\n",
    "The overall reaction of photosynthesis is the reverse of aerobic respiration:\n",
    "\n",
    "$$6H_2O + 6CO_2 + energy \\rightleftharpoons C_6 H_{12} O_6+6O_2$$\n",
    "\n",
    "We can see that sunlight, water and $CO_2$ are converted to carbohydrates (that contain energy) and oxygen. The following video might entice you on understanding the mechanism of photosynthesis better. \n",
    "\n",
    "[Video: Photosynthesis mechanism](https://youtu.be/_RSKI5A_lsg)\n",
    "\n",
    "The product of oxygen is off course very important. Photosynthesis was discovered about 3 billion years ago and completely changed the course of earth's development. The following video can shed some light on this:\n",
    " \n",
    "[Video: Cyanobacteria](https://youtu.be/DE4CPmTH3xg)\n",
    "\n",
    "Very interesting. The theme of [endosymbiosis](https://en.wikipedia.org/wiki/Endosymbiont) already discussed in chapter 1 is also occuring here where the cyanobacteria developed into the chloropast similar to the development of the mitochondria. The accumulation of oxygen into the atmosphere, caused by cyanobacteria is sometimes referred to as the [great oxygenation event](https://en.wikipedia.org/wiki/Great_Oxidation_Event). All eukaryotes basically developed because of oxygen availability. Once evolution discovered aerobic respiration the path was set for the the development of [multicellular organisms](https://en.wikipedia.org/wiki/Multicellular_organism), given that much bigger quantities of ATP could be generated with the avaialbility of oxygen. Of course, cyanobacteria preceded the invention of aerobic respiration because oxygen had to accumulate in the atmosphere first. \n",
    "\n",
    "Let's now look at what a plant requires to grow. The picture above shows sunlight, water and $CO_2$, but there is something missing from the picture and that is the nutrients that gets delivered from the soil.. The following video is a usefull introduction to plant nutrients.\n",
    "\n",
    "[Video: Plant nutrients](https://www.youtube.com/watch?v=w_x-WDdQdxI)\n",
    "\n",
    "Fertilizer is the term used for nutrients that plants require. Important here to distiguish between organic and synthetic fertilizer.  Have a look at the following video to give you some perspective on the importance of nitrogen in plants.\n",
    "\n",
    "[Video: Harber reaction](https://youtu.be/hK4vXKaBJko)\n",
    "\n",
    "<img src=\"Haber.png\" width=\"200\"/>\n",
    "\n",
    "So Fritz Harber above was initially the hero, but today it is estimated that 50% of all synthetic nitrogen is spilled to the groundwater. The environmental consequences of this is massive, some say it is as big a problem as global warming. The following [article](https://e360.yale.edu/features/can-the-world-find-solutions-to-the-nitrogen-pollution-crisis) provide some perspective.\n",
    "\n",
    "One might wonder how nitrogen was obtained used by plants before the agricultural revolution. The following video gives you a good idea of how the nitrogen cycle works in nature: \n",
    "\n",
    "[Video: Nitrogen cycle](https://youtu.be/A8qTRBc8Bws) \n",
    "\n",
    "Lastly, we can have a look at phosphate. Do you remember the molecules of life that contains phosphate? The video below gives you an idea of the importance and scarcity of phosphate:\n",
    "\n",
    "[Video: Phosphates](https://www.youtube.com/watch?v=5zobQvLTOpc)\n",
    "\n",
    "Where does the nitrogen and phosphorous end up in the plant? In what molecules? Make sure that you can answer this question based on videos and information given in chapter 2 and 3.\n",
    "\n"
   ]
  },
  {
   "cell_type": "markdown",
   "metadata": {},
   "source": [
    "## Crop growth mass balances\n",
    "\n",
    "We now want to perform a mass balance similar to the one we did in chapter 2, but this time we will be producing the food we eat instead of digesting and metabolising it. To explain some of the core  \n",
    "\n",
    "\n",
    "We'll start with an oversimplified example and then extend the example to a real diet consisting of real foodcrops. For the first example our food product will be the same as the food digested in chapter 2. It is important to realise that edible biomass is always associated with non-edible plant material like the stems, leaves, roots etc. For this example we will assume that only 40% of all the plant material are edible and that the remaining 60% cannot be consumed. We will use the following CHON formula for the non-edible part of biomass produced:\n",
    "\n",
    "$$CH_{1.46}O_{0.6}N_{0.02}$$\n",
    "\n",
    "Note the low fraction of nitrogen in the non-edible part. This is because the non-edible parts are mostly [lignocellulosic biomass](https://en.wikipedia.org/wiki/Lignocellulosic_biomass) \n",
    "\n",
    "The following diagram descibes the overall process for producing food crops:\n",
    "\n",
    "<img src=\"Agri.png\" width=\"600\"/>\n",
    "\n",
    "The overall reaction can be written as follow:\n",
    "\n",
    "\n",
    "\n",
    "$$(-r_N)NH_3+(-r_C)CO_2+(-r_W)H_2O→(r_F)C H_{1.875}O_{0.523}N_{0.081}+(r_{NF})C H_{1.46}O_{0.6}N_{0.02}+(r_O)O_2$$\n",
    "\n",
    "Note the subscripts **N,C,W,F,NF,O** are for ammonia, $CO_2$, water, food, non-deible biomass and oxygen.\n",
    "\n",
    "Given the food flowrate used in chapter 3 and the fact that 60% of the biomass is non-edible (on a mass basis), you should be able to perform the mass balance in matrix format. The following should be obtained if your mass balance is correct."
   ]
  },
  {
   "cell_type": "markdown",
   "metadata": {},
   "source": [
    "We now want to connect the crop growing mass balance to the human metabolism mass balance, like in the following diagram:\n",
    "\n",
    "<img src=\"2MB.png\" width=\"750\"/>\n",
    "\n",
    "\n",
    "\n"
   ]
  },
  {
   "cell_type": "code",
   "execution_count": null,
   "metadata": {},
   "outputs": [],
   "source": []
  }
 ],
 "metadata": {
  "kernelspec": {
   "display_name": "Python 3 (ipykernel)",
   "language": "python",
   "name": "python3"
  },
  "language_info": {
   "codemirror_mode": {
    "name": "ipython",
    "version": 3
   },
   "file_extension": ".py",
   "mimetype": "text/x-python",
   "name": "python",
   "nbconvert_exporter": "python",
   "pygments_lexer": "ipython3",
   "version": "3.9.13"
  }
 },
 "nbformat": 4,
 "nbformat_minor": 4
}
