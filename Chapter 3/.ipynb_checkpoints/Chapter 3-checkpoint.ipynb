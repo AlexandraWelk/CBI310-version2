{
 "cells": [
  {
   "cell_type": "markdown",
   "metadata": {},
   "source": [
    "# Chapter 3: Photosynthesis\n"
   ]
  },
  {
   "cell_type": "markdown",
   "metadata": {},
   "source": [
    "## Photosynthesis and the central dogma of biology\n",
    "\n",
    "Have a look at the following picture: \n",
    "\n",
    "<img src=\"fotoproteins.jpg\" width=\"650\" />\n",
    "\n",
    "Hopefully it reminds you of the respiration videos in chapter 1. We won't be getting into metabolic detail of the process of photosyntheis, but it is very interesting to note that photosyntheis is really the reverse reaction of aerobic respiration. But more about this later. Let's rather look at the picture above a bit more. Can you see the phospholipids that constitutes the membrane? Do you know the chemical composition of this membrane? There is a lot of 'insertions' in the membrane. These are all spesialised proteins that facilitate the process of capturing sunlight and turning it into ATP. We are not going deep into the mechanism of this process, we are rather interested into how these specialised proteins are made. The short answer to this question is that DNA contains the recipes to produce all the proteins that the organims requires, this is referred to as the central dogma of biology. Before we can understand the dogma we nee some background on nucluic acids:\n",
    "\n",
    "[Video: Nucleic acids](https://www.youtube.com/watch?v=NNASRkIU5Fw)\n",
    "\n",
    "The following picture give a good overview of the structure of DNA and RNA.\n",
    "\n",
    "<img src=\"DNA1.png\" width=\"650\" />\n",
    "\n",
    "[Video: More on DNA ](https://www.youtube.com/watch?v=8kK2zwjRV0M)\n",
    "\n",
    "<img src=\"DNA2.png\" width=\"650\" />\n",
    "\n",
    "The following video is a good annimation to show you how DNA is used to produce proteins:\n",
    "\n",
    "[Video: From DNA to proteins](https://www.youtube.com/watch?v=gG7uCskUOrA)\n",
    "\n",
    "This last video on the central dogma will give you an even more real feel of what protein synthesis entail. Amamzing to think that this is constantly happening around us and in us.\n",
    "\n",
    "[Video: Central dogma in real time](https://www.youtube.com/watch?v=D3fOXt4MrOM)\n",
    "\n",
    "As chemical engineers we are interested in speed of transcription and translation. _E.coli_ can achieve transcription rates of 60 nucleotides per second with the corresponding translation rate of 20 amino acids per second. So an average gene on 5000 base pairs will produce a full protein in 80 seconds. That is fast! "
   ]
  },
  {
   "cell_type": "markdown",
   "metadata": {},
   "source": [
    "So now we at least know how proteins get made and hopefully soon you will understand how the proteins responsible for fotosynthesis are absolutely essential for life on earth. The sun is the great energy source and fotosynthesis is the great capturer that converts light energy into chemical energy. Do you understand that all fossil fuels are derived fron ancient plant material? \n",
    "\n",
    "[Video: Fossil fuels](https://youtu.be/zaXBVYr9Ij0 )\n",
    "\n",
    "This implies that the energy driving your computer at the moment is effectively derived from sunlight. I guess this will make you appreciate the fotosyntheis proteins a bit more and also the amazing process of transcription and translation that keeps on producing new proteins so that we can keep on harvesting sunlight."
   ]
  },
  {
   "cell_type": "markdown",
   "metadata": {},
   "source": [
    "## Tutorial on transcription and tranlation\n",
    "\n",
    "<img src=\"centraldogma.png\" width=\"600\" />\n",
    "\n",
    "As a group of 3, search for relevant resources (Wikipedia articles, YouTube videos, etc.) that would help you decode the sequence of amino acids hidden in a snippet of DNA (given below). Be aware that the problem contains a few hurdles. Once you feel confident that you have solved the problem, check with one of the assistants if you are correct, and give each of the members in your group a mark out of 5 for their contribution to solving the problem. \n",
    "\n",
    "Tip: the hidden message is encoded as the one-letter abbreviations for the specific amino acids used to build the protein.\n",
    "\n",
    "Should you require assistance you may ask a teaching assistant to give you a tip on how to proceed, know just that this may or may not have an impact on your final score.  \n",
    "Best of luck.\n",
    "\n",
    "<img src=\"Tut3_updated_fig.png\" width=\"1000\"/>\n",
    "\n",
    "\n"
   ]
  },
  {
   "cell_type": "markdown",
   "metadata": {},
   "source": [
    "## Crop growth mass balances\n",
    "\n",
    "\n",
    "With more bio-basics in place, we can now move onto performing mass balances over a an agricultural unit where sunlight, minerals and water are used to produce food. We will stick with the simple diet defined in chapter 2 and determine the amount of CO₂, minerals and soil area required to feed a human being. You will be doing this calculation as part of your worksessions on this chapter and only some guidelines will be provided in this notebook. \n",
    "\n",
    "Given the diet and chemical formula of chapter 2, it is important to understand that a major amount of non-edible biomass has to be grown in order to deliver the human food used in the previous chapter. The first step will be to determine the non-edible fraction of each of the crops and also to obtain an elemental formula for the non-edible parts of the crops. The non-edible parts are mostly [lignocellulosic biomass](https://en.wikipedia.org/wiki/Lignocellulosic_biomass) and we will use the following generic formula to describe its chemical composition\n",
    "\n",
    "see excel file"
   ]
  },
  {
   "cell_type": "markdown",
   "metadata": {},
   "source": [
    "\n",
    "\n",
    "\n",
    "\n",
    "We can see that sunlight water and CO₂ are converted to carbohydrates (that contain energy) and oxygen. The following video might entice you on understanding the mechanism of photosynthesis better. \n",
    "\n",
    "https://youtu.be/_RSKI5A_lsg\n",
    "\n",
    "The product of oxygen is off course very important. Photosynthesis was discovered about 3 billion years ago and completely changed the course of earth's development. The following video can shed some light on this:\n",
    " \n",
    "https://youtu.be/DE4CPmTH3xg\n",
    "\n",
    "Very interesting. The theme of endosymbiosis already discussed in chapter 1 is also occuring here where the cyanobacteria developed into the chloropast similar to the development of the mitochondria. The accumulation of oxygen into the atmosphere, caused by cyanobacteria is sometimes referred to as the great oxygenation event. All eukaryotes basically developed because of oxygen availability. Once evolution discovered aerobic respiration the path was set for the the development of multicellular organisms, given that much bigger quantities of ATP could be generated with the avaialbility of oxygen. Of course, cyanobacteria preceded this event and enabled the formation of the mitochondria. It is good to understand where we come from. \n",
    "\n",
    "Let's now look at what a plant requires to grow. The fisrt two things is of course sunlight and water, but this is unfortunately not all. All plants require nutrients in order to grow. The following video is a usefull introduction to plant nutrients.\n",
    "\n",
    "https://www.youtube.com/watch?v=w_x-WDdQdxI\n",
    "\n",
    "Fertilizer is the term used for nutrients that plants require. Important here to distiguish between organic and synthetic fertilizer.  Have a look at the following video to give you some perspective on the importance of nitrogen in plants.\n",
    "\n",
    "https://youtu.be/hK4vXKaBJko (harber bosh)\n",
    "\n",
    "So Fritz harber was initially the hero, but today it is estimated that 50% of all synthetic nitrogen is spilled to the groundwater. The environmental consequences of this is massive, some say it is as big a problem as global warming. The following article provide some perspective: ",
    " ",
    "https://e360.yale.edu/features/can-the-world-find-solutions-to-the-nitrogen-pollution-crisis\n",
    "\n",
    "One might wonder how nitrogen was obtained used by plants before the agricultural revolution. The following video gives you a good idea of how the nitrogen cycle works in nature: \n",
    "\n",
    "https://youtu.be/A8qTRBc8Bws (very good video on nitrogen cycle)\n",
    "\n",
    "We talk a lot about nitrogen here, one might wonder how nitrogen fits into the internals of plants. From the background in chapter 2 it is evident that a lot of nitrogen ends up in the amino acids that constitute proteins. Another molecule where nitrogen features heavily is DNA and RNA molecules.   \n",
    "\n",
    "\n"
   ]
  },
  {
   "cell_type": "code",
   "execution_count": null,
   "metadata": {},
   "outputs": [],
   "source": []
  }
 ],
 "metadata": {
  "kernelspec": {
   "display_name": "Python 3 (ipykernel)",
   "language": "python",
   "name": "python3"
  },
  "language_info": {
   "codemirror_mode": {
    "name": "ipython",
    "version": 3
   },
   "file_extension": ".py",
   "mimetype": "text/x-python",
   "name": "python",
   "nbconvert_exporter": "python",
   "pygments_lexer": "ipython3",
   "version": "3.9.13"
  }
 },
 "nbformat": 4,
 "nbformat_minor": 4
}
