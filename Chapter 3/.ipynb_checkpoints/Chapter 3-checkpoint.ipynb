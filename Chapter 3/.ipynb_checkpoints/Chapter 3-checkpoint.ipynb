{
 "cells": [
  {
   "cell_type": "markdown",
   "metadata": {},
   "source": [
    "# Chapter 3: Photosynthesis\n"
   ]
  },
  {
   "cell_type": "markdown",
   "metadata": {},
   "source": [
    "(It is interesting to observe that most energy outputs on earth can be directly related to the sun. Just take the kettle and light saving bulbs, both get their energy from electricity. Electricity in South Africa is mostly generated from burning coal, while coal is really just ancient plant matter that formed via photosynthesis in sunlight. So the light shining and kettle boiling is effectiviely the unleashing of stored sunlight. It is the same for humans, our engines are powered by food that is effectively just stored sunlight.)\n",
    "\n",
    "The first two chapters was all about humans getting energy from food. At the core we had the the following reaction that describes respiration.\n",
    "\n",
    "Give respiration reaction\n",
    "\n",
    "It should be evident that biomass always contain a carbon backbone connected to oxygen, hydrogen, nitrogen and other lesser elements. Carbon that is 'held' in this form typically contains a lot of energy. The release of this chemical energy is the essence of respiration. But where does all this energy come from? The answer is quite simple, it is the sun. All fossil fuels, biomass, wind energy and tidal energy basically originates from sunshine. The sun drives the whole planet and really can be seen as the great provider. \n",
    "\n",
    "To capture sun energy, fotosynthesis is required. Fotosynthesis is in essence the reverse of aerobic respiration and we can use the following generic chemical equation to describe the overall process. \n",
    "\n",
    "Give photosynthesis reaction.\n",
    "\n",
    "We can see that sunlight water and CO₂ are converted to carbohydrates (that contain energy) and oxygen. The following video might entice you on understanding the mechanism of photosynthesis better. \n",
    "\n",
    "https://youtu.be/_RSKI5A_lsg\n",
    "\n",
    "The product of oxygen is off course very important. Photosynthesis was discovered about 3 billion years ago and completely changed the course of earth's development. The following video can shed some light on this:\n",
    " \n",
    "https://youtu.be/DE4CPmTH3xg\n",
    "\n",
    "Very interesting. The theme of endosymbiosis already discussed in chapter 1 is also occuring here where the cyanobacteria developed into the chloropast similar to the development of the mitochondria. The accumulation of oxygen into the atmosphere, caused by cyanobacteria is sometimes referred to as the great oxygenation event. All eukaryotes basically developed because of oxygen availability. Once evolution discovered aerobic respiration the path was set for the the development of multicellular organisms, given that much bigger quantities of ATP could be generated with the avaialbility of oxygen. Of course, cyanobacteria preceded this event and enabled the formation of the mitochondria. It is good to understand where we come from. \n",
    "\n",
    "Let's now look at what a plant requires to grow. The fisrt two things is of course sunlight and water, but this is unfortunately not all. All plants require nutrients in order to grow. The following video is a usefull introduction to plant nutrients.\n",
    "\n",
    "https://www.youtube.com/watch?v=w_x-WDdQdxI\n",
    "\n",
    "Fertilizer is the term used for nutrients that plants require. Important here to distiguish between organic and synthetic fertilizer.  Have a look at the following video to give you some perspective on the importance of nitrogen in plants.\n",
    "\n",
    "https://youtu.be/hK4vXKaBJko (harber bosh)\n",
    "\n",
    "So Fritz harber was initially the hero, but today it is estimated that 50% of all synthetic nitrogen is spilled to the groundwater. The environmental consequences of this is massive, some say it is as big a problem as global warming. The following article provide some perspective: ",
    " ",
    "https://e360.yale.edu/features/can-the-world-find-solutions-to-the-nitrogen-pollution-crisis\n",
    "\n",
    "One might wonder how nitrogen was obtained used by plants before the agricultural revolution. The following video gives you a good idea of how the nitrogen cycle works in nature: \n",
    "\n",
    "https://youtu.be/A8qTRBc8Bws (very good video on nitrogen cycle)\n",
    "\n",
    "We talk a lot about nitrogen here, one might wonder how nitrogen fits into the internals of plants. From the background in chapter 2 it is evident that a lot of nitrogen ends up in the amino acids that constitute proteins. Another molecule where nitrogen features heavily is DNA and RNA molecules.   \n",
    "\n",
    "\n"
   ]
  }
 ],
 "metadata": {
  "kernelspec": {
   "display_name": "Python 3",
   "language": "python",
   "name": "python3"
  },
  "language_info": {
   "codemirror_mode": {
    "name": "ipython",
    "version": 3
   },
   "file_extension": ".py",
   "mimetype": "text/x-python",
   "name": "python",
   "nbconvert_exporter": "python",
   "pygments_lexer": "ipython3",
   "version": "3.7.6"
  }
 },
 "nbformat": 4,
 "nbformat_minor": 4
}
