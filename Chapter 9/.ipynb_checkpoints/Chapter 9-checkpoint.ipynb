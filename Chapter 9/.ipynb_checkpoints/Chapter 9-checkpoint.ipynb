{
 "cells": [
  {
   "cell_type": "markdown",
   "metadata": {},
   "source": [
    "## Chapter 9: Sustainable living on Mars\n",
    "\n",
    "Okey students, it is time to put our knowledge to work and to integrate the concepts that we have learned. We are going to design a system for Ben to stay alive on Mars. \n",
    "\n",
    "<img src=\"Mars.png\" width=\"750\" />\n",
    "\n",
    "We have sunlight to grow plants and we have microbes to help us with the recycle of waste. We will be considering minerals in this design but only phosphorous and sodium as these give a good representation of the other minerals. It will be important to have a $P$ and $Na$ stream in each of the stoicheometric tables. Ultimately we really want to minimize the amount of $NH_3$, $P$ that we feed to the system. The fresh inlet water contains $Na$ which will hopefully supply all $Na$ to the system. Apart from minimizing minerals used, we also want to minimize the amount of water, $CO_2$ and oxygen that has to be supplied, since this will have to be shipped from earth. \n",
    "\n",
    "<img src=\"supplies.png\" width=\"750\" />\n",
    "\n",
    "Ben's home below is such that a synthetic earth atmosphere is maintained inside. \n",
    "\n",
    "<img src=\"home.png\" width=\"750\" />\n",
    "\n",
    "\n",
    "The process flow diagram below gives you an overview of the final design. Study it and ensure that you have a good understanding of the process. Note that the only exit streams are solid digestate and purged water containing minerals. Ultimately the atoms leaving through the purge or solid digestate will have to be replaced by our supplies from earth.\n",
    "\n",
    "<img src=\"CorrectD.png\" width=\"950\" />\n",
    "\n"
   ]
  },
  {
   "cell_type": "markdown",
   "metadata": {},
   "source": [
    "In order to solve the integrated scheme above, we need to start unit by unit and neglect recycle streams for our initial attempts. Rather look at the flowsheet below to get going into the \"Mars\" problem:\n",
    "\n",
    "<img src=\"Correctopen.png\" width=\"950\" />\n",
    "\n"
   ]
  },
  {
   "cell_type": "markdown",
   "metadata": {},
   "source": [
    "Let's start with the solid compositions that are specified. Ensure to use these formulas in all your calculations:"
   ]
  },
  {
   "cell_type": "markdown",
   "metadata": {},
   "source": [
    "<img src=\"formulas.png\" width=\"650\" />"
   ]
  },
  {
   "cell_type": "markdown",
   "metadata": {},
   "source": [
    "To determine S1 you need to work with a plant based diet for Ben. Ben will still consume 9000kJ/day and his diet will consist out of 36% protein, 21% fat and 43% carbs (mass basis). You can only consider the $CHON$ contributions to his diet and assume that the total P:C ratio of the edible food is 0.0036 and the Na:C ratio of 0.0016 (mol basis).\n",
    "\n",
    "Of all the plants produced (edible and non-edible) only 40% is edible on a dry mass basis. You can further assume that the water content of both the food and the non-edible plant material is 60%.\n",
    "\n",
    "The water content of $S2$ is 75%\n",
    "\n",
    "Ben loses water through his breath. The amount lost per day is 2.6 times the amount of water that forms during his repiration reactions.\n",
    "\n",
    "Urine can be modelled as 40g of urea exiting the body on a daily basis. Allow for a seperate P and Na stream in your unit 2 matrix and note that this should be added to the total urine stream. Ben produces 1.5 liter of urine a day. The urea in the urine will spontaneously undergo the following decomposition:\n",
    "\n",
    "$$CH_4ON_2 +H_2O \\to CO_2+2NH_3$$\n",
    "\n",
    "Ensure to calculate a $NH_3$ concentration in the urine.\n",
    "\n",
    "You can assume that 18% of the total molar substrate to unit 3 is non-digestible.\n",
    "\n",
    "The following parameters should be used for all calculations. Paste this cell into your model and ensure not to overwrite these key parameters:\n"
   ]
  },
  {
   "cell_type": "code",
   "execution_count": 3,
   "metadata": {},
   "outputs": [],
   "source": [
    "# List of key parameters\n",
    "\n",
    "thetamax3=0.55 # Unit 3\n",
    "mumax3=0.07 #1/day\n",
    "Ks_mu3=0.04 #cmol/L\n",
    "Ks_theta3=0.008/1e6  #cmol/L\n",
    "Na_conc=300/1000/23 #mol/L (300mg/L in clean water)\n",
    "mumax4=0.17 #1/day\n",
    "thetamax4=0.57 #molATP/cmolX/day in Unit4\n",
    "kla=20 #1/day\n",
    "Ks_mu4=0.002 #cmol/L\n",
    "Co_sat=7/1000/32 #mol/l\n",
    "Ko_mu4=Co_sat*0.15 #mol/L\n",
    "Ks_theta4=Ks_mu4/1e6 #cmol/L\n",
    "Ko_theta4=Ko_mu4/1e6 #mol/L\n",
    "Q1=1.5  #L"
   ]
  },
  {
   "cell_type": "markdown",
   "metadata": {},
   "source": [
    "### Tips on Unit2\n",
    "\n",
    "Assume that the water Ben consumes contain zero **Na**. For now he will be drinking condensate from his house. Towards the end you can calculate whether there is enough condensate for him, but you can keep the assumption for all your calculations."
   ]
  },
  {
   "cell_type": "markdown",
   "metadata": {},
   "source": [
    "### Tips on Unit3\n",
    "\n",
    "For the AD you will have to combine S3 and S2 (later also S4) into a single substrate before solving for the matrix. Note that water will have to be added to ensure a total substrate inlet concentration of 130 $\\frac{g}{L}$. Remember that S2 and S3 already contains some water that will add to the water input to unit 3. Assume that the solids in the liquid feed to unit 3 does not add to the volume of the total mixture (this implies that only water will determine the volumetric flowrate through unit 3). The volumetric rate of water through the system (Q3) can assumed to be constant and will stay constant as it progress to unit 4.You can assume that digestate is removed as dry biomass form the digester. My suggestion is that you start with a dynamic model before using **fsolve** to solve for the steady state.\n",
    "\n",
    "The anaerobic biomass produces 0.35 mol ATP per mol of substrate digested and 1.8 mol of ATP is required to grow a cmol of anaerobic biomass (X3).\n",
    "\n",
    "**You can assume for unit 3 (and unit 4) that the liquid volumetric flowrate is the same in as out**"
   ]
  },
  {
   "cell_type": "markdown",
   "metadata": {},
   "source": [
    "### Tips on Unit4\n",
    "\n",
    "Here we also have to calculate a total substrate stream since the biomass form unit 3 (X3) will be digested in the aerobic digester. Your aerobic digester should be such that the amount of substrate that leaves the digester is less than 400 $\\frac{mg}{L}$.The aerobic microbial biomass X4 (or S4) is refeerd to as sludge and will be recycled back to unit 3. You can assume that the sludge will be dried when recycled back to unit 3. The organic carbon and nitrogen still present in the remaining substrate (less than 400 $\\frac{mg}{L}$) will be decomposed by micobes on the plant roots to $CO_2$ and $NH_3$. For your calculation you can assume that the decomposition occurs before L4 is fed to the water tank (unit 5), implying that the concentration of $NH3$, $P$ and $Na$ will be slightly higher that the direct outlet from the aerobic digester. This implies that you add a small unit where all **N,P and Na** in the substrate is released to $NH_3$, $P$ and $Na$ into L4.\n",
    "\n",
    "The aerobic biomass produces 3 mol ATP per mol of oxygen consumed and 2.5 mol of ATP is required to grow a cmol of aerobic biomass (X4).\n",
    "\n",
    "My suggestion is that you start with a dynamic model before using **fsolve** to solve for the steady state.\n",
    "\n",
    "**You can assume for unit 4 (and unit 3) that the liquid volumetric flowrate is the same in as out**\n",
    "\n",
    "Assume that the inlet oxygen concentration to unit 4 is $\\frac{C_{Osat}}{2}$\n",
    "\n"
   ]
  },
  {
   "cell_type": "markdown",
   "metadata": {},
   "source": [
    "### Tips on combined digester volume\n",
    "\n",
    "The concentration of substrate will decrease from 130 $\\frac{g}{L}$ to 0.4 $\\frac{g}{L}$ though units 3 and 4. You need to keep the combined volume of these two digesters as small as possible. "
   ]
  },
  {
   "cell_type": "markdown",
   "metadata": {},
   "source": [
    "### Mass balance checks\n",
    "\n",
    "It is a good idea to check that the mass balance for each element is satisfied over each unit. Calculate the amount of each element entering and exiting a unit. If you don't get a perfect balance you at least know that there is a mistake in the unit calculation. \n",
    "\n",
    "Once all units are checked for mass balance, ensure to also check for an overall mass balance in the open system. The open system is given below as well as at the top of the chapter:\n",
    "\n",
    "<img src=\"diagramopen.png\" width=\"550\" />"
   ]
  },
  {
   "cell_type": "markdown",
   "metadata": {},
   "source": [
    "For example, check that the amount of **N,P and Na** fed to unit 1 is the same as the combined amounts from  **S5,S4,L1 and L4**\n",
    "Once this is in place you can recycle the sludge (**S4**) to unit 3.\n",
    "\n",
    "Once your sludge cycle is in place, ensure that all the **N,Pand Na** used by the plants (plus the Na from L2) ends up in **L4,S5,L1**. Once this is confirmed you can introduce **unit 5**."
   ]
  },
  {
   "cell_type": "markdown",
   "metadata": {},
   "source": [
    "### Unit 5 (recycle)\n",
    "\n",
    "To solve for the steady state concentrations in unit 5 you will need to itterate. Please note that only a **N,P and Na** balance need to be performed since there is zero residual carbon in L4. For the overall balance you will have:\n",
    "\n",
    "$$L_1+L_4=L_5+L_P+L_{agric}$$\n",
    "\n",
    "$L_{agric}$ is all the water used for agriculture and will include the 60% water in the plants, the water used in transpiration (this is 3% (mass) of all wet plant matter per day) and the water used in the photosynthesis reaction.\n",
    "\n",
    "When setting up the elemental balances over unit 3 ensure to include the minerals fed to the system (So -consisting of NH3, P and perhaps some extra Na), the **N,P,Na** used by the plants per day as well as all the liquid streams that contain **N,P,Na**. Note that you will have to feed at least the amount of **N and P** that leaves the system as solid digestate (S5). If the amount of **Na** fed through L2 is not more than the **Na** required by the plants, you will also have to add additional **Na**.\n",
    "\n",
    "Your itteration around unit 5, will entail solving the mass balance over unit 5 in order to determine the content of L5 that is fed to unit 3. Given a different **NH3,P,Na** content into unit 3, you will have to calculate the **NH3,P,Na** content of L4. Once this is done you will have to repeat the mass balance over unit 5 to determine a new composition of L5. Python has to keep repeating the calculation until the concentrations of **NH3,P,Na** stabilise. Define an error as the square of the difference between old and new values for the concentration in unit 5 and set this error to 1e-10 when using molar concentrations. Use the **while error > 1e-10:** statement for the loop to converge.\n",
    "\n",
    "Assume that Qp must have a minimum value 100 ml/day.. Note that So must be set so that it is at least more than the N,P that leaves the system as solid digestate (S5) since N,P,Na will leave also the system through the purge.\n",
    "\n",
    "**Note that the plants require a NH3, P and Na concentration above 100 mg/L (in unit 5) in order to grow fast enough. Ensure to manipulate your design accordingly "
   ]
  },
  {
   "cell_type": "markdown",
   "metadata": {},
   "source": [
    "### What are trying to determine:\n",
    "\n",
    "The minimum amount of fresh water required in L2\n",
    "\n",
    "The minimum amount of minerals required a year\n",
    "\n",
    "Size of your two reactors\n",
    "\n",
    "Total water usage in Ben's house per year\n",
    "\n",
    "Total $CO_2$ and $O_2$ usage in Ben's house per year\n",
    "\n"
   ]
  },
  {
   "cell_type": "markdown",
   "metadata": {},
   "source": [
    "### Checkpoints\n",
    "\n",
    "S1=420.4 g/day\n",
    "\n",
    "H:C in food  1.8528 (mol basis)\n",
    "\n",
    "N:C in food  0.0957 (mol basis)\n",
    "\n",
    "Q3= Q4 = 5.514 l/day - make sure you get this when calculating unit 3 feed\n",
    "\n",
    "Numbers below will depend on on your digester volumes\n",
    "\n",
    "CNH3 (in Q3 before entering unit 4) - 145.3 mmol/L (for open system)\n",
    "\n",
    "CP (in Q3 before entering unit 4) - 10.8 mmol/L (for open system)\n",
    "\n",
    "CNa (in Q3 before entering unit 4) - 21.8 mmol/L (for open system)\n",
    "\n",
    "CNH3 (in Q4 before entering unit 5) - 153 mmol/L (for open system)\n",
    "\n",
    "CP (in Q4 before entering unit 5) - 13 mmol/L (for open system)\n",
    "\n",
    "CNa (in Q4 before entering unit 5) - 21.3 mmol/L (for open system)"
   ]
  },
  {
   "cell_type": "code",
   "execution_count": null,
   "metadata": {},
   "outputs": [],
   "source": []
  }
 ],
 "metadata": {
  "kernelspec": {
   "display_name": "Python 3 (ipykernel)",
   "language": "python",
   "name": "python3"
  },
  "language_info": {
   "codemirror_mode": {
    "name": "ipython",
    "version": 3
   },
   "file_extension": ".py",
   "mimetype": "text/x-python",
   "name": "python",
   "nbconvert_exporter": "python",
   "pygments_lexer": "ipython3",
   "version": "3.9.13"
  }
 },
 "nbformat": 4,
 "nbformat_minor": 4
}
