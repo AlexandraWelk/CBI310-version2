{
 "cells": [
  {
   "cell_type": "markdown",
   "metadata": {},
   "source": [
    "### Tutorial 1\n",
    "\n",
    "1) What is the enthalpy of combustion of glucose? [2840 kJ/mol]\n",
    "\n",
    "2) What is the avasilable free energy of the [ATP to ADP reaction](https://en.wikipedia.org/wiki/ATP_hydrolysis)? [69 kJ/mol]\n",
    "\n",
    "3) How much ATP is formed per oxygen reacting\n",
    "\n",
    "3) What is the [mechanical efficiency](https://openoregon.pressbooks.pub/bodyphysics/chapter/human-metabolism/) of the human body? How much of the inefficiency happens within the reactions of cellular respiration (where ATP is formed) and how much happens when ATP is hydolysed for example within muscle cells?"
   ]
  },
  {
   "cell_type": "code",
   "execution_count": null,
   "metadata": {},
   "outputs": [],
   "source": []
  }
 ],
 "metadata": {
  "kernelspec": {
   "display_name": "Python 3",
   "language": "python",
   "name": "python3"
  },
  "language_info": {
   "codemirror_mode": {
    "name": "ipython",
    "version": 3
   },
   "file_extension": ".py",
   "mimetype": "text/x-python",
   "name": "python",
   "nbconvert_exporter": "python",
   "pygments_lexer": "ipython3",
   "version": "3.7.6"
  }
 },
 "nbformat": 4,
 "nbformat_minor": 4
}
