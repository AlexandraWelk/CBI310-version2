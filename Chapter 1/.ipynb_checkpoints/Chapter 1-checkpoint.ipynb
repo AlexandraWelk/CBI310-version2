{
 "cells": [
  {
   "cell_type": "markdown",
   "metadata": {},
   "source": [
    "# Chapter 1: Human metabolism\n",
    "\n",
    "## It is all about energy\n",
    "\n",
    "Have you ever wondered what the purpose of life is? Not for humans specifically but for all lifeforms on earth? The answer is relatively straightforward. It is to procreate, making offspring is the name of the game. Ensuring that your genes get transferred beyond your own lifespan. Just look at bacteria, it is all about growing and creating offspring. We'll employ this principle in detail when we start to model our [anaerobic digesters].(https://en.wikipedia.org/wiki/Anaerobic_digestion). \n",
    "\n",
    "<img src=\"joke1.png\" width=\"400\" />\n",
    "\n",
    "In order to procreate, organisms require energy. In fact, in the bacterial kingdom, about 99% of energy is spent on procreation (or growth). Life can be interpreted as a scramble for energy; without it life is not possible. Food contains the energy that organisms require to grow. In this chapter, we'll be looking at how humans obtain and use energy. Before we can start with calculations, we need a thorough background on the process of obtaining energy from food. Below you will find a concise introduction with numerous references. If you feel that you are thrown into the deep end, it is a good thing. At least the confused mind is aware of the fact that a picture has not formed yet. Ensure that you work on your picture of the understanding of life.😀\n",
    "\n",
    "[Video: Bacterial growth](https://youtu.be/gEwzDydciWc )"
   ]
  },
  {
   "cell_type": "markdown",
   "metadata": {},
   "source": [
    "## Respiration\n",
    "\n",
    "It was about 2 billion years ago when the [development of life](https://en.wikipedia.org/wiki/Evolution) made a major breakthrough in obtaining energy in an oxygen-rich environment. During this event, an [archaea cell](https://en.wikipedia.org/wiki/Archaea) consumed a [bacterial cell](https://en.wikipedia.org/wiki/Bacteria). The consumed bacterial cell did not get digested but managed to survive within the archaea cell. The bacterial cell formed a beneficial [symbiotic relationship](https://en.wikipedia.org/wiki/Symbiosis) with the archaea cell by exchanging [ATP](https://en.wikipedia.org/wiki/Adenosine_triphosphate) for nutritional molecules. This beneficial relationship resulted in the formation of all [multicellular life](https://en.wikipedia.org/wiki/Eukaryote). Over time the bacterial cell altered itself to become the [mitochondrion](https://en.wikipedia.org/wiki/Mitochondrion). Today there are about 300 000 mitochondria (bacterial remnant) in each human cell that facilitate the process of [aerobic respiration](https://en.wikipedia.org/wiki/Cellular_respiration). The mitochondrion has its own unique [DNA](https://en.wikipedia.org/wiki/DNA) when compared to the DNA in the [nucleus](https://en.wikipedia.org/wiki/Cell_nucleus) of each human cell, thus providing evidence of its single cell origin. \n",
    "\n",
    "[Video: Mitochondria](https://www.youtube.com/watch?v=dxZN3KYEZjk)\n",
    "\n",
    "Before we go any further, it is imperative to understand the difference between Prokaryotes and Eukaryotes:\n",
    "\n",
    "[Video: Prokaryotes vs Eukaryotes](https://www.youtube.com/watch?v=RQ-SMCmWB1s)\n",
    "\n",
    "There are a lot of new concepts used in the paragraph and video above. Some will be elaborated on in upcoming chapters. Please use your browser to elucidate some of the terms and definitions. You are not required to have an in-depth understanding of all these new concepts, so be careful of spending too much time browsing, you can always get back to these concepts later. Ensure that you are a least ready for discussing your understanding in the group sessions of CBI310. More clarity will develop as we discuss and talk about it.\n",
    "\n",
    "As chemical engineers, we need a basic understanding of the biochemistry involved to generate ATP. The calculations of this chapter will all centre around aerobic respiration, so ensure that you build a basic biochemical understanding of this process (occurring within your own body).\n",
    "\n",
    "[Video: Respiration basics]( https://youtu.be/ZkqEno1r2jk )\n",
    "\n",
    "Pyruvate or [pyruvic acid](https://en.wikipedia.org/wiki/Pyruvic_acid) is a very important molecule when trying to understand how energy (ATP) is derived from food. You are probably familiar with the fact that all your energy is derived from [carbohydrates](https://en.wikipedia.org/wiki/Carbohydrate), [proteins](https://en.wikipedia.org/wiki/Protein), and [fats](https://en.wikipedia.org/wiki/Fat). Pyruvic acid can be seen as the metabolic intermediate obtained from the breakdown of carbohydrates, proteins, and fats. It is also the feed molecule to the mitochondria. The resulting products from this reaction are CO₂, water, and ATP. In our analysis, we will be using the carbohydrate [glucose](https://en.wikipedia.org/wiki/Glucose) as the standard starting molecule for generating energy (ATP), since glucose is the most common energy-rich substance in human blood. It is important to understand that fatty acids from fats, and amino acids from proteins can also be used as an energy supply. Similar to glucose, these molecules will break down to pyruvic acid before entering the mitochondria.  \n",
    "\n",
    "The breakdown of glucose to pyruvic acid is referred to as [glycolysis](https://en.wikipedia.org/wiki/Glycolysis). The short video below gives an overview of this process:\n",
    "\n",
    "[Video: Glycolysis](https://youtu.be/8Kn6BVGqKd8)\n",
    "\n",
    "The diagram below is a good reference point for glycolysis:\n",
    "\n",
    "<img src=\"glyc.png\" width=\"1000\" />\n",
    "\n",
    "Once pyruvate is formed, the [TCA cycle](https://en.wikipedia.org/wiki/Citric_acid_cycle) within the mitochondria can be employed to generate NADH and CO₂ from pyruvate:\n",
    "\n",
    "[Video: TCA cycle](https://www.youtube.com/watch?v=F6vQKrRjQcQ)\n",
    "\n",
    "The following diagram is a good reference for the TCA cycle:\n",
    "\n",
    "<img src=\"TCA.png\" width=\"800\" />\n",
    "\n",
    "The last step of aerobic respiration involves the generation of ATP from NADH in the process of [oxidative phosphorilation](https://en.wikipedia.org/wiki/Oxidative_phosphorylation).\n",
    "\n",
    "\n",
    "[Video: Electron transport chain](https://www.youtube.com/watch?v=xbJ0nbzt5Kw)\n",
    "\n",
    "[Video: ATP synthase](https://www.youtube.com/watch?v=3y1dO4nNaKY)\n",
    "\n",
    "How beautiful is the ATP synthase protein. An arrangement of amino acids that results in a moving biochemical molecule:\n",
    "\n",
    "<img src=\"atpsyn.gif\" width=\"300\" />\n"
   ]
  },
  {
   "cell_type": "markdown",
   "metadata": {},
   "source": [
    "## Energy in the human body\n",
    "\n",
    "We now have some background on how energy gets generated within the human body. Given this background we want to perform some basic calculations. Let's start with the body of an average male weighing 75kg. It is well established that the average male requires an energy intake (via food) of 9000kJ. This figure assumes that only daily task are performed, since additional exercise will increase the number. Let's assume for now that the man, let's call him Ben, only consumes Coke for his diet. This is clearly not a very healthy diet, but it will at least simplify the calculations. The first question to answer is how many Coke cans will Ben require in a day to sustain himself?"
   ]
  },
  {
   "cell_type": "code",
   "execution_count": null,
   "metadata": {},
   "outputs": [],
   "source": []
  },
  {
   "cell_type": "markdown",
   "metadata": {},
   "source": [
    "Do the calculation yourself. You should get an answer of just over 15 cans (330mL). Coke consists mainly of sugar (carbohydrates) and sugar has an energy content of 17kJ per dry gram. Can you confirm this figure from the nutritional information that you have Googled? How many (dry) grams of sugar does Ben burn within an hour? [22g]. How many teaspoons of sugar is this within an hour? [5.5] "
   ]
  },
  {
   "cell_type": "code",
   "execution_count": null,
   "metadata": {},
   "outputs": [],
   "source": []
  },
  {
   "cell_type": "markdown",
   "metadata": {},
   "source": [
    "Aerobic respiration has the following overall formula if we assume that only carbohydrates are used as fuel:\n",
    "\n",
    "$$C_6 H_{12} O_6+6O_2 \\to 6CO_2+6H_2 O$$\n",
    "\n",
    "(Sugar has a formula of $C_{12} H_{22} O_{11}$ and this can merely be seen as two glucose molecules minus a water molecule. We prefer to work with the monosaccharide glucose $C_6 H_{12} O_6$ in our calculations). Determine the volume of oxygen that Ben consumed within an hour (at Pretoria ambient conditions). At rest conditions, Ben takes 12 breaths per minute. Ben takes in 600mL of air in each breath. Determine the volume fraction of oxygen in Ben's out-breath. You can assume that the volume of air in the in-breath is the same as that of the out-breath [0.158%]."
   ]
  },
  {
   "cell_type": "code",
   "execution_count": null,
   "metadata": {},
   "outputs": [],
   "source": []
  },
  {
   "cell_type": "markdown",
   "metadata": {},
   "source": [
    "Now let's try and calculate the amount of ATP molecules generated per second in Ben's body. In order to do this we must consider glycolysis and the TCA cycle. Note that the 6 carbon molecule of glucose splits into two 3 carbon molecules and that each of these go onto the TCA cycle. Also note that GTP is the same as ATP. You will also have to count the amount of NADH that forms, since NADH is used in oxidative phosphorilation to generate ATP. Note that $QH_2$ in the graph above is the same as FADH. FADH is an electron carrier similar to NADH, the only difference being that the electrons in FADH contain slightly less energy. The overall process of oxidative phosphorylation can be descibed by the following equations: \n",
    "\n",
    "$$NADH+\\frac{1}{2}O_2 \\to (P/O)_{NADH}\\, ATP+H_2 O$$\n",
    "\n",
    "$$FADH_2+ \\frac{1}{2}O_2  \\to(P/O)_{FADH_2}\\, ATP+H_2 O$$\n",
    "\n",
    "The theoretical value for $(P/O)_{NADH}$ is 3 and that of $(P/O)_{FADH_2}$ is 2. $(P/O)$ stands for phosphate (added to ADP to form ATP) per atomic oxygen (thus the $\\frac{1}{2}O_2$ in the equation).\n",
    "\n",
    "Given this information you should be able to calculate 38 ATP molecules per molecule of glucose consumed. In real life the $(P/O)_{NADH}$ value is closer to 1.5 and the $(P/O)_{FADH_2}$ value is closer to 1, due to inefficiencies of respiration. This will reduce the 38 molecules of ATP to 21 molecules.\n",
    "\n",
    "If we count the molecules of ATP that gets formed within Ben's body every second, we see that it is 452 billion billion molecules. Just imagine how many ATP synthase molecules is required to perform this huge task.🤔"
   ]
  },
  {
   "cell_type": "code",
   "execution_count": null,
   "metadata": {},
   "outputs": [],
   "source": []
  },
  {
   "cell_type": "markdown",
   "metadata": {},
   "source": [
    "We now want to perform some calculations where the body is not in a resting state like before, but rather in a state of doing vigorous exersize. [$VO_2 max$](https://en.wikipedia.org/wiki/VO2_max) is an indicator of the performance potential of an athlete. The graph below gives a correlation between the power output of different cyclists versus their $VO_2 max$ reading. Let's assume that Ben's cycling potential are represented by the grpah below and that Ben has a $VO_2 max$ of 60 ml/min/kg. \n",
    "\n",
    "<img src=\"VO2max_power.png\" width=\"500\" />\n",
    "\n",
    "Determine the rate of glucose consumption that Ben achieves when he is cycling at his $VO_2 max$.[] What is his calorific consumption rate when this occurs? Why is this not the same as his work output."
   ]
  },
  {
   "cell_type": "markdown",
   "metadata": {},
   "source": [
    "Do another calculation for a lower vo2max and see that the fraction is decreasing, getting closer to 0.25 like under lower output excersize."
   ]
  },
  {
   "cell_type": "markdown",
   "metadata": {},
   "source": [
    "## Extras where to use?\n",
    "\n",
    "\n",
    "\n",
    "It is usefull to think of the combustion of coal when thinking about generating energy in your own body. The energy generation process is all about burning molecules with carbon backbones in an oxygen rich environment to form water and CO₂. When coal is burned there is a fire and things get very hot, but when food is burned we need to perform the operation at 37C and accordingly we need some fancy catalysts called enzymes to facilitate the process. Over 4.5 years of evolution nature has developed the most beautiful set of chemistry to release energy from molecules like carbohydraytes, proteins and fats. It is amazing to realise that the amoba in the pond below Engineering 1 building uses the exact same set of chemistry steps to generate energy as we humans do. \n",
    "\n",
    "***\n",
    "\n",
    "\n",
    "\n",
    "$$6H_2O + 6CO_2 + energy \\rightleftharpoons C_6 H_{12} O_6+6O_2$$\n",
    "\n",
    "So a plant takes water, carbon dioxide and sunlight to produce glucose and oxygen, a very useful process. Glucose can thus be seen as the chemical that stores the sunlight in a chemical format. Note the reversible arrow in the equation, it is very important. The reverse process is referred to as respiration, where glucose is consumed in combination with oxygen in order to obtain energy. This is exactly what happens in your body, you release the old sunlight energy into your body to perform your daily tasks.\n",
    "\n",
    "The above equation also relates to external energy sources that you use on a daily basis. The petrol in your car originated from fossil reserves, decomposed plant material from millions of year ago. The same for electricity that is mainly produced in the RSA by burning coal, another form of fossil reserve. Although a plant does not consist out of only glucose, it can be seen as the most crucial building block for making plants so in a sense the glucose represents plant material. It is all about harvesting old sunlight and this chapter is about the biochemistry of doing exactly this.\n",
    "\n"
   ]
  },
  {
   "cell_type": "markdown",
   "metadata": {},
   "source": []
  },
  {
   "cell_type": "code",
   "execution_count": null,
   "metadata": {},
   "outputs": [],
   "source": []
  },
  {
   "cell_type": "code",
   "execution_count": null,
   "metadata": {
    "collapsed": true
   },
   "outputs": [],
   "source": []
  }
 ],
 "metadata": {
  "kernelspec": {
   "display_name": "Python 3",
   "language": "python",
   "name": "python3"
  },
  "language_info": {
   "codemirror_mode": {
    "name": "ipython",
    "version": 3
   },
   "file_extension": ".py",
   "mimetype": "text/x-python",
   "name": "python",
   "nbconvert_exporter": "python",
   "pygments_lexer": "ipython3",
   "version": "3.8.3"
  }
 },
 "nbformat": 4,
 "nbformat_minor": 2
}
