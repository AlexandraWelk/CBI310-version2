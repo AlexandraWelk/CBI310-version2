{
 "cells": [
  {
   "cell_type": "markdown",
   "metadata": {},
   "source": [
    "# Chapter 1: Human metabolism\n",
    "\n",
    "# Hi Caela and Jacky, can you see my changes!"
   ]
  },
  {
   "cell_type": "markdown",
   "metadata": {},
   "source": [
    "It was about 2 billion years ago when the [development of life](https://en.wikipedia.org/wiki/Evolution) made a major breakthrough in obtaining energy in an oxygen rich environment. During this event an [archea cell](https://en.wikipedia.org/wiki/Archaea) consumed a [bacterial cell](https://en.wikipedia.org/wiki/Bacteria). The consumed bacterial cell did not get digested but managed to survive within the archea cell. The bacterial cell formed a beneficial [symbiotic relationship](https://en.wikipedia.org/wiki/Symbiosis) with the archea cell, by exchanging [ATP](https://en.wikipedia.org/wiki/Adenosine_triphosphate) for nutritional molecules. This beneficial relationship resulted in the formation of all [multicellular life](https://en.wikipedia.org/wiki/Eukaryote). Over time the bacterial cell altered itself to become the [mitochondrion](https://en.wikipedia.org/wiki/Mitochondrion). Today there is about 300 000 mitochondria (bacterial remnant) in each human cell that facilitate the process of [aerobic respiration](https://en.wikipedia.org/wiki/Cellular_respiration). The mitochondrion has its own unique [DNA] (https://en.wikipedia.org/wiki/DNA) when compared to the DNA in the [nucleus](https://en.wikipedia.org/wiki/Cell_nucleus) of each human cell thus providing evidence of its single cell origin. \n",
    "\n",
    "[Mitochondria video](https://www.youtube.com/watch?v=dxZN3KYEZjk)\n",
    "\n",
    "There is a lot of new concepts used in the paragraph and video above. Some will be elaborated on in upcoming chapters. Please use your browser to elucidate on some of the terms and definitions. You are not required to have an in-depth understanding of all these new concepts, so be carefull to spend too much time browsing, you can always get back to these concepts later. Ensure that you are a least ready for discussing your understanding in the group sessions of CBI310. More clarity will develop as we discuss and talk about it.\n",
    "\n",
    "As chemical engineers we need a basic understanding of the biochemistry involved to generate ATP. The calculations of this chapter will all centre around aerobic respiration, so ensure to build a basic biochemical understanding of this process (occuring wihthin your own body)\n",
    "\n",
    "[Respiration basics]( https://youtu.be/ZkqEno1r2jk )\n",
    "\n",
    "Pyruvate or [pyruvic acid](https://en.wikipedia.org/wiki/Pyruvic_acid) is a very important molecule when trying to understand how energy (ATP) is derived from food. You are probably familiar with the fact that all your energy is derived from either [carbohydrates](https://en.wikipedia.org/wiki/Carbohydrate), [proteins](https://en.wikipedia.org/wiki/Protein) and [fats](https://en.wikipedia.org/wiki/Fat). Pyruvic acid can be seen as the metabolic intermediate obtained from the breakdown of carbohydrates, proteins and fat. It is also the feed molecule to the mitochondria. The resulting products from this reaction is CO₂, water and ATP. In our analysis we will be using the carbohydrate [glucose](https://en.wikipedia.org/wiki/Glucose) as the standard starting molecule for generating energy (ATP) since glucose is the most common energy containing substance in human blood. It is important to understand that fatty acids from fats and amino acids from proteins can also be used as energy supply. Similar to glucose these molecules will break down to pyruvic acid before entering the mitochondria.  \n",
    "\n",
    "The breakdown of glucose to pyruvic acid is referred to as [glycolysis](https://en.wikipedia.org/wiki/Glycolysis). The short video below gives an overview of glycolysis:\n",
    "\n",
    "[Glycolysis](https://youtu.be/8Kn6BVGqKd8)\n",
    "\n",
    "The diagram below is a good reference point for glycolysis:\n",
    "\n",
    "<img src=\"glyc.png\" width=\"1000\" />\n",
    "\n",
    "Once pyruvate is formed the [TCA cycle](https://en.wikipedia.org/wiki/Citric_acid_cycle) within the mitochondria can be employed to generate NADH and CO₂ from pyruvate:\n",
    "\n",
    "[TCA cycle](https://www.youtube.com/watch?v=F6vQKrRjQcQ)\n",
    "\n",
    "The following diagram is a good reference for the TCA cycle:\n",
    "\n",
    "<img src=\"TCA.png\" width=\"800\" />\n",
    "\n",
    "The last step of aerobic respiration involves the generation of ATP from NADH in the process of [oxidative phosphorilation](https://en.wikipedia.org/wiki/Oxidative_phosphorylation)\n",
    "\n",
    "\n",
    "[Electron transport chain](https://www.youtube.com/watch?v=xbJ0nbzt5Kw)\n",
    "[ATP synthase](https://www.youtube.com/watch?v=3y1dO4nNaKY)\n",
    "\n",
    "How beautifull is the ATP synthase protein. An arrangement of amino acids that results in a moving biochemical molecule:\n",
    "\n",
    "<img src=\"atpsyn.gif\" width=\"300\" />\n"
   ]
  },
  {
   "cell_type": "markdown",
   "metadata": {},
   "source": [
    "\n",
    "The majority of this course is centered around food. Whether it is our own nutritional and energetic requirements from food, or the production of food or the processing of food waste, one thing is certain, food is very central to our existance. Let's dish into the chemistry of food.\n",
    "\n",
    "Have you ever wondered how much energy your body requires to perform its basic functions? When we are not doing any active exercise the body utilises about 100W of energy, this is the same amount of energy that 6 energy saving light bulbs require. This number can drastically increase if you start doing exercise. A sprinter like Usain Bolt can deliver 2 kW of energy output for a few seconds, this is similar to the modern kettle in your kitchen. \n",
    "\n",
    "It is interesting to observe that most energy outputs on earth can be directly related to the sun. Just take the kettle and light saving bulbs, both get their energy from electricity. Electricity in South Africa is mostly generated from burning coal, while coal is really just ancient plant matter that formed via photosynthesis in sunlight. So the light shining and kettle boiling is effectiviely the unleashing of stored sunlight. It is the same for humans, our engines are powered by food that is effectively just stored sunlight. In chapter 3 we'll go deeper into the world and chemistry of agriculture, in this chapter we'll just look into how energy is generated from food.\n",
    "\n",
    "It is usefull to think of the combustion of coal when thinking about generating energy in your own body. The energy generation process is all about burning molecules with carbon backbones in an oxygen rich environment to form water and CO₂. When coal is burned there is a fire and things get very hot, but when food is burned we need to perform the operation at 37C and accordingly we need some fancy catalysts called enzymes to facilitate the process. Over 4.5 years of evolution nature has developed the most beautiful set of chemistry to release energy from molecules like carbohydraytes, proteins and fats. It is amazing to realise that the amoba in the pond below Engineering 1 building uses the exact same set of chemistry steps to generate energy as we humans do. Accordingly it is imperative to have some sort of understanding of the tricarboxylic acid cycle (TCA cycle) and oxidative phosphorylation. The videos below will give you a basic introduction to the biochemistry of energy generation\n",
    "\n",
    "***\n",
    "\n",
    "Life is all about obtaining energy. Without energy there is no life. Almost all of the energy on earth originates from the sun, the eternal battery that powers life. In this regard plants play a very important role since they have the ability to capture light energy and store it into chemical energy via the process of photosynthesis. Since this course focus on micro-organisms we won’t go into the details of photosynthesis, we’ll only use the following chemical equation to describe the process:\n",
    "\n",
    "$$6H_2O + 6CO_2 + energy \\rightleftharpoons C_6 H_{12} O_6+6O_2$$\n",
    "\n",
    "So a plant takes water, carbon dioxide and sunlight to produce glucose and oxygen, a very useful process. Glucose can thus be seen as the chemical that stores the sunlight in a chemical format. Note the reversible arrow in the equation, it is very important. The reverse process is referred to as respiration, where glucose is consumed in combination with oxygen in order to obtain energy. This is exactly what happens in your body, you release the old sunlight energy into your body to perform your daily tasks.\n",
    "\n",
    "The above equation also relates to external energy sources that you use on a daily basis. The petrol in your car originated from fossil reserves, decomposed plant material from millions of year ago. The same for electricity that is mainly produced in the RSA by burning coal, another form of fossil reserve. Although a plant does not consist out of only glucose, it can be seen as the most crucial building block for making plants so in a sense the glucose represents plant material. It is all about harvesting old sunlight and this chapter is about the biochemistry of doing exactly this.\n",
    "\n"
   ]
  },
  {
   "cell_type": "markdown",
   "metadata": {},
   "source": []
  },
  {
   "cell_type": "code",
   "execution_count": null,
   "metadata": {},
   "outputs": [],
   "source": []
  },
  {
   "cell_type": "code",
   "execution_count": null,
   "metadata": {
    "collapsed": true
   },
   "outputs": [],
   "source": []
  }
 ],
 "metadata": {
  "kernelspec": {
   "display_name": "Python 3",
   "language": "python",
   "name": "python3"
  },
  "language_info": {
   "codemirror_mode": {
    "name": "ipython",
    "version": 3
   },
   "file_extension": ".py",
   "mimetype": "text/x-python",
   "name": "python",
   "nbconvert_exporter": "python",
   "pygments_lexer": "ipython3",
   "version": "3.7.6"
  }
 },
 "nbformat": 4,
 "nbformat_minor": 2
}
