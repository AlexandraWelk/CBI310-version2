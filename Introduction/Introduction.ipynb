{
 "cells": [
  {
   "cell_type": "markdown",
   "metadata": {},
   "source": [
    "# Introduction to CBI310\n",
    "\n",
    "Hi there CBI310 students of 2023! My intention is to teach you stuff that you will use in your future careers. You guys are the cream of the crop when it comes to young intelectuals in Southern Africa. It is YOU who will protect the future of this planet and it is my job to assist you in this quest! Instead of thinking of marks (so boring 😀) rather think about sustainability!\n",
    "\n",
    "<img src=\"intro1.jpeg\" width=\"450\" />"
   ]
  },
  {
   "cell_type": "markdown",
   "metadata": {},
   "source": [
    "A good place to start is the [food-energy-water nexus](https://en.wikipedia.org/wiki/Water,_energy_and_food_security_nexus). Future sustainability on this planet will require an integrated approach to the problems we are facing today. The FEW-nexus is a prime example of this, where future energy, food and water security is really not a seperate problem. Chemical engineering is traditionally deeply involved in energy and water matters, but in the future the issue of sustainable food production will also become part of the Chemical Engineering domain, just have a look at this chemical engineering paper on the [production of Kale](https://www.sciencedirect.com/science/article/pii/S0048969721009426)😀. \n",
    "\n",
    "<img src=\"intro2.png\" width=\"550\" />\n",
    "\n",
    "In this course we'll be looking at food, energy and water. Since [biochemical engineering](https://en.wikipedia.org/wiki/Biochemical_engineering) is our point of departure you will require some biology basics in order to develop yourself as a biochemical engineer. In the old days the biology lectures were at the start of the semester, but this year we'll weave the biology lessons into most of the different chapters. We'll also perform engineering calculations right from the start. An interactive style to tutorials will be used, where you will typically be required to perform calculations while you are working through class examples. All preparation will have to be performed by yourself, since all contact sessions will be work sessions where we work in randomly assigned groups of 3, to discuss the content and calculations of each chapter.\n",
    "\n",
    "In the first 4 chapters we'll introduce a lot of fundamental biology and biochemistry. In chapter 1 and 2 we will look at the human body and model it as a chemical process in order to understand the food requirements of humans. In chapter 3 we will look at at the production of edible plants, also using a chemical processing approach.Chapter 4 is all about livestock where we look at the [heterotrophic side](https://en.wikipedia.org/wiki/Heterotroph) of agriculture in order to understand the flow of carbon, oxygen, hydrogen, nitrogen and other minerals through the foodchain. In chapter 5 we'll start looking at energy, where foodwaste and manure are viewed as potential energy source through the process of [anaerobic digestion](https://en.wikipedia.org/wiki/Anaerobic_digestion). Chapters 6 and 7 will be dedicated to the chemical engineering modelling of anaerobic digesers where simple rate expressions will be numerically integrated in Python☹️. In chapter 8 and 9 we'll start looking at water, where the aerobic purification of water in the form of the [activated sludge process](https://en.wikipedia.org/wiki/Activated_sludge) wil be studied and modelled.   "
   ]
  },
  {
   "cell_type": "markdown",
   "metadata": {},
   "source": [
    "The whole course is presented in Ipython Notebooks. This is handy since most of the calculations will be performed in Python (using the notebook interface). The course is not just there to teach you about future sustainability concepts but it also has the intention to develop your mathematical and programming skills that will be extensively used in the rest of your 3rd and 4th year. you will only realise this benefit at a later stage, for now you will just have to trust me."
   ]
  },
  {
   "cell_type": "markdown",
   "metadata": {},
   "source": [
    "Jacki and Caela, we need a guide here on how to download and use the notebooks. With pictures and all. remember to mention the [rendered notebooks](https://nbviewer.org/github/willienicol/CBI310-version2/blob/main/List%20of%20contents/List%20of%20contents.ipynb) as well as the Github repository. Try and keep the explanation short."
   ]
  },
  {
   "cell_type": "code",
   "execution_count": null,
   "metadata": {},
   "outputs": [],
   "source": []
  }
 ],
 "metadata": {
  "kernelspec": {
   "display_name": "Python 3 (ipykernel)",
   "language": "python",
   "name": "python3"
  },
  "language_info": {
   "codemirror_mode": {
    "name": "ipython",
    "version": 3
   },
   "file_extension": ".py",
   "mimetype": "text/x-python",
   "name": "python",
   "nbconvert_exporter": "python",
   "pygments_lexer": "ipython3",
   "version": "3.9.13"
  }
 },
 "nbformat": 4,
 "nbformat_minor": 4
}
