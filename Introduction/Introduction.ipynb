{
 "cells": [
  {
   "cell_type": "markdown",
   "metadata": {},
   "source": [
    "# Introduction to CBI310\n",
    "\n",
    "## Let's work towards protecting  🌍!\n",
    "\n",
    "Hi there CBI310 students of 2023! My intention is to teach you stuff that you will use in your future careers. You guys are the cream of the crop when it comes to young intellectuals in Southern Africa. It is YOU who will protect the future of this planet and it is my job to assist you in this quest! Instead of thinking of marks (so boring 😀) rather think about sustainability and the future of your grandchildren!\n",
    "\n",
    "<img src=\"intro1.jpeg\" width=\"450\" />"
   ]
  },
  {
   "cell_type": "markdown",
   "metadata": {},
   "source": [
    "## Chemical elements, energy and water\n",
    "\n",
    "This course is all about the chemical elements that sustain life. We will be looking at how these selected elements form the basis of all [biomass](https://en.wikipedia.org/wiki/Biomass). We have to understand how these elements combine to form the molecules of life, and we need to study some biology and biochemistry accordingly. Look at the picture below. It's amazing how few of the elements are required to sustain life. The elements encircled in yellow are the ones that we'll use in our calculations, while the elements encircled in red represent elements that are required in typically very small quantities.  \n",
    "\n",
    "<img src=\"elements.png\" width=\"650\" />\n",
    "\n",
    "Another central aspect of the theme of life-sustaining elements, is the energy contained in the bonds between these elements. We'll look up to the ☀️ as our only source of energy in this course and we'll concern ourselves with storing the energy as chemical energy in the biomass. We'll scrutinize how humans and animals derive energy from biomass in the form of food and we will also look at making methane-rich biogas from the food biomass parts that we cannot eat and the waste from food that we have digested. \n",
    "\n",
    "Lastly, we'll take a closer look at water in order to understand how the reckless distribution of life bearing elements via the waterways has a disastrous influence on sensitive ecosystems. Hopefully, at the end of this course you will understand how the constant and controlled recycle of the life-bearing elements is the answer to living a sustainable future. "
   ]
  },
  {
   "cell_type": "markdown",
   "metadata": {},
   "source": [
    "## The nexus\n",
    "\n",
    "We have spoken about biomass, energy and water. Scientists like to talk about the  [food-energy-water nexus](https://en.wikipedia.org/wiki/Water,_energy_and_food_security_nexus). Future sustainability on this planet will require an integrated approach to the problems we are facing today. The FEW-nexus is a prime example of this, where future energy, food, and water security are really not seperate problems. Chemical engineering is traditionally deeply involved in energy and water matters, but in the future the issue of sustainable food production will also become part of the Chemical Engineering domain. Just have a look at this chemical engineering paper on the [production of Kale](https://www.sciencedirect.com/science/article/pii/S0048969721009426)😀. \n",
    "\n",
    "<img src=\"intro2.png\" width=\"650\" />\n",
    "\n",
    "## What lies ahead? \n",
    "\n",
    "Since [biochemical engineering](https://en.wikipedia.org/wiki/Biochemical_engineering) is our point of departure, you will require some biology basics in order to develop yourself as a biochemical engineer. In the old days the biology lectures were at the start of the semester, but this year we'll weave the biology lessons into most of the different chapters. We'll also perform engineering calculations right from the start. An interactive style to tutorials will be used, where you will typically be required to perform calculations while you are working through class examples. All preparation will have to be performed by yourself, since all contact sessions will be work sessions where we work in randomly assigned groups of 3, to discuss the content and calculations of each chapter.\n",
    "\n",
    "In the first 5 chapters we'll introduce a lot of fundamental biology and biochemistry. In chapter 1 and 2 we will look at the human body and model it as a chemical process in order to understand the food requirements of humans. In chapter 3 we will look at at the production of edible plants, also using a chemical processing approach. Chapter 4 is all about livestock where we look at the [heterotrophic side](https://en.wikipedia.org/wiki/Heterotroph) of agriculture in order to understand the flow of carbon, oxygen, hydrogen, nitrogen and other minerals through the foodchain. In chapter 5, we'll start looking at energy, where foodwaste and manure are viewed as potential energy sources through the process of [anaerobic digestion](https://en.wikipedia.org/wiki/Anaerobic_digestion). Chapters 6 and 7 will be dedicated to the chemical engineering modelling of anaerobic digesters where simple rate expressions will be numerically integrated in Python☹️. In chapter 8 and 9 we'll start looking at water, where the aerobic purification of water in the form of the [activated sludge process](https://en.wikipedia.org/wiki/Activated_sludge) wil be studied and modelled. In chapter 10, we'll combine our knowledge in order to look at creative recycle options within the food-energy-water nexus.  "
   ]
  },
  {
   "cell_type": "markdown",
   "metadata": {},
   "source": [
    "## The magic of Ipython Notebooks\n",
    "\n",
    "The whole course is presented in Ipython Notebooks. This is handy since most of the calculations will be performed in Python (using the notebook interface). The course is not just there to teach you about future sustainability concepts but it also has the intention to develop your mathematical and programming skills that will be extensively used in the rest of your 3rd and 4th year. You will only realise this benefit at a later stage, for now you will just have to trust me. In order to get started with the online interface and the Python calculations, you are required to work through the following information:\n",
    "\n",
    "It seems safe to assume you have installed jupyter notebook on your laptop during MPR and can run it but just in case:\n",
    "\n",
    "$1$) Go download and install [Anaconda](https://www.anaconda.com/products/distribution) by following the steps on the site\n",
    "\n",
    "$2$) You can easily run jupyter notebook in a file by typing 'jupyter notebook' in the adress bar and pressing enter, like so:\n",
    "<img src=\"open jupyter.png\" width=\"900\" />\n",
    "\n",
    "The notes can be accessed in 2 ways:\n",
    "\n",
    "$1$) Through this [rendered link](https://nbviewer.org/github/willienicol/CBI310-version2/blob/main/List%20of%20contents/List%20of%20contents.ipynb) so that it functions as a website\n",
    "\n",
    "$2$) By downloading them onto your laptop through Github and accessing them directly in your file explorer (do this by accessing the repository on [Github](https://desktop.github.com/) and cloning it)\n",
    "\n",
    "Please note: <b>These notes are under construction! </b> This means that they may change throughout the semester. Therefore, <b>please do NOT print</b> them out - otherwise you might end up having to reprint them multiple times!\n",
    "\n",
    "<img src=\"under construction.jpg\" width=\"400\" />\n",
    "\n",
    "How do you make sure you have the latest version of the notes then?\n",
    "When using the website link these notes should be up to date as we will render any changes to it. \n",
    "When using the notes in your file explorer you will have to \"fetch\" and \"pull\" any changes in the Github desktop app so that they are downloaded into your files. See below:\n",
    "\n",
    "<img src=\"fetch.png\" width=\"700\" />\n",
    "<img src=\"pull.jpg\" width=\"600\" />\n",
    "\n",
    "If you have any trouble with accessing the notes please ask your TAs. "
   ]
  },
  {
   "cell_type": "code",
   "execution_count": null,
   "metadata": {},
   "outputs": [],
   "source": []
  }
 ],
 "metadata": {
  "kernelspec": {
   "display_name": "Python 3 (ipykernel)",
   "language": "python",
   "name": "python3"
  },
  "language_info": {
   "codemirror_mode": {
    "name": "ipython",
    "version": 3
   },
   "file_extension": ".py",
   "mimetype": "text/x-python",
   "name": "python",
   "nbconvert_exporter": "python",
   "pygments_lexer": "ipython3",
   "version": "3.9.13"
  }
 },
 "nbformat": 4,
 "nbformat_minor": 4
}
